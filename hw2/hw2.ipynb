{
 "cells": [
  {
   "cell_type": "code",
   "execution_count": 1,
   "id": "220fd7cf-d12e-4f80-b09e-6085ac022972",
   "metadata": {},
   "outputs": [],
   "source": [
    "using LinearAlgebra\n",
    "using Plots"
   ]
  },
  {
   "cell_type": "code",
   "execution_count": 2,
   "id": "f1a4844d-2976-4454-a1cb-9be9e6736df8",
   "metadata": {},
   "outputs": [
    {
     "data": {
      "text/plain": [
       "Base.setindex!"
      ]
     },
     "execution_count": 2,
     "metadata": {},
     "output_type": "execute_result"
    }
   ],
   "source": [
    "\"\"\"\n",
    "Podatkovni tip za razprseno matriko.\n",
    "\n",
    "Matrika je razdeljena na dve matriki, V in I. V hrani vse neničelne vrenosti matrike, I pa indexe teh vrednosti.\n",
    "\n",
    "A = RazprsenaMatrika([1 2; 1 0; 1 2], [1 2; 2 0 ; 2 3]) —>\n",
    "\n",
    "[1 2 0]\n",
    "[0 1 0]\n",
    "[0 1 2]\n",
    "\n",
    "\"\"\"\n",
    "\n",
    "mutable struct RazprsenaMatrika{T} <: AbstractArray{T,2}\n",
    "    V::Matrix{T}\n",
    "    I::Matrix{Int64}\n",
    "end\n",
    "\n",
    "import Base:size,getindex,setindex!\n",
    "\n",
    "\"\"\"\n",
    "    size(A)\n",
    "\n",
    "    Vrne velikost razprsene matrike\n",
    "\n",
    "\"\"\"\n",
    "function size(A::RazprsenaMatrika)\n",
    "    return (size(A.V)[1],maximum(A.I))\n",
    "end\n",
    "    \n",
    "\"\"\"\n",
    "    getindex(A,I) ali A[i,j]\n",
    "\n",
    "    Vrne element na mestu i,j\n",
    "\n",
    "\"\"\"\n",
    "function getindex(A::RazprsenaMatrika, I::Vararg{Int,2})\n",
    "    \n",
    "    if I > size(A)\n",
    "        return 0\n",
    "    end\n",
    "    \n",
    "    i = I[1]\n",
    "    j = I[2]\n",
    "    \n",
    "    for col=1:size(A.I)[2]\n",
    "        if j == A.I[i,col]\n",
    "            return A.V[i,col]\n",
    "        end\n",
    "    end\n",
    "    \n",
    "    return 0\n",
    "            \n",
    "end\n",
    "\n",
    "\"\"\"\n",
    "    setindex!(A,v,I) ali A[i,j] = v\n",
    "\n",
    "    Nastavi element na mestu i, j na v.\n",
    "\n",
    "\"\"\"\n",
    "function setindex!(A::RazprsenaMatrika, v, I::Vararg{Int,2})\n",
    "    \n",
    "    if I > size(A)\n",
    "        return\n",
    "    end\n",
    "    \n",
    "    i = I[1]\n",
    "    j = I[2]\n",
    "    \n",
    "    #if input is zero, find the entry, remove it, and move the rest of the entries to fill the gap\n",
    "    if v == 0\n",
    "        for col=1:size(A.I)[2]\n",
    "            if j == A.I[i,col]\n",
    "                for er=col:size(A.I)[2]-1\n",
    "                    #display(col)\n",
    "                    A.I[i,er] = A.I[i,er+1]\n",
    "                    A.V[i,er] = A.V[i,er+1]\n",
    "                end\n",
    "                A.I[i,size(A.I)[2]] = 0\n",
    "                A.V[i,size(A.V)[2]] = 0\n",
    "            end\n",
    "        end\n",
    "        return\n",
    "    end\n",
    "    \n",
    "    #check if there is room for one more value in the row, and if not, append another empty row\n",
    "    if A.I[i,size(A.I)[2]] != 0\n",
    "        A.I = hcat(A.I,zeros(size(A.I)[1]))\n",
    "        A.V = hcat(A.V,zeros(size(A.V)[1]))   \n",
    "    end\n",
    "\n",
    "    #find the value in the sparse representation\n",
    "    for col=1:size(A.I)[2]\n",
    "        if j == A.I[i,col] || A.I[i,col] == 0    #if the A[i,j] is nonzero, we can just replace the value\n",
    "            A.I[i,col] = j                       #same if all values in I are smaller than j, we can just replace the last zero\n",
    "            A.V[i,col] = v\n",
    "            return\n",
    "        end\n",
    "        if j < A.I[i,col]                        #if j is in the middle of the row, we move all values forward one place, then replace the value at i,j\n",
    "            for er=size(A.I)[2]-1:-1:col\n",
    "                #display(col)\n",
    "                A.I[i,er+1] = A.I[i,er]\n",
    "                A.V[i,er+1] = A.V[i,er]\n",
    "            end\n",
    "            A.I[i,col] = j\n",
    "            A.V[i,col] = v\n",
    "            return\n",
    "        end\n",
    "    end\n",
    "        \n",
    "end"
   ]
  },
  {
   "cell_type": "code",
   "execution_count": 15,
   "id": "08d5cae1-74c6-41cd-83f2-15ad2817fc08",
   "metadata": {},
   "outputs": [
    {
     "data": {
      "text/plain": [
       "lastindex (generic function with 22 methods)"
      ]
     },
     "execution_count": 15,
     "metadata": {},
     "output_type": "execute_result"
    }
   ],
   "source": [
    "import Base:firstindex,lastindex\n",
    "\n",
    "\"\"\"\n",
    "    Funkciji, ki vrneta prvi in zadnji index matrike\n",
    "\"\"\"\n",
    "\n",
    "function firstindex(A::RazprsenaMatrika)\n",
    "    \n",
    "    for i=1:size(A.I)[1]\n",
    "         if A.I[i][1] != 0\n",
    "            return (i-1)*size(A)[2]+A.I[i][1]\n",
    "        end\n",
    "    end\n",
    "        \n",
    "    return 0\n",
    "            \n",
    "end\n",
    "\n",
    "function lastindex(A::RazprsenaMatrika)\n",
    "    \n",
    "    for i=size(A.I)[1]:1\n",
    "         if A.I[i][1] != 0\n",
    "            return (i-1)*size(A)[2],maximum(A.I[i])\n",
    "        end\n",
    "    end\n",
    "        \n",
    "    return size(A)[1] * size(A)[2]\n",
    "            \n",
    "end"
   ]
  },
  {
   "cell_type": "code",
   "execution_count": 3,
   "id": "f7899f80-7042-4bf0-8bcd-e4712c5e6c7a",
   "metadata": {},
   "outputs": [
    {
     "data": {
      "text/plain": [
       "sor"
      ]
     },
     "execution_count": 3,
     "metadata": {},
     "output_type": "execute_result"
    }
   ],
   "source": [
    "import Base:*\n",
    "#using LinearAlgebra\n",
    "\n",
    "\"\"\"\n",
    "    A*v\n",
    "    Množenje razprsene matrike A s vektorjem v\n",
    "\"\"\"\n",
    "function *(A::RazprsenaMatrika,v::Vector)\n",
    "    \n",
    "    y = zeros(size(A)[1])\n",
    "\n",
    "    for i=1:size(A)[1]\n",
    "        for col=1:size(A.I)[2]\n",
    "            j = A.I[i,col]\n",
    "            if j != 0\n",
    "                y[i]+=v[j]*A[i,j]\n",
    "            end\n",
    "        end\n",
    "    end\n",
    "    \n",
    "    return y\n",
    "end\n",
    "\n",
    "\"\"\"\n",
    "    x, it = sor(A,b,x0,omega,tol,maxiter)\n",
    "\n",
    "    Izračuna rešitev sistema Ax = b s SOR iteracijo.\n",
    "\n",
    "    Vrne končno rešitev x in število iteracij.\n",
    "\"\"\"\n",
    "function sor(A::RazprsenaMatrika, b::Vector, x0, omega, tol=1e-10, maxiter=100)\n",
    "    it = 0\n",
    "    x = x0\n",
    "\n",
    "    #display(A)\n",
    "    #display(x)\n",
    "    #display(b)\n",
    "    \n",
    "    res = norm(A*x-b,Inf)\n",
    "    \n",
    "    while res > tol && it < maxiter\n",
    "        #display(x)\n",
    "        for i=1:size(A)[1]\n",
    "            sigma = 0\n",
    "            for col=1:size(A.I)[2]\n",
    "                j = A.I[i,col]\n",
    "                if j != i && j != 0\n",
    "                     sigma += A.V[i,col] * x[j]\n",
    "                end\n",
    "            end\n",
    "            x[i] = (1-omega)*x[i] + (omega/A[i,i])*(b[i]-sigma)\n",
    "        end\n",
    "        res = norm(A*x-b,Inf)\n",
    "        it += 1\n",
    "    end\n",
    "    \n",
    "    return x,it\n",
    "    \n",
    "end"
   ]
  },
  {
   "cell_type": "code",
   "execution_count": 60,
   "id": "b2ffc256-8f7a-4453-a1f1-d98850a68ebd",
   "metadata": {},
   "outputs": [
    {
     "data": {
      "text/plain": [
       "get_random_graph (generic function with 1 method)"
      ]
     },
     "execution_count": 60,
     "metadata": {},
     "output_type": "execute_result"
    }
   ],
   "source": [
    "\"\"\"\n",
    "    adjmat, b = get_graph(n,edgelist,fixed,values)\n",
    "\n",
    "    Izračuna matriko in desne vrednosti za računanje vložitve grafa po eni dimenziji.\n",
    "    Graf je podan v obliki seznama povezav, seznama fiksiranih vozlišč in položaji teh vozlišč.\n",
    "    Fixirana vozlišča morajo biti urejena padajoče\n",
    "\"\"\"\n",
    "function get_graph(n, edgelist, fixed, values)\n",
    "    adjmat = zeros(n,n)\n",
    "    #adjmat = RazprsenaMatrika(zeros(n,2), zeros(Int64,n,2))\n",
    "    b = zeros(n)\n",
    "    \n",
    "    #display(adjmat)\n",
    "    #display(edgelist)\n",
    "    \n",
    "    #initialize the adjacency matrix\n",
    "    for edge in edgelist\n",
    "        adjmat[edge[1],edge[2]] = 1.0\n",
    "        adjmat[edge[2],edge[1]] = 1.0\n",
    "    end\n",
    "    \n",
    "    #per the embedding equation: all neighbours of node have weight 1, while the node itself has weight -n of nodes\n",
    "    for i=1:n\n",
    "        adjmat[i,i] = -sum(adjmat[i,:])\n",
    "    end\n",
    "    \n",
    "    #move the fixed nodes to right side\n",
    "    for i=1:length(fixed)\n",
    "        b -= adjmat[fixed[i],:]*values[i]\n",
    "        \n",
    "    end\n",
    "    \n",
    "    #display(adjmat)\n",
    "    \n",
    "    #remove the fixed nodes from the system\n",
    "    for i in fixed\n",
    "        adjmat = adjmat[1:end .!= i,1:end .!= i]\n",
    "        b = b[1:end .!= i]\n",
    "    end\n",
    "    \n",
    "    #display(adjmat)\n",
    "    #display(b)\n",
    "    \n",
    "    return adjmat,b\n",
    "    \n",
    "end\n",
    "\n",
    "\"\"\"\n",
    "    raz_mat = mat_to_razprsena(mat)\n",
    "\n",
    "    Pretvori matriko v katerikoli obliki v razprseno matriko.\n",
    "\"\"\"\n",
    "function mat_to_razprsena(mat)\n",
    "    n = size(mat)[1]\n",
    "    raz_mat = RazprsenaMatrika(zeros(n,2), zeros(Int64,n,2))\n",
    "    for i=1:n\n",
    "        for j=1:n\n",
    "            raz_mat[i,j] = mat[i,j]\n",
    "        end\n",
    "    end\n",
    "    return raz_mat\n",
    "end\n",
    "\n",
    "\"\"\"\n",
    "    edges = get_loop_graph(n)\n",
    "\n",
    "    Vrne krožni graf, kjer je vsako vozlišče povezano na dva najbljižja soseda\n",
    "\"\"\"\n",
    "function get_loop_graph(n)\n",
    "    edges = [(n,1)]\n",
    "    for i=1:n-1\n",
    "        edges = vcat(edges,(i,i+1))\n",
    "    end\n",
    "    return edges\n",
    "end\n",
    "\n",
    "\"\"\"\n",
    "    edges = get_loop_graph(n)\n",
    "\n",
    "    Vrne naključni graf\n",
    "\"\"\"\n",
    "\n",
    "function get_random_graph(n,p)\n",
    "    edges = [(0,0)]\n",
    "    for i=1:n-1\n",
    "        for j=i+1:n\n",
    "            if rand(Float64) < p\n",
    "                edges = vcat(edges,(i,j))\n",
    "            end\n",
    "        end\n",
    "    end\n",
    "    return edges[2:end]\n",
    "end"
   ]
  },
  {
   "cell_type": "code",
   "execution_count": 62,
   "id": "869c9957-f573-4ebf-9cfd-1a91046b6232",
   "metadata": {},
   "outputs": [
    {
     "data": {
      "text/plain": [
       "6-element Array{Tuple{Int64,Int64},1}:\n",
       " (1, 2)\n",
       " (1, 5)\n",
       " (2, 5)\n",
       " (3, 4)\n",
       " (3, 5)\n",
       " (4, 5)"
      ]
     },
     "execution_count": 62,
     "metadata": {},
     "output_type": "execute_result"
    }
   ],
   "source": [
    "get_random_graph(5,0.5)"
   ]
  },
  {
   "cell_type": "code",
   "execution_count": 102,
   "id": "5b250eb4-6278-4928-a43f-5202cb03c517",
   "metadata": {},
   "outputs": [
    {
     "data": {
      "text/plain": [
       "466-element Array{Tuple{Int64,Int64},1}:\n",
       " (1, 9)\n",
       " (1, 14)\n",
       " (1, 64)\n",
       " (1, 92)\n",
       " (2, 16)\n",
       " (2, 17)\n",
       " (2, 58)\n",
       " (2, 73)\n",
       " (2, 81)\n",
       " (3, 6)\n",
       " (3, 17)\n",
       " (3, 25)\n",
       " (3, 30)\n",
       " ⋮\n",
       " (83, 89)\n",
       " (84, 91)\n",
       " (84, 95)\n",
       " (86, 89)\n",
       " (86, 92)\n",
       " (86, 99)\n",
       " (87, 95)\n",
       " (88, 91)\n",
       " (89, 90)\n",
       " (91, 99)\n",
       " (92, 99)\n",
       " (94, 99)"
      ]
     },
     "metadata": {},
     "output_type": "display_data"
    },
    {
     "data": {
      "image/svg+xml": [
       "<?xml version=\"1.0\" encoding=\"utf-8\"?>\n",
       "<svg xmlns=\"http://www.w3.org/2000/svg\" xmlns:xlink=\"http://www.w3.org/1999/xlink\" width=\"600\" height=\"400\" viewBox=\"0 0 2400 1600\">\n",
       "<defs>\n",
       "  <clipPath id=\"clip560\">\n",
       "    <rect x=\"0\" y=\"0\" width=\"2400\" height=\"1600\"/>\n",
       "  </clipPath>\n",
       "</defs>\n",
       "<path clip-path=\"url(#clip560)\" d=\"\n",
       "M0 1600 L2400 1600 L2400 0 L0 0  Z\n",
       "  \" fill=\"#ffffff\" fill-rule=\"evenodd\" fill-opacity=\"1\"/>\n",
       "<defs>\n",
       "  <clipPath id=\"clip561\">\n",
       "    <rect x=\"480\" y=\"0\" width=\"1681\" height=\"1600\"/>\n",
       "  </clipPath>\n",
       "</defs>\n",
       "<path clip-path=\"url(#clip560)\" d=\"\n",
       "M147.848 1486.45 L2352.76 1486.45 L2352.76 47.2441 L147.848 47.2441  Z\n",
       "  \" fill=\"#ffffff\" fill-rule=\"evenodd\" fill-opacity=\"1\"/>\n",
       "<defs>\n",
       "  <clipPath id=\"clip562\">\n",
       "    <rect x=\"147\" y=\"47\" width=\"2206\" height=\"1440\"/>\n",
       "  </clipPath>\n",
       "</defs>\n",
       "<polyline clip-path=\"url(#clip562)\" style=\"stroke:#000000; stroke-width:2; stroke-opacity:0.1; fill:none\" points=\"\n",
       "  210.251,1486.45 210.251,47.2441 \n",
       "  \"/>\n",
       "<polyline clip-path=\"url(#clip562)\" style=\"stroke:#000000; stroke-width:2; stroke-opacity:0.1; fill:none\" points=\"\n",
       "  730.277,1486.45 730.277,47.2441 \n",
       "  \"/>\n",
       "<polyline clip-path=\"url(#clip562)\" style=\"stroke:#000000; stroke-width:2; stroke-opacity:0.1; fill:none\" points=\"\n",
       "  1250.3,1486.45 1250.3,47.2441 \n",
       "  \"/>\n",
       "<polyline clip-path=\"url(#clip562)\" style=\"stroke:#000000; stroke-width:2; stroke-opacity:0.1; fill:none\" points=\"\n",
       "  1770.33,1486.45 1770.33,47.2441 \n",
       "  \"/>\n",
       "<polyline clip-path=\"url(#clip562)\" style=\"stroke:#000000; stroke-width:2; stroke-opacity:0.1; fill:none\" points=\"\n",
       "  2290.35,1486.45 2290.35,47.2441 \n",
       "  \"/>\n",
       "<polyline clip-path=\"url(#clip560)\" style=\"stroke:#000000; stroke-width:4; stroke-opacity:1; fill:none\" points=\"\n",
       "  147.848,1486.45 2352.76,1486.45 \n",
       "  \"/>\n",
       "<polyline clip-path=\"url(#clip560)\" style=\"stroke:#000000; stroke-width:4; stroke-opacity:1; fill:none\" points=\"\n",
       "  210.251,1486.45 210.251,1469.18 \n",
       "  \"/>\n",
       "<polyline clip-path=\"url(#clip560)\" style=\"stroke:#000000; stroke-width:4; stroke-opacity:1; fill:none\" points=\"\n",
       "  730.277,1486.45 730.277,1469.18 \n",
       "  \"/>\n",
       "<polyline clip-path=\"url(#clip560)\" style=\"stroke:#000000; stroke-width:4; stroke-opacity:1; fill:none\" points=\"\n",
       "  1250.3,1486.45 1250.3,1469.18 \n",
       "  \"/>\n",
       "<polyline clip-path=\"url(#clip560)\" style=\"stroke:#000000; stroke-width:4; stroke-opacity:1; fill:none\" points=\"\n",
       "  1770.33,1486.45 1770.33,1469.18 \n",
       "  \"/>\n",
       "<polyline clip-path=\"url(#clip560)\" style=\"stroke:#000000; stroke-width:4; stroke-opacity:1; fill:none\" points=\"\n",
       "  2290.35,1486.45 2290.35,1469.18 \n",
       "  \"/>\n",
       "<path clip-path=\"url(#clip560)\" d=\"M 0 0 M178.261 1515.64 Q174.65 1515.64 172.821 1519.2 Q171.015 1522.75 171.015 1529.87 Q171.015 1536.98 172.821 1540.55 Q174.65 1544.09 178.261 1544.09 Q181.895 1544.09 183.701 1540.55 Q185.529 1536.98 185.529 1529.87 Q185.529 1522.75 183.701 1519.2 Q181.895 1515.64 178.261 1515.64 M178.261 1511.93 Q184.071 1511.93 187.126 1516.54 Q190.205 1521.12 190.205 1529.87 Q190.205 1538.6 187.126 1543.21 Q184.071 1547.79 178.261 1547.79 Q172.451 1547.79 169.372 1543.21 Q166.316 1538.6 166.316 1529.87 Q166.316 1521.12 169.372 1516.54 Q172.451 1511.93 178.261 1511.93 Z\" fill=\"#000000\" fill-rule=\"evenodd\" fill-opacity=\"1\" /><path clip-path=\"url(#clip560)\" d=\"M 0 0 M195.275 1541.24 L200.159 1541.24 L200.159 1547.12 L195.275 1547.12 L195.275 1541.24 Z\" fill=\"#000000\" fill-rule=\"evenodd\" fill-opacity=\"1\" /><path clip-path=\"url(#clip560)\" d=\"M 0 0 M215.228 1515.64 Q211.617 1515.64 209.788 1519.2 Q207.983 1522.75 207.983 1529.87 Q207.983 1536.98 209.788 1540.55 Q211.617 1544.09 215.228 1544.09 Q218.862 1544.09 220.668 1540.55 Q222.497 1536.98 222.497 1529.87 Q222.497 1522.75 220.668 1519.2 Q218.862 1515.64 215.228 1515.64 M215.228 1511.93 Q221.038 1511.93 224.094 1516.54 Q227.173 1521.12 227.173 1529.87 Q227.173 1538.6 224.094 1543.21 Q221.038 1547.79 215.228 1547.79 Q209.418 1547.79 206.339 1543.21 Q203.284 1538.6 203.284 1529.87 Q203.284 1521.12 206.339 1516.54 Q209.418 1511.93 215.228 1511.93 Z\" fill=\"#000000\" fill-rule=\"evenodd\" fill-opacity=\"1\" /><path clip-path=\"url(#clip560)\" d=\"M 0 0 M242.242 1515.64 Q238.631 1515.64 236.802 1519.2 Q234.997 1522.75 234.997 1529.87 Q234.997 1536.98 236.802 1540.55 Q238.631 1544.09 242.242 1544.09 Q245.876 1544.09 247.682 1540.55 Q249.51 1536.98 249.51 1529.87 Q249.51 1522.75 247.682 1519.2 Q245.876 1515.64 242.242 1515.64 M242.242 1511.93 Q248.052 1511.93 251.108 1516.54 Q254.186 1521.12 254.186 1529.87 Q254.186 1538.6 251.108 1543.21 Q248.052 1547.79 242.242 1547.79 Q236.432 1547.79 233.353 1543.21 Q230.298 1538.6 230.298 1529.87 Q230.298 1521.12 233.353 1516.54 Q236.432 1511.93 242.242 1511.93 Z\" fill=\"#000000\" fill-rule=\"evenodd\" fill-opacity=\"1\" /><path clip-path=\"url(#clip560)\" d=\"M 0 0 M699.582 1515.64 Q695.971 1515.64 694.143 1519.2 Q692.337 1522.75 692.337 1529.87 Q692.337 1536.98 694.143 1540.55 Q695.971 1544.09 699.582 1544.09 Q703.217 1544.09 705.022 1540.55 Q706.851 1536.98 706.851 1529.87 Q706.851 1522.75 705.022 1519.2 Q703.217 1515.64 699.582 1515.64 M699.582 1511.93 Q705.393 1511.93 708.448 1516.54 Q711.527 1521.12 711.527 1529.87 Q711.527 1538.6 708.448 1543.21 Q705.393 1547.79 699.582 1547.79 Q693.772 1547.79 690.694 1543.21 Q687.638 1538.6 687.638 1529.87 Q687.638 1521.12 690.694 1516.54 Q693.772 1511.93 699.582 1511.93 Z\" fill=\"#000000\" fill-rule=\"evenodd\" fill-opacity=\"1\" /><path clip-path=\"url(#clip560)\" d=\"M 0 0 M716.596 1541.24 L721.48 1541.24 L721.48 1547.12 L716.596 1547.12 L716.596 1541.24 Z\" fill=\"#000000\" fill-rule=\"evenodd\" fill-opacity=\"1\" /><path clip-path=\"url(#clip560)\" d=\"M 0 0 M730.578 1543.18 L746.897 1543.18 L746.897 1547.12 L724.953 1547.12 L724.953 1543.18 Q727.615 1540.43 732.198 1535.8 Q736.804 1531.15 737.985 1529.81 Q740.23 1527.28 741.11 1525.55 Q742.013 1523.79 742.013 1522.1 Q742.013 1519.34 740.068 1517.61 Q738.147 1515.87 735.045 1515.87 Q732.846 1515.87 730.392 1516.63 Q727.962 1517.4 725.184 1518.95 L725.184 1514.23 Q728.008 1513.09 730.462 1512.51 Q732.916 1511.93 734.953 1511.93 Q740.323 1511.93 743.517 1514.62 Q746.712 1517.31 746.712 1521.8 Q746.712 1523.93 745.902 1525.85 Q745.115 1527.74 743.008 1530.34 Q742.429 1531.01 739.328 1534.23 Q736.226 1537.42 730.578 1543.18 Z\" fill=\"#000000\" fill-rule=\"evenodd\" fill-opacity=\"1\" /><path clip-path=\"url(#clip560)\" d=\"M 0 0 M752.013 1512.56 L770.369 1512.56 L770.369 1516.5 L756.295 1516.5 L756.295 1524.97 Q757.314 1524.62 758.332 1524.46 Q759.351 1524.27 760.369 1524.27 Q766.156 1524.27 769.536 1527.44 Q772.915 1530.62 772.915 1536.03 Q772.915 1541.61 769.443 1544.71 Q765.971 1547.79 759.652 1547.79 Q757.476 1547.79 755.207 1547.42 Q752.962 1547.05 750.554 1546.31 L750.554 1541.61 Q752.638 1542.74 754.86 1543.3 Q757.082 1543.86 759.559 1543.86 Q763.564 1543.86 765.902 1541.75 Q768.239 1539.64 768.239 1536.03 Q768.239 1532.42 765.902 1530.31 Q763.564 1528.21 759.559 1528.21 Q757.684 1528.21 755.809 1528.62 Q753.957 1529.04 752.013 1529.92 L752.013 1512.56 Z\" fill=\"#000000\" fill-rule=\"evenodd\" fill-opacity=\"1\" /><path clip-path=\"url(#clip560)\" d=\"M 0 0 M1218.81 1515.64 Q1215.2 1515.64 1213.37 1519.2 Q1211.56 1522.75 1211.56 1529.87 Q1211.56 1536.98 1213.37 1540.55 Q1215.2 1544.09 1218.81 1544.09 Q1222.44 1544.09 1224.25 1540.55 Q1226.08 1536.98 1226.08 1529.87 Q1226.08 1522.75 1224.25 1519.2 Q1222.44 1515.64 1218.81 1515.64 M1218.81 1511.93 Q1224.62 1511.93 1227.67 1516.54 Q1230.75 1521.12 1230.75 1529.87 Q1230.75 1538.6 1227.67 1543.21 Q1224.62 1547.79 1218.81 1547.79 Q1213 1547.79 1209.92 1543.21 Q1206.86 1538.6 1206.86 1529.87 Q1206.86 1521.12 1209.92 1516.54 Q1213 1511.93 1218.81 1511.93 Z\" fill=\"#000000\" fill-rule=\"evenodd\" fill-opacity=\"1\" /><path clip-path=\"url(#clip560)\" d=\"M 0 0 M1235.82 1541.24 L1240.71 1541.24 L1240.71 1547.12 L1235.82 1547.12 L1235.82 1541.24 Z\" fill=\"#000000\" fill-rule=\"evenodd\" fill-opacity=\"1\" /><path clip-path=\"url(#clip560)\" d=\"M 0 0 M1245.82 1512.56 L1264.18 1512.56 L1264.18 1516.5 L1250.11 1516.5 L1250.11 1524.97 Q1251.12 1524.62 1252.14 1524.46 Q1253.16 1524.27 1254.18 1524.27 Q1259.97 1524.27 1263.35 1527.44 Q1266.73 1530.62 1266.73 1536.03 Q1266.73 1541.61 1263.25 1544.71 Q1259.78 1547.79 1253.46 1547.79 Q1251.29 1547.79 1249.02 1547.42 Q1246.77 1547.05 1244.36 1546.31 L1244.36 1541.61 Q1246.45 1542.74 1248.67 1543.3 Q1250.89 1543.86 1253.37 1543.86 Q1257.37 1543.86 1259.71 1541.75 Q1262.05 1539.64 1262.05 1536.03 Q1262.05 1532.42 1259.71 1530.31 Q1257.37 1528.21 1253.37 1528.21 Q1251.49 1528.21 1249.62 1528.62 Q1247.77 1529.04 1245.82 1529.92 L1245.82 1512.56 Z\" fill=\"#000000\" fill-rule=\"evenodd\" fill-opacity=\"1\" /><path clip-path=\"url(#clip560)\" d=\"M 0 0 M1281.79 1515.64 Q1278.18 1515.64 1276.36 1519.2 Q1274.55 1522.75 1274.55 1529.87 Q1274.55 1536.98 1276.36 1540.55 Q1278.18 1544.09 1281.79 1544.09 Q1285.43 1544.09 1287.23 1540.55 Q1289.06 1536.98 1289.06 1529.87 Q1289.06 1522.75 1287.23 1519.2 Q1285.43 1515.64 1281.79 1515.64 M1281.79 1511.93 Q1287.61 1511.93 1290.66 1516.54 Q1293.74 1521.12 1293.74 1529.87 Q1293.74 1538.6 1290.66 1543.21 Q1287.61 1547.79 1281.79 1547.79 Q1275.98 1547.79 1272.91 1543.21 Q1269.85 1538.6 1269.85 1529.87 Q1269.85 1521.12 1272.91 1516.54 Q1275.98 1511.93 1281.79 1511.93 Z\" fill=\"#000000\" fill-rule=\"evenodd\" fill-opacity=\"1\" /><path clip-path=\"url(#clip560)\" d=\"M 0 0 M1739.29 1515.64 Q1735.67 1515.64 1733.85 1519.2 Q1732.04 1522.75 1732.04 1529.87 Q1732.04 1536.98 1733.85 1540.55 Q1735.67 1544.09 1739.29 1544.09 Q1742.92 1544.09 1744.73 1540.55 Q1746.55 1536.98 1746.55 1529.87 Q1746.55 1522.75 1744.73 1519.2 Q1742.92 1515.64 1739.29 1515.64 M1739.29 1511.93 Q1745.1 1511.93 1748.15 1516.54 Q1751.23 1521.12 1751.23 1529.87 Q1751.23 1538.6 1748.15 1543.21 Q1745.1 1547.79 1739.29 1547.79 Q1733.48 1547.79 1730.4 1543.21 Q1727.34 1538.6 1727.34 1529.87 Q1727.34 1521.12 1730.4 1516.54 Q1733.48 1511.93 1739.29 1511.93 Z\" fill=\"#000000\" fill-rule=\"evenodd\" fill-opacity=\"1\" /><path clip-path=\"url(#clip560)\" d=\"M 0 0 M1756.3 1541.24 L1761.18 1541.24 L1761.18 1547.12 L1756.3 1547.12 L1756.3 1541.24 Z\" fill=\"#000000\" fill-rule=\"evenodd\" fill-opacity=\"1\" /><path clip-path=\"url(#clip560)\" d=\"M 0 0 M1765.07 1512.56 L1787.29 1512.56 L1787.29 1514.55 L1774.75 1547.12 L1769.86 1547.12 L1781.67 1516.5 L1765.07 1516.5 L1765.07 1512.56 Z\" fill=\"#000000\" fill-rule=\"evenodd\" fill-opacity=\"1\" /><path clip-path=\"url(#clip560)\" d=\"M 0 0 M1792.41 1512.56 L1810.77 1512.56 L1810.77 1516.5 L1796.69 1516.5 L1796.69 1524.97 Q1797.71 1524.62 1798.73 1524.46 Q1799.75 1524.27 1800.77 1524.27 Q1806.55 1524.27 1809.93 1527.44 Q1813.31 1530.62 1813.31 1536.03 Q1813.31 1541.61 1809.84 1544.71 Q1806.37 1547.79 1800.05 1547.79 Q1797.87 1547.79 1795.61 1547.42 Q1793.36 1547.05 1790.95 1546.31 L1790.95 1541.61 Q1793.04 1542.74 1795.26 1543.3 Q1797.48 1543.86 1799.96 1543.86 Q1803.96 1543.86 1806.3 1541.75 Q1808.64 1539.64 1808.64 1536.03 Q1808.64 1532.42 1806.3 1530.31 Q1803.96 1528.21 1799.96 1528.21 Q1798.08 1528.21 1796.21 1528.62 Q1794.36 1529.04 1792.41 1529.92 L1792.41 1512.56 Z\" fill=\"#000000\" fill-rule=\"evenodd\" fill-opacity=\"1\" /><path clip-path=\"url(#clip560)\" d=\"M 0 0 M2248.74 1543.18 L2256.38 1543.18 L2256.38 1516.82 L2248.07 1518.49 L2248.07 1514.23 L2256.34 1512.56 L2261.01 1512.56 L2261.01 1543.18 L2268.65 1543.18 L2268.65 1547.12 L2248.74 1547.12 L2248.74 1543.18 Z\" fill=\"#000000\" fill-rule=\"evenodd\" fill-opacity=\"1\" /><path clip-path=\"url(#clip560)\" d=\"M 0 0 M2273.72 1541.24 L2278.61 1541.24 L2278.61 1547.12 L2273.72 1547.12 L2273.72 1541.24 Z\" fill=\"#000000\" fill-rule=\"evenodd\" fill-opacity=\"1\" /><path clip-path=\"url(#clip560)\" d=\"M 0 0 M2293.67 1515.64 Q2290.06 1515.64 2288.23 1519.2 Q2286.43 1522.75 2286.43 1529.87 Q2286.43 1536.98 2288.23 1540.55 Q2290.06 1544.09 2293.67 1544.09 Q2297.31 1544.09 2299.11 1540.55 Q2300.94 1536.98 2300.94 1529.87 Q2300.94 1522.75 2299.11 1519.2 Q2297.31 1515.64 2293.67 1515.64 M2293.67 1511.93 Q2299.48 1511.93 2302.54 1516.54 Q2305.62 1521.12 2305.62 1529.87 Q2305.62 1538.6 2302.54 1543.21 Q2299.48 1547.79 2293.67 1547.79 Q2287.86 1547.79 2284.79 1543.21 Q2281.73 1538.6 2281.73 1529.87 Q2281.73 1521.12 2284.79 1516.54 Q2287.86 1511.93 2293.67 1511.93 Z\" fill=\"#000000\" fill-rule=\"evenodd\" fill-opacity=\"1\" /><path clip-path=\"url(#clip560)\" d=\"M 0 0 M2320.69 1515.64 Q2317.08 1515.64 2315.25 1519.2 Q2313.44 1522.75 2313.44 1529.87 Q2313.44 1536.98 2315.25 1540.55 Q2317.08 1544.09 2320.69 1544.09 Q2324.32 1544.09 2326.13 1540.55 Q2327.96 1536.98 2327.96 1529.87 Q2327.96 1522.75 2326.13 1519.2 Q2324.32 1515.64 2320.69 1515.64 M2320.69 1511.93 Q2326.5 1511.93 2329.55 1516.54 Q2332.63 1521.12 2332.63 1529.87 Q2332.63 1538.6 2329.55 1543.21 Q2326.5 1547.79 2320.69 1547.79 Q2314.88 1547.79 2311.8 1543.21 Q2308.74 1538.6 2308.74 1529.87 Q2308.74 1521.12 2311.8 1516.54 Q2314.88 1511.93 2320.69 1511.93 Z\" fill=\"#000000\" fill-rule=\"evenodd\" fill-opacity=\"1\" /><polyline clip-path=\"url(#clip562)\" style=\"stroke:#000000; stroke-width:2; stroke-opacity:0.1; fill:none\" points=\"\n",
       "  147.848,1445.72 2352.76,1445.72 \n",
       "  \"/>\n",
       "<polyline clip-path=\"url(#clip562)\" style=\"stroke:#000000; stroke-width:2; stroke-opacity:0.1; fill:none\" points=\"\n",
       "  147.848,993.136 2352.76,993.136 \n",
       "  \"/>\n",
       "<polyline clip-path=\"url(#clip562)\" style=\"stroke:#000000; stroke-width:2; stroke-opacity:0.1; fill:none\" points=\"\n",
       "  147.848,540.556 2352.76,540.556 \n",
       "  \"/>\n",
       "<polyline clip-path=\"url(#clip562)\" style=\"stroke:#000000; stroke-width:2; stroke-opacity:0.1; fill:none\" points=\"\n",
       "  147.848,87.9763 2352.76,87.9763 \n",
       "  \"/>\n",
       "<polyline clip-path=\"url(#clip560)\" style=\"stroke:#000000; stroke-width:4; stroke-opacity:1; fill:none\" points=\"\n",
       "  147.848,1486.45 147.848,47.2441 \n",
       "  \"/>\n",
       "<polyline clip-path=\"url(#clip560)\" style=\"stroke:#000000; stroke-width:4; stroke-opacity:1; fill:none\" points=\"\n",
       "  147.848,1445.72 174.307,1445.72 \n",
       "  \"/>\n",
       "<polyline clip-path=\"url(#clip560)\" style=\"stroke:#000000; stroke-width:4; stroke-opacity:1; fill:none\" points=\"\n",
       "  147.848,993.136 174.307,993.136 \n",
       "  \"/>\n",
       "<polyline clip-path=\"url(#clip560)\" style=\"stroke:#000000; stroke-width:4; stroke-opacity:1; fill:none\" points=\"\n",
       "  147.848,540.556 174.307,540.556 \n",
       "  \"/>\n",
       "<polyline clip-path=\"url(#clip560)\" style=\"stroke:#000000; stroke-width:4; stroke-opacity:1; fill:none\" points=\"\n",
       "  147.848,87.9763 174.307,87.9763 \n",
       "  \"/>\n",
       "<path clip-path=\"url(#clip560)\" d=\"M 0 0 M62.9365 1431.51 Q59.3254 1431.51 57.4967 1435.08 Q55.6912 1438.62 55.6912 1445.75 Q55.6912 1452.86 57.4967 1456.42 Q59.3254 1459.96 62.9365 1459.96 Q66.5707 1459.96 68.3763 1456.42 Q70.205 1452.86 70.205 1445.75 Q70.205 1438.62 68.3763 1435.08 Q66.5707 1431.51 62.9365 1431.51 M62.9365 1427.81 Q68.7467 1427.81 71.8022 1432.42 Q74.8809 1437 74.8809 1445.75 Q74.8809 1454.48 71.8022 1459.08 Q68.7467 1463.67 62.9365 1463.67 Q57.1264 1463.67 54.0477 1459.08 Q50.9921 1454.48 50.9921 1445.75 Q50.9921 1437 54.0477 1432.42 Q57.1264 1427.81 62.9365 1427.81 Z\" fill=\"#000000\" fill-rule=\"evenodd\" fill-opacity=\"1\" /><path clip-path=\"url(#clip560)\" d=\"M 0 0 M79.9503 1457.12 L84.8345 1457.12 L84.8345 1463 L79.9503 1463 L79.9503 1457.12 Z\" fill=\"#000000\" fill-rule=\"evenodd\" fill-opacity=\"1\" /><path clip-path=\"url(#clip560)\" d=\"M 0 0 M99.9039 1431.51 Q96.2928 1431.51 94.4641 1435.08 Q92.6586 1438.62 92.6586 1445.75 Q92.6586 1452.86 94.4641 1456.42 Q96.2928 1459.96 99.9039 1459.96 Q103.538 1459.96 105.344 1456.42 Q107.172 1452.86 107.172 1445.75 Q107.172 1438.62 105.344 1435.08 Q103.538 1431.51 99.9039 1431.51 M99.9039 1427.81 Q105.714 1427.81 108.77 1432.42 Q111.848 1437 111.848 1445.75 Q111.848 1454.48 108.77 1459.08 Q105.714 1463.67 99.9039 1463.67 Q94.0937 1463.67 91.0151 1459.08 Q87.9595 1454.48 87.9595 1445.75 Q87.9595 1437 91.0151 1432.42 Q94.0937 1427.81 99.9039 1427.81 Z\" fill=\"#000000\" fill-rule=\"evenodd\" fill-opacity=\"1\" /><path clip-path=\"url(#clip560)\" d=\"M 0 0 M63.9319 978.935 Q60.3208 978.935 58.4921 982.499 Q56.6865 986.041 56.6865 993.171 Q56.6865 1000.28 58.4921 1003.84 Q60.3208 1007.38 63.9319 1007.38 Q67.5661 1007.38 69.3717 1003.84 Q71.2004 1000.28 71.2004 993.171 Q71.2004 986.041 69.3717 982.499 Q67.5661 978.935 63.9319 978.935 M63.9319 975.231 Q69.742 975.231 72.7976 979.837 Q75.8763 984.421 75.8763 993.171 Q75.8763 1001.9 72.7976 1006.5 Q69.742 1011.09 63.9319 1011.09 Q58.1217 1011.09 55.043 1006.5 Q51.9875 1001.9 51.9875 993.171 Q51.9875 984.421 55.043 979.837 Q58.1217 975.231 63.9319 975.231 Z\" fill=\"#000000\" fill-rule=\"evenodd\" fill-opacity=\"1\" /><path clip-path=\"url(#clip560)\" d=\"M 0 0 M80.9457 1004.54 L85.8299 1004.54 L85.8299 1010.42 L80.9457 1010.42 L80.9457 1004.54 Z\" fill=\"#000000\" fill-rule=\"evenodd\" fill-opacity=\"1\" /><path clip-path=\"url(#clip560)\" d=\"M 0 0 M90.9456 975.856 L109.302 975.856 L109.302 979.791 L95.228 979.791 L95.228 988.263 Q96.2465 987.916 97.265 987.754 Q98.2835 987.569 99.3021 987.569 Q105.089 987.569 108.469 990.74 Q111.848 993.911 111.848 999.328 Q111.848 1004.91 108.376 1008.01 Q104.904 1011.09 98.5845 1011.09 Q96.4085 1011.09 94.14 1010.72 Q91.8947 1010.35 89.4873 1009.61 L89.4873 1004.91 Q91.5706 1006.04 93.7928 1006.6 Q96.015 1007.15 98.4919 1007.15 Q102.496 1007.15 104.834 1005.05 Q107.172 1002.94 107.172 999.328 Q107.172 995.717 104.834 993.61 Q102.496 991.504 98.4919 991.504 Q96.6169 991.504 94.7419 991.921 Q92.89 992.337 90.9456 993.217 L90.9456 975.856 Z\" fill=\"#000000\" fill-rule=\"evenodd\" fill-opacity=\"1\" /><path clip-path=\"url(#clip560)\" d=\"M 0 0 M54.9736 553.901 L62.6124 553.901 L62.6124 527.535 L54.3023 529.202 L54.3023 524.943 L62.5661 523.276 L67.242 523.276 L67.242 553.901 L74.8809 553.901 L74.8809 557.836 L54.9736 557.836 L54.9736 553.901 Z\" fill=\"#000000\" fill-rule=\"evenodd\" fill-opacity=\"1\" /><path clip-path=\"url(#clip560)\" d=\"M 0 0 M79.9503 551.956 L84.8345 551.956 L84.8345 557.836 L79.9503 557.836 L79.9503 551.956 Z\" fill=\"#000000\" fill-rule=\"evenodd\" fill-opacity=\"1\" /><path clip-path=\"url(#clip560)\" d=\"M 0 0 M99.9039 526.355 Q96.2928 526.355 94.4641 529.92 Q92.6586 533.461 92.6586 540.591 Q92.6586 547.697 94.4641 551.262 Q96.2928 554.804 99.9039 554.804 Q103.538 554.804 105.344 551.262 Q107.172 547.697 107.172 540.591 Q107.172 533.461 105.344 529.92 Q103.538 526.355 99.9039 526.355 M99.9039 522.651 Q105.714 522.651 108.77 527.258 Q111.848 531.841 111.848 540.591 Q111.848 549.318 108.77 553.924 Q105.714 558.507 99.9039 558.507 Q94.0937 558.507 91.0151 553.924 Q87.9595 549.318 87.9595 540.591 Q87.9595 531.841 91.0151 527.258 Q94.0937 522.651 99.9039 522.651 Z\" fill=\"#000000\" fill-rule=\"evenodd\" fill-opacity=\"1\" /><path clip-path=\"url(#clip560)\" d=\"M 0 0 M55.969 101.321 L63.6078 101.321 L63.6078 74.9555 L55.2977 76.6222 L55.2977 72.3629 L63.5615 70.6963 L68.2374 70.6963 L68.2374 101.321 L75.8763 101.321 L75.8763 105.256 L55.969 105.256 L55.969 101.321 Z\" fill=\"#000000\" fill-rule=\"evenodd\" fill-opacity=\"1\" /><path clip-path=\"url(#clip560)\" d=\"M 0 0 M80.9457 99.3767 L85.8299 99.3767 L85.8299 105.256 L80.9457 105.256 L80.9457 99.3767 Z\" fill=\"#000000\" fill-rule=\"evenodd\" fill-opacity=\"1\" /><path clip-path=\"url(#clip560)\" d=\"M 0 0 M90.9456 70.6963 L109.302 70.6963 L109.302 74.6314 L95.228 74.6314 L95.228 83.1036 Q96.2465 82.7564 97.265 82.5944 Q98.2835 82.4092 99.3021 82.4092 Q105.089 82.4092 108.469 85.5805 Q111.848 88.7517 111.848 94.1684 Q111.848 99.747 108.376 102.849 Q104.904 105.928 98.5845 105.928 Q96.4085 105.928 94.14 105.557 Q91.8947 105.187 89.4873 104.446 L89.4873 99.747 Q91.5706 100.881 93.7928 101.437 Q96.015 101.992 98.4919 101.992 Q102.496 101.992 104.834 99.8859 Q107.172 97.7795 107.172 94.1684 Q107.172 90.5573 104.834 88.4508 Q102.496 86.3443 98.4919 86.3443 Q96.6169 86.3443 94.7419 86.761 Q92.89 87.1777 90.9456 88.0573 L90.9456 70.6963 Z\" fill=\"#000000\" fill-rule=\"evenodd\" fill-opacity=\"1\" /><circle clip-path=\"url(#clip562)\" cx=\"626.272\" cy=\"1445.72\" r=\"14\" fill=\"#009af9\" fill-rule=\"evenodd\" fill-opacity=\"1\" stroke=\"#000000\" stroke-opacity=\"1\" stroke-width=\"3.2\"/>\n",
       "<circle clip-path=\"url(#clip562)\" cx=\"210.251\" cy=\"540.556\" r=\"14\" fill=\"#009af9\" fill-rule=\"evenodd\" fill-opacity=\"1\" stroke=\"#000000\" stroke-opacity=\"1\" stroke-width=\"3.2\"/>\n",
       "<circle clip-path=\"url(#clip562)\" cx=\"1250.3\" cy=\"87.9763\" r=\"14\" fill=\"#009af9\" fill-rule=\"evenodd\" fill-opacity=\"1\" stroke=\"#000000\" stroke-opacity=\"1\" stroke-width=\"3.2\"/>\n",
       "<circle clip-path=\"url(#clip562)\" cx=\"2290.35\" cy=\"540.556\" r=\"14\" fill=\"#009af9\" fill-rule=\"evenodd\" fill-opacity=\"1\" stroke=\"#000000\" stroke-opacity=\"1\" stroke-width=\"3.2\"/>\n",
       "<circle clip-path=\"url(#clip562)\" cx=\"1874.33\" cy=\"1445.72\" r=\"14\" fill=\"#009af9\" fill-rule=\"evenodd\" fill-opacity=\"1\" stroke=\"#000000\" stroke-opacity=\"1\" stroke-width=\"3.2\"/>\n",
       "<circle clip-path=\"url(#clip562)\" cx=\"1440.87\" cy=\"739.81\" r=\"14\" fill=\"#e26f46\" fill-rule=\"evenodd\" fill-opacity=\"1\" stroke=\"#000000\" stroke-opacity=\"1\" stroke-width=\"3.2\"/>\n",
       "<circle clip-path=\"url(#clip562)\" cx=\"1343\" cy=\"757.749\" r=\"14\" fill=\"#e26f46\" fill-rule=\"evenodd\" fill-opacity=\"1\" stroke=\"#000000\" stroke-opacity=\"1\" stroke-width=\"3.2\"/>\n",
       "<circle clip-path=\"url(#clip562)\" cx=\"1373\" cy=\"648.423\" r=\"14\" fill=\"#e26f46\" fill-rule=\"evenodd\" fill-opacity=\"1\" stroke=\"#000000\" stroke-opacity=\"1\" stroke-width=\"3.2\"/>\n",
       "<circle clip-path=\"url(#clip562)\" cx=\"1388.05\" cy=\"712.632\" r=\"14\" fill=\"#e26f46\" fill-rule=\"evenodd\" fill-opacity=\"1\" stroke=\"#000000\" stroke-opacity=\"1\" stroke-width=\"3.2\"/>\n",
       "<circle clip-path=\"url(#clip562)\" cx=\"1185.83\" cy=\"602.846\" r=\"14\" fill=\"#e26f46\" fill-rule=\"evenodd\" fill-opacity=\"1\" stroke=\"#000000\" stroke-opacity=\"1\" stroke-width=\"3.2\"/>\n",
       "<circle clip-path=\"url(#clip562)\" cx=\"1398.09\" cy=\"713.98\" r=\"14\" fill=\"#e26f46\" fill-rule=\"evenodd\" fill-opacity=\"1\" stroke=\"#000000\" stroke-opacity=\"1\" stroke-width=\"3.2\"/>\n",
       "<circle clip-path=\"url(#clip562)\" cx=\"1342.68\" cy=\"744.373\" r=\"14\" fill=\"#e26f46\" fill-rule=\"evenodd\" fill-opacity=\"1\" stroke=\"#000000\" stroke-opacity=\"1\" stroke-width=\"3.2\"/>\n",
       "<circle clip-path=\"url(#clip562)\" cx=\"1469.51\" cy=\"706.082\" r=\"14\" fill=\"#e26f46\" fill-rule=\"evenodd\" fill-opacity=\"1\" stroke=\"#000000\" stroke-opacity=\"1\" stroke-width=\"3.2\"/>\n",
       "<circle clip-path=\"url(#clip562)\" cx=\"1532.74\" cy=\"700.71\" r=\"14\" fill=\"#e26f46\" fill-rule=\"evenodd\" fill-opacity=\"1\" stroke=\"#000000\" stroke-opacity=\"1\" stroke-width=\"3.2\"/>\n",
       "<circle clip-path=\"url(#clip562)\" cx=\"1364.79\" cy=\"707.348\" r=\"14\" fill=\"#e26f46\" fill-rule=\"evenodd\" fill-opacity=\"1\" stroke=\"#000000\" stroke-opacity=\"1\" stroke-width=\"3.2\"/>\n",
       "<circle clip-path=\"url(#clip562)\" cx=\"1363.45\" cy=\"642.47\" r=\"14\" fill=\"#e26f46\" fill-rule=\"evenodd\" fill-opacity=\"1\" stroke=\"#000000\" stroke-opacity=\"1\" stroke-width=\"3.2\"/>\n",
       "<circle clip-path=\"url(#clip562)\" cx=\"1407.6\" cy=\"740.024\" r=\"14\" fill=\"#e26f46\" fill-rule=\"evenodd\" fill-opacity=\"1\" stroke=\"#000000\" stroke-opacity=\"1\" stroke-width=\"3.2\"/>\n",
       "<circle clip-path=\"url(#clip562)\" cx=\"1332.28\" cy=\"695.986\" r=\"14\" fill=\"#e26f46\" fill-rule=\"evenodd\" fill-opacity=\"1\" stroke=\"#000000\" stroke-opacity=\"1\" stroke-width=\"3.2\"/>\n",
       "<circle clip-path=\"url(#clip562)\" cx=\"1393\" cy=\"738.167\" r=\"14\" fill=\"#e26f46\" fill-rule=\"evenodd\" fill-opacity=\"1\" stroke=\"#000000\" stroke-opacity=\"1\" stroke-width=\"3.2\"/>\n",
       "<circle clip-path=\"url(#clip562)\" cx=\"1370.97\" cy=\"674.467\" r=\"14\" fill=\"#e26f46\" fill-rule=\"evenodd\" fill-opacity=\"1\" stroke=\"#000000\" stroke-opacity=\"1\" stroke-width=\"3.2\"/>\n",
       "<circle clip-path=\"url(#clip562)\" cx=\"1323.48\" cy=\"785.556\" r=\"14\" fill=\"#e26f46\" fill-rule=\"evenodd\" fill-opacity=\"1\" stroke=\"#000000\" stroke-opacity=\"1\" stroke-width=\"3.2\"/>\n",
       "<circle clip-path=\"url(#clip562)\" cx=\"1360.06\" cy=\"716.142\" r=\"14\" fill=\"#e26f46\" fill-rule=\"evenodd\" fill-opacity=\"1\" stroke=\"#000000\" stroke-opacity=\"1\" stroke-width=\"3.2\"/>\n",
       "<circle clip-path=\"url(#clip562)\" cx=\"1367.08\" cy=\"703.041\" r=\"14\" fill=\"#e26f46\" fill-rule=\"evenodd\" fill-opacity=\"1\" stroke=\"#000000\" stroke-opacity=\"1\" stroke-width=\"3.2\"/>\n",
       "<circle clip-path=\"url(#clip562)\" cx=\"1395.18\" cy=\"726.674\" r=\"14\" fill=\"#e26f46\" fill-rule=\"evenodd\" fill-opacity=\"1\" stroke=\"#000000\" stroke-opacity=\"1\" stroke-width=\"3.2\"/>\n",
       "<circle clip-path=\"url(#clip562)\" cx=\"1385.57\" cy=\"731.493\" r=\"14\" fill=\"#e26f46\" fill-rule=\"evenodd\" fill-opacity=\"1\" stroke=\"#000000\" stroke-opacity=\"1\" stroke-width=\"3.2\"/>\n",
       "<circle clip-path=\"url(#clip562)\" cx=\"1499.04\" cy=\"734.057\" r=\"14\" fill=\"#e26f46\" fill-rule=\"evenodd\" fill-opacity=\"1\" stroke=\"#000000\" stroke-opacity=\"1\" stroke-width=\"3.2\"/>\n",
       "<circle clip-path=\"url(#clip562)\" cx=\"1424.61\" cy=\"724.084\" r=\"14\" fill=\"#e26f46\" fill-rule=\"evenodd\" fill-opacity=\"1\" stroke=\"#000000\" stroke-opacity=\"1\" stroke-width=\"3.2\"/>\n",
       "<circle clip-path=\"url(#clip562)\" cx=\"1394.84\" cy=\"736.21\" r=\"14\" fill=\"#e26f46\" fill-rule=\"evenodd\" fill-opacity=\"1\" stroke=\"#000000\" stroke-opacity=\"1\" stroke-width=\"3.2\"/>\n",
       "<circle clip-path=\"url(#clip562)\" cx=\"1394.07\" cy=\"692.554\" r=\"14\" fill=\"#e26f46\" fill-rule=\"evenodd\" fill-opacity=\"1\" stroke=\"#000000\" stroke-opacity=\"1\" stroke-width=\"3.2\"/>\n",
       "<circle clip-path=\"url(#clip562)\" cx=\"1228.95\" cy=\"692.973\" r=\"14\" fill=\"#e26f46\" fill-rule=\"evenodd\" fill-opacity=\"1\" stroke=\"#000000\" stroke-opacity=\"1\" stroke-width=\"3.2\"/>\n",
       "<circle clip-path=\"url(#clip562)\" cx=\"1384.18\" cy=\"721.01\" r=\"14\" fill=\"#e26f46\" fill-rule=\"evenodd\" fill-opacity=\"1\" stroke=\"#000000\" stroke-opacity=\"1\" stroke-width=\"3.2\"/>\n",
       "<circle clip-path=\"url(#clip562)\" cx=\"1468.98\" cy=\"614.374\" r=\"14\" fill=\"#e26f46\" fill-rule=\"evenodd\" fill-opacity=\"1\" stroke=\"#000000\" stroke-opacity=\"1\" stroke-width=\"3.2\"/>\n",
       "<circle clip-path=\"url(#clip562)\" cx=\"1403.85\" cy=\"725.991\" r=\"14\" fill=\"#e26f46\" fill-rule=\"evenodd\" fill-opacity=\"1\" stroke=\"#000000\" stroke-opacity=\"1\" stroke-width=\"3.2\"/>\n",
       "<circle clip-path=\"url(#clip562)\" cx=\"1381.77\" cy=\"757.293\" r=\"14\" fill=\"#e26f46\" fill-rule=\"evenodd\" fill-opacity=\"1\" stroke=\"#000000\" stroke-opacity=\"1\" stroke-width=\"3.2\"/>\n",
       "<circle clip-path=\"url(#clip562)\" cx=\"1391.57\" cy=\"726.742\" r=\"14\" fill=\"#e26f46\" fill-rule=\"evenodd\" fill-opacity=\"1\" stroke=\"#000000\" stroke-opacity=\"1\" stroke-width=\"3.2\"/>\n",
       "<circle clip-path=\"url(#clip562)\" cx=\"1396.64\" cy=\"733.825\" r=\"14\" fill=\"#e26f46\" fill-rule=\"evenodd\" fill-opacity=\"1\" stroke=\"#000000\" stroke-opacity=\"1\" stroke-width=\"3.2\"/>\n",
       "<circle clip-path=\"url(#clip562)\" cx=\"1451.01\" cy=\"698.192\" r=\"14\" fill=\"#e26f46\" fill-rule=\"evenodd\" fill-opacity=\"1\" stroke=\"#000000\" stroke-opacity=\"1\" stroke-width=\"3.2\"/>\n",
       "<circle clip-path=\"url(#clip562)\" cx=\"1372.47\" cy=\"671.558\" r=\"14\" fill=\"#e26f46\" fill-rule=\"evenodd\" fill-opacity=\"1\" stroke=\"#000000\" stroke-opacity=\"1\" stroke-width=\"3.2\"/>\n",
       "<circle clip-path=\"url(#clip562)\" cx=\"1290.29\" cy=\"790.142\" r=\"14\" fill=\"#e26f46\" fill-rule=\"evenodd\" fill-opacity=\"1\" stroke=\"#000000\" stroke-opacity=\"1\" stroke-width=\"3.2\"/>\n",
       "<circle clip-path=\"url(#clip562)\" cx=\"1415.45\" cy=\"732.391\" r=\"14\" fill=\"#e26f46\" fill-rule=\"evenodd\" fill-opacity=\"1\" stroke=\"#000000\" stroke-opacity=\"1\" stroke-width=\"3.2\"/>\n",
       "<circle clip-path=\"url(#clip562)\" cx=\"1436.86\" cy=\"722.55\" r=\"14\" fill=\"#e26f46\" fill-rule=\"evenodd\" fill-opacity=\"1\" stroke=\"#000000\" stroke-opacity=\"1\" stroke-width=\"3.2\"/>\n",
       "<circle clip-path=\"url(#clip562)\" cx=\"1358.21\" cy=\"837.398\" r=\"14\" fill=\"#e26f46\" fill-rule=\"evenodd\" fill-opacity=\"1\" stroke=\"#000000\" stroke-opacity=\"1\" stroke-width=\"3.2\"/>\n",
       "<circle clip-path=\"url(#clip562)\" cx=\"1383.97\" cy=\"717.78\" r=\"14\" fill=\"#e26f46\" fill-rule=\"evenodd\" fill-opacity=\"1\" stroke=\"#000000\" stroke-opacity=\"1\" stroke-width=\"3.2\"/>\n",
       "<circle clip-path=\"url(#clip562)\" cx=\"1463.03\" cy=\"637.806\" r=\"14\" fill=\"#e26f46\" fill-rule=\"evenodd\" fill-opacity=\"1\" stroke=\"#000000\" stroke-opacity=\"1\" stroke-width=\"3.2\"/>\n",
       "<circle clip-path=\"url(#clip562)\" cx=\"1363.57\" cy=\"704.897\" r=\"14\" fill=\"#e26f46\" fill-rule=\"evenodd\" fill-opacity=\"1\" stroke=\"#000000\" stroke-opacity=\"1\" stroke-width=\"3.2\"/>\n",
       "<circle clip-path=\"url(#clip562)\" cx=\"1387.03\" cy=\"705.148\" r=\"14\" fill=\"#e26f46\" fill-rule=\"evenodd\" fill-opacity=\"1\" stroke=\"#000000\" stroke-opacity=\"1\" stroke-width=\"3.2\"/>\n",
       "<circle clip-path=\"url(#clip562)\" cx=\"1439.54\" cy=\"783.577\" r=\"14\" fill=\"#e26f46\" fill-rule=\"evenodd\" fill-opacity=\"1\" stroke=\"#000000\" stroke-opacity=\"1\" stroke-width=\"3.2\"/>\n",
       "<circle clip-path=\"url(#clip562)\" cx=\"1401.67\" cy=\"700.305\" r=\"14\" fill=\"#e26f46\" fill-rule=\"evenodd\" fill-opacity=\"1\" stroke=\"#000000\" stroke-opacity=\"1\" stroke-width=\"3.2\"/>\n",
       "<circle clip-path=\"url(#clip562)\" cx=\"1224.87\" cy=\"694.719\" r=\"14\" fill=\"#e26f46\" fill-rule=\"evenodd\" fill-opacity=\"1\" stroke=\"#000000\" stroke-opacity=\"1\" stroke-width=\"3.2\"/>\n",
       "<circle clip-path=\"url(#clip562)\" cx=\"1388.05\" cy=\"882.86\" r=\"14\" fill=\"#e26f46\" fill-rule=\"evenodd\" fill-opacity=\"1\" stroke=\"#000000\" stroke-opacity=\"1\" stroke-width=\"3.2\"/>\n",
       "<circle clip-path=\"url(#clip562)\" cx=\"1259.77\" cy=\"692.868\" r=\"14\" fill=\"#e26f46\" fill-rule=\"evenodd\" fill-opacity=\"1\" stroke=\"#000000\" stroke-opacity=\"1\" stroke-width=\"3.2\"/>\n",
       "<circle clip-path=\"url(#clip562)\" cx=\"1383.36\" cy=\"705.738\" r=\"14\" fill=\"#e26f46\" fill-rule=\"evenodd\" fill-opacity=\"1\" stroke=\"#000000\" stroke-opacity=\"1\" stroke-width=\"3.2\"/>\n",
       "<circle clip-path=\"url(#clip562)\" cx=\"1245.21\" cy=\"663.118\" r=\"14\" fill=\"#e26f46\" fill-rule=\"evenodd\" fill-opacity=\"1\" stroke=\"#000000\" stroke-opacity=\"1\" stroke-width=\"3.2\"/>\n",
       "<circle clip-path=\"url(#clip562)\" cx=\"1387.11\" cy=\"724.633\" r=\"14\" fill=\"#e26f46\" fill-rule=\"evenodd\" fill-opacity=\"1\" stroke=\"#000000\" stroke-opacity=\"1\" stroke-width=\"3.2\"/>\n",
       "<circle clip-path=\"url(#clip562)\" cx=\"1416.62\" cy=\"709.802\" r=\"14\" fill=\"#e26f46\" fill-rule=\"evenodd\" fill-opacity=\"1\" stroke=\"#000000\" stroke-opacity=\"1\" stroke-width=\"3.2\"/>\n",
       "<circle clip-path=\"url(#clip562)\" cx=\"1414.24\" cy=\"720.054\" r=\"14\" fill=\"#e26f46\" fill-rule=\"evenodd\" fill-opacity=\"1\" stroke=\"#000000\" stroke-opacity=\"1\" stroke-width=\"3.2\"/>\n",
       "<circle clip-path=\"url(#clip562)\" cx=\"1385.02\" cy=\"730.098\" r=\"14\" fill=\"#e26f46\" fill-rule=\"evenodd\" fill-opacity=\"1\" stroke=\"#000000\" stroke-opacity=\"1\" stroke-width=\"3.2\"/>\n",
       "<circle clip-path=\"url(#clip562)\" cx=\"1392.24\" cy=\"716.59\" r=\"14\" fill=\"#e26f46\" fill-rule=\"evenodd\" fill-opacity=\"1\" stroke=\"#000000\" stroke-opacity=\"1\" stroke-width=\"3.2\"/>\n",
       "<circle clip-path=\"url(#clip562)\" cx=\"1479.59\" cy=\"707.051\" r=\"14\" fill=\"#e26f46\" fill-rule=\"evenodd\" fill-opacity=\"1\" stroke=\"#000000\" stroke-opacity=\"1\" stroke-width=\"3.2\"/>\n",
       "<circle clip-path=\"url(#clip562)\" cx=\"1363.75\" cy=\"677.285\" r=\"14\" fill=\"#e26f46\" fill-rule=\"evenodd\" fill-opacity=\"1\" stroke=\"#000000\" stroke-opacity=\"1\" stroke-width=\"3.2\"/>\n",
       "<circle clip-path=\"url(#clip562)\" cx=\"1253.51\" cy=\"840.855\" r=\"14\" fill=\"#e26f46\" fill-rule=\"evenodd\" fill-opacity=\"1\" stroke=\"#000000\" stroke-opacity=\"1\" stroke-width=\"3.2\"/>\n",
       "<circle clip-path=\"url(#clip562)\" cx=\"1459.66\" cy=\"807.233\" r=\"14\" fill=\"#e26f46\" fill-rule=\"evenodd\" fill-opacity=\"1\" stroke=\"#000000\" stroke-opacity=\"1\" stroke-width=\"3.2\"/>\n",
       "<circle clip-path=\"url(#clip562)\" cx=\"1368.94\" cy=\"721.477\" r=\"14\" fill=\"#e26f46\" fill-rule=\"evenodd\" fill-opacity=\"1\" stroke=\"#000000\" stroke-opacity=\"1\" stroke-width=\"3.2\"/>\n",
       "<circle clip-path=\"url(#clip562)\" cx=\"1429.07\" cy=\"768.351\" r=\"14\" fill=\"#e26f46\" fill-rule=\"evenodd\" fill-opacity=\"1\" stroke=\"#000000\" stroke-opacity=\"1\" stroke-width=\"3.2\"/>\n",
       "<circle clip-path=\"url(#clip562)\" cx=\"1289.06\" cy=\"800.359\" r=\"14\" fill=\"#e26f46\" fill-rule=\"evenodd\" fill-opacity=\"1\" stroke=\"#000000\" stroke-opacity=\"1\" stroke-width=\"3.2\"/>\n",
       "<circle clip-path=\"url(#clip562)\" cx=\"1434.12\" cy=\"790.975\" r=\"14\" fill=\"#e26f46\" fill-rule=\"evenodd\" fill-opacity=\"1\" stroke=\"#000000\" stroke-opacity=\"1\" stroke-width=\"3.2\"/>\n",
       "<circle clip-path=\"url(#clip562)\" cx=\"1367.67\" cy=\"722.103\" r=\"14\" fill=\"#e26f46\" fill-rule=\"evenodd\" fill-opacity=\"1\" stroke=\"#000000\" stroke-opacity=\"1\" stroke-width=\"3.2\"/>\n",
       "<circle clip-path=\"url(#clip562)\" cx=\"1413.42\" cy=\"696.551\" r=\"14\" fill=\"#e26f46\" fill-rule=\"evenodd\" fill-opacity=\"1\" stroke=\"#000000\" stroke-opacity=\"1\" stroke-width=\"3.2\"/>\n",
       "<circle clip-path=\"url(#clip562)\" cx=\"1440.85\" cy=\"721.157\" r=\"14\" fill=\"#e26f46\" fill-rule=\"evenodd\" fill-opacity=\"1\" stroke=\"#000000\" stroke-opacity=\"1\" stroke-width=\"3.2\"/>\n",
       "<circle clip-path=\"url(#clip562)\" cx=\"1414.22\" cy=\"713.026\" r=\"14\" fill=\"#e26f46\" fill-rule=\"evenodd\" fill-opacity=\"1\" stroke=\"#000000\" stroke-opacity=\"1\" stroke-width=\"3.2\"/>\n",
       "<circle clip-path=\"url(#clip562)\" cx=\"1466.43\" cy=\"794.205\" r=\"14\" fill=\"#e26f46\" fill-rule=\"evenodd\" fill-opacity=\"1\" stroke=\"#000000\" stroke-opacity=\"1\" stroke-width=\"3.2\"/>\n",
       "<circle clip-path=\"url(#clip562)\" cx=\"1374.1\" cy=\"658.694\" r=\"14\" fill=\"#e26f46\" fill-rule=\"evenodd\" fill-opacity=\"1\" stroke=\"#000000\" stroke-opacity=\"1\" stroke-width=\"3.2\"/>\n",
       "<circle clip-path=\"url(#clip562)\" cx=\"1403.15\" cy=\"702.169\" r=\"14\" fill=\"#e26f46\" fill-rule=\"evenodd\" fill-opacity=\"1\" stroke=\"#000000\" stroke-opacity=\"1\" stroke-width=\"3.2\"/>\n",
       "<circle clip-path=\"url(#clip562)\" cx=\"1396.24\" cy=\"701.571\" r=\"14\" fill=\"#e26f46\" fill-rule=\"evenodd\" fill-opacity=\"1\" stroke=\"#000000\" stroke-opacity=\"1\" stroke-width=\"3.2\"/>\n",
       "<circle clip-path=\"url(#clip562)\" cx=\"1399.32\" cy=\"735.613\" r=\"14\" fill=\"#e26f46\" fill-rule=\"evenodd\" fill-opacity=\"1\" stroke=\"#000000\" stroke-opacity=\"1\" stroke-width=\"3.2\"/>\n",
       "<circle clip-path=\"url(#clip562)\" cx=\"1390.77\" cy=\"698.36\" r=\"14\" fill=\"#e26f46\" fill-rule=\"evenodd\" fill-opacity=\"1\" stroke=\"#000000\" stroke-opacity=\"1\" stroke-width=\"3.2\"/>\n",
       "<circle clip-path=\"url(#clip562)\" cx=\"1480.97\" cy=\"675.152\" r=\"14\" fill=\"#e26f46\" fill-rule=\"evenodd\" fill-opacity=\"1\" stroke=\"#000000\" stroke-opacity=\"1\" stroke-width=\"3.2\"/>\n",
       "<circle clip-path=\"url(#clip562)\" cx=\"1366.03\" cy=\"714.543\" r=\"14\" fill=\"#e26f46\" fill-rule=\"evenodd\" fill-opacity=\"1\" stroke=\"#000000\" stroke-opacity=\"1\" stroke-width=\"3.2\"/>\n",
       "<circle clip-path=\"url(#clip562)\" cx=\"1389.13\" cy=\"715.101\" r=\"14\" fill=\"#e26f46\" fill-rule=\"evenodd\" fill-opacity=\"1\" stroke=\"#000000\" stroke-opacity=\"1\" stroke-width=\"3.2\"/>\n",
       "<circle clip-path=\"url(#clip562)\" cx=\"1378.59\" cy=\"712.318\" r=\"14\" fill=\"#e26f46\" fill-rule=\"evenodd\" fill-opacity=\"1\" stroke=\"#000000\" stroke-opacity=\"1\" stroke-width=\"3.2\"/>\n",
       "<circle clip-path=\"url(#clip562)\" cx=\"1420.17\" cy=\"714.853\" r=\"14\" fill=\"#e26f46\" fill-rule=\"evenodd\" fill-opacity=\"1\" stroke=\"#000000\" stroke-opacity=\"1\" stroke-width=\"3.2\"/>\n",
       "<circle clip-path=\"url(#clip562)\" cx=\"1378.65\" cy=\"710.575\" r=\"14\" fill=\"#e26f46\" fill-rule=\"evenodd\" fill-opacity=\"1\" stroke=\"#000000\" stroke-opacity=\"1\" stroke-width=\"3.2\"/>\n",
       "<circle clip-path=\"url(#clip562)\" cx=\"1401.18\" cy=\"719.034\" r=\"14\" fill=\"#e26f46\" fill-rule=\"evenodd\" fill-opacity=\"1\" stroke=\"#000000\" stroke-opacity=\"1\" stroke-width=\"3.2\"/>\n",
       "<circle clip-path=\"url(#clip562)\" cx=\"1391.81\" cy=\"702.958\" r=\"14\" fill=\"#e26f46\" fill-rule=\"evenodd\" fill-opacity=\"1\" stroke=\"#000000\" stroke-opacity=\"1\" stroke-width=\"3.2\"/>\n",
       "<circle clip-path=\"url(#clip562)\" cx=\"1553.81\" cy=\"677.047\" r=\"14\" fill=\"#e26f46\" fill-rule=\"evenodd\" fill-opacity=\"1\" stroke=\"#000000\" stroke-opacity=\"1\" stroke-width=\"3.2\"/>\n",
       "<circle clip-path=\"url(#clip562)\" cx=\"1380.31\" cy=\"636.581\" r=\"14\" fill=\"#e26f46\" fill-rule=\"evenodd\" fill-opacity=\"1\" stroke=\"#000000\" stroke-opacity=\"1\" stroke-width=\"3.2\"/>\n",
       "<circle clip-path=\"url(#clip562)\" cx=\"1381.56\" cy=\"725.278\" r=\"14\" fill=\"#e26f46\" fill-rule=\"evenodd\" fill-opacity=\"1\" stroke=\"#000000\" stroke-opacity=\"1\" stroke-width=\"3.2\"/>\n",
       "<circle clip-path=\"url(#clip562)\" cx=\"1381.35\" cy=\"700.121\" r=\"14\" fill=\"#e26f46\" fill-rule=\"evenodd\" fill-opacity=\"1\" stroke=\"#000000\" stroke-opacity=\"1\" stroke-width=\"3.2\"/>\n",
       "<circle clip-path=\"url(#clip562)\" cx=\"1382.42\" cy=\"714.731\" r=\"14\" fill=\"#e26f46\" fill-rule=\"evenodd\" fill-opacity=\"1\" stroke=\"#000000\" stroke-opacity=\"1\" stroke-width=\"3.2\"/>\n",
       "<circle clip-path=\"url(#clip562)\" cx=\"1395.57\" cy=\"730.347\" r=\"14\" fill=\"#e26f46\" fill-rule=\"evenodd\" fill-opacity=\"1\" stroke=\"#000000\" stroke-opacity=\"1\" stroke-width=\"3.2\"/>\n",
       "<circle clip-path=\"url(#clip562)\" cx=\"1478.49\" cy=\"868.635\" r=\"14\" fill=\"#e26f46\" fill-rule=\"evenodd\" fill-opacity=\"1\" stroke=\"#000000\" stroke-opacity=\"1\" stroke-width=\"3.2\"/>\n",
       "<circle clip-path=\"url(#clip562)\" cx=\"1395.28\" cy=\"657.577\" r=\"14\" fill=\"#e26f46\" fill-rule=\"evenodd\" fill-opacity=\"1\" stroke=\"#000000\" stroke-opacity=\"1\" stroke-width=\"3.2\"/>\n",
       "<circle clip-path=\"url(#clip562)\" cx=\"1403.64\" cy=\"729.385\" r=\"14\" fill=\"#e26f46\" fill-rule=\"evenodd\" fill-opacity=\"1\" stroke=\"#000000\" stroke-opacity=\"1\" stroke-width=\"3.2\"/>\n",
       "<circle clip-path=\"url(#clip562)\" cx=\"1390.16\" cy=\"732.764\" r=\"14\" fill=\"#e26f46\" fill-rule=\"evenodd\" fill-opacity=\"1\" stroke=\"#000000\" stroke-opacity=\"1\" stroke-width=\"3.2\"/>\n",
       "<circle clip-path=\"url(#clip562)\" cx=\"1390.04\" cy=\"699.887\" r=\"14\" fill=\"#e26f46\" fill-rule=\"evenodd\" fill-opacity=\"1\" stroke=\"#000000\" stroke-opacity=\"1\" stroke-width=\"3.2\"/>\n",
       "<circle clip-path=\"url(#clip562)\" cx=\"1406.1\" cy=\"716.186\" r=\"14\" fill=\"#e26f46\" fill-rule=\"evenodd\" fill-opacity=\"1\" stroke=\"#000000\" stroke-opacity=\"1\" stroke-width=\"3.2\"/>\n",
       "<circle clip-path=\"url(#clip562)\" cx=\"1392.97\" cy=\"725.328\" r=\"14\" fill=\"#e26f46\" fill-rule=\"evenodd\" fill-opacity=\"1\" stroke=\"#000000\" stroke-opacity=\"1\" stroke-width=\"3.2\"/>\n",
       "<circle clip-path=\"url(#clip562)\" cx=\"1382.93\" cy=\"711.734\" r=\"14\" fill=\"#e26f46\" fill-rule=\"evenodd\" fill-opacity=\"1\" stroke=\"#000000\" stroke-opacity=\"1\" stroke-width=\"3.2\"/>\n",
       "<circle clip-path=\"url(#clip562)\" cx=\"1367.78\" cy=\"657.237\" r=\"14\" fill=\"#e26f46\" fill-rule=\"evenodd\" fill-opacity=\"1\" stroke=\"#000000\" stroke-opacity=\"1\" stroke-width=\"3.2\"/>\n",
       "<circle clip-path=\"url(#clip562)\" cx=\"1388.55\" cy=\"707.715\" r=\"14\" fill=\"#e26f46\" fill-rule=\"evenodd\" fill-opacity=\"1\" stroke=\"#000000\" stroke-opacity=\"1\" stroke-width=\"3.2\"/>\n",
       "<path clip-path=\"url(#clip560)\" d=\"\n",
       "M1983.25 276.658 L2279.26 276.658 L2279.26 95.2176 L1983.25 95.2176  Z\n",
       "  \" fill=\"#ffffff\" fill-rule=\"evenodd\" fill-opacity=\"1\"/>\n",
       "<polyline clip-path=\"url(#clip560)\" style=\"stroke:#000000; stroke-width:4; stroke-opacity:1; fill:none\" points=\"\n",
       "  1983.25,276.658 2279.26,276.658 2279.26,95.2176 1983.25,95.2176 1983.25,276.658 \n",
       "  \"/>\n",
       "<circle clip-path=\"url(#clip560)\" cx=\"2081.25\" cy=\"155.698\" r=\"23\" fill=\"#009af9\" fill-rule=\"evenodd\" fill-opacity=\"1\" stroke=\"#000000\" stroke-opacity=\"1\" stroke-width=\"5.12\"/>\n",
       "<path clip-path=\"url(#clip560)\" d=\"M 0 0 M2193.09 175.385 Q2191.28 180.015 2189.57 181.427 Q2187.85 182.839 2184.98 182.839 L2181.58 182.839 L2181.58 179.274 L2184.08 179.274 Q2185.84 179.274 2186.81 178.44 Q2187.78 177.607 2188.96 174.505 L2189.73 172.561 L2179.24 147.052 L2183.76 147.052 L2191.86 167.329 L2199.96 147.052 L2204.47 147.052 L2193.09 175.385 Z\" fill=\"#000000\" fill-rule=\"evenodd\" fill-opacity=\"1\" /><path clip-path=\"url(#clip560)\" d=\"M 0 0 M2210.35 169.042 L2217.99 169.042 L2217.99 142.677 L2209.68 144.343 L2209.68 140.084 L2217.95 138.418 L2222.62 138.418 L2222.62 169.042 L2230.26 169.042 L2230.26 172.978 L2210.35 172.978 L2210.35 169.042 Z\" fill=\"#000000\" fill-rule=\"evenodd\" fill-opacity=\"1\" /><circle clip-path=\"url(#clip560)\" cx=\"2081.25\" cy=\"216.178\" r=\"23\" fill=\"#e26f46\" fill-rule=\"evenodd\" fill-opacity=\"1\" stroke=\"#000000\" stroke-opacity=\"1\" stroke-width=\"5.12\"/>\n",
       "<path clip-path=\"url(#clip560)\" d=\"M 0 0 M2193.09 235.865 Q2191.28 240.495 2189.57 241.907 Q2187.85 243.319 2184.98 243.319 L2181.58 243.319 L2181.58 239.754 L2184.08 239.754 Q2185.84 239.754 2186.81 238.92 Q2187.78 238.087 2188.96 234.985 L2189.73 233.041 L2179.24 207.532 L2183.76 207.532 L2191.86 227.809 L2199.96 207.532 L2204.47 207.532 L2193.09 235.865 Z\" fill=\"#000000\" fill-rule=\"evenodd\" fill-opacity=\"1\" /><path clip-path=\"url(#clip560)\" d=\"M 0 0 M2213.57 229.522 L2229.89 229.522 L2229.89 233.458 L2207.95 233.458 L2207.95 229.522 Q2210.61 226.768 2215.19 222.138 Q2219.8 217.485 2220.98 216.143 Q2223.22 213.62 2224.1 211.884 Q2225.01 210.124 2225.01 208.435 Q2225.01 205.68 2223.06 203.944 Q2221.14 202.208 2218.04 202.208 Q2215.84 202.208 2213.39 202.972 Q2210.96 203.735 2208.18 205.286 L2208.18 200.564 Q2211 199.43 2213.46 198.851 Q2215.91 198.273 2217.95 198.273 Q2223.32 198.273 2226.51 200.958 Q2229.71 203.643 2229.71 208.134 Q2229.71 210.263 2228.9 212.185 Q2228.11 214.083 2226 216.675 Q2225.42 217.347 2222.32 220.564 Q2219.22 223.759 2213.57 229.522 Z\" fill=\"#000000\" fill-rule=\"evenodd\" fill-opacity=\"1\" /></svg>\n"
      ]
     },
     "execution_count": 102,
     "metadata": {},
     "output_type": "execute_result"
    }
   ],
   "source": [
    "#example of embedding of circular graph into 2d space\n",
    "n = 100\n",
    "\n",
    "#fix 3 of the nodes to the edges of a triangle\n",
    "fixed = [100,80,60,40,20]\n",
    "fx = [0,1,1.5,1,0]\n",
    "fy = [0.2, 0, 0.5, 1, 0.8]\n",
    "\n",
    "#starting positions of nodes\n",
    "xs = zeros(n-length(fixed))\n",
    "ys = zeros(n-length(fixed))\n",
    "\n",
    "#edges = get_loop_graph(n)\n",
    "edges = get_random_graph(n,0.1)\n",
    "\n",
    "display(edges)\n",
    "\n",
    "#connecting the middle vertices\n",
    "\n",
    "#edges = vcat(edges,(3,7))\n",
    "#edges = vcat(edges,(3,11))\n",
    "#edges = vcat(edges,(7,11))\n",
    "\n",
    "#get the two systems, one for x and other for y\n",
    "matx, bx = get_graph(n,edges,fixed,fx)\n",
    "matx = mat_to_razprsena(matx)\n",
    "\n",
    "maty, by = get_graph(n,edges,fixed,fy)\n",
    "maty = mat_to_razprsena(maty)\n",
    "\n",
    "its = zeros(10)\n",
    "#solve the systems\n",
    "for i=1:10\n",
    "    xs = rand(Float64,n-length(fixed))\n",
    "    ys = rand(Float64, n-length(fixed))\n",
    "    \n",
    "    xs, it1 = sor(matx,bx,xs,i/10,1e-5,10000)\n",
    "    ys, it2 = sor(maty,by,ys,i/10,1e-5,10000)\n",
    "    \n",
    "    its[i] = it1+it2\n",
    "end\n",
    "\n",
    "#plot\n",
    "plot(fy,fx,seriestype = :scatter)\n",
    "plot!(ys,xs,seriestype = :scatter)\n",
    "\n"
   ]
  },
  {
   "cell_type": "code",
   "execution_count": 103,
   "id": "c5f966d6-b03e-4534-993f-a3dd2660079d",
   "metadata": {},
   "outputs": [
    {
     "data": {
      "image/svg+xml": [
       "<?xml version=\"1.0\" encoding=\"utf-8\"?>\n",
       "<svg xmlns=\"http://www.w3.org/2000/svg\" xmlns:xlink=\"http://www.w3.org/1999/xlink\" width=\"600\" height=\"400\" viewBox=\"0 0 2400 1600\">\n",
       "<defs>\n",
       "  <clipPath id=\"clip600\">\n",
       "    <rect x=\"0\" y=\"0\" width=\"2400\" height=\"1600\"/>\n",
       "  </clipPath>\n",
       "</defs>\n",
       "<path clip-path=\"url(#clip600)\" d=\"\n",
       "M0 1600 L2400 1600 L2400 0 L0 0  Z\n",
       "  \" fill=\"#ffffff\" fill-rule=\"evenodd\" fill-opacity=\"1\"/>\n",
       "<defs>\n",
       "  <clipPath id=\"clip601\">\n",
       "    <rect x=\"480\" y=\"0\" width=\"1681\" height=\"1600\"/>\n",
       "  </clipPath>\n",
       "</defs>\n",
       "<path clip-path=\"url(#clip600)\" d=\"\n",
       "M190.788 1486.45 L2352.76 1486.45 L2352.76 47.2441 L190.788 47.2441  Z\n",
       "  \" fill=\"#ffffff\" fill-rule=\"evenodd\" fill-opacity=\"1\"/>\n",
       "<defs>\n",
       "  <clipPath id=\"clip602\">\n",
       "    <rect x=\"190\" y=\"47\" width=\"2163\" height=\"1440\"/>\n",
       "  </clipPath>\n",
       "</defs>\n",
       "<polyline clip-path=\"url(#clip602)\" style=\"stroke:#000000; stroke-width:2; stroke-opacity:0.1; fill:none\" points=\"\n",
       "  478.597,1486.45 478.597,47.2441 \n",
       "  \"/>\n",
       "<polyline clip-path=\"url(#clip602)\" style=\"stroke:#000000; stroke-width:2; stroke-opacity:0.1; fill:none\" points=\"\n",
       "  931.84,1486.45 931.84,47.2441 \n",
       "  \"/>\n",
       "<polyline clip-path=\"url(#clip602)\" style=\"stroke:#000000; stroke-width:2; stroke-opacity:0.1; fill:none\" points=\"\n",
       "  1385.08,1486.45 1385.08,47.2441 \n",
       "  \"/>\n",
       "<polyline clip-path=\"url(#clip602)\" style=\"stroke:#000000; stroke-width:2; stroke-opacity:0.1; fill:none\" points=\"\n",
       "  1838.33,1486.45 1838.33,47.2441 \n",
       "  \"/>\n",
       "<polyline clip-path=\"url(#clip602)\" style=\"stroke:#000000; stroke-width:2; stroke-opacity:0.1; fill:none\" points=\"\n",
       "  2291.57,1486.45 2291.57,47.2441 \n",
       "  \"/>\n",
       "<polyline clip-path=\"url(#clip600)\" style=\"stroke:#000000; stroke-width:4; stroke-opacity:1; fill:none\" points=\"\n",
       "  190.788,1486.45 2352.76,1486.45 \n",
       "  \"/>\n",
       "<polyline clip-path=\"url(#clip600)\" style=\"stroke:#000000; stroke-width:4; stroke-opacity:1; fill:none\" points=\"\n",
       "  478.597,1486.45 478.597,1469.18 \n",
       "  \"/>\n",
       "<polyline clip-path=\"url(#clip600)\" style=\"stroke:#000000; stroke-width:4; stroke-opacity:1; fill:none\" points=\"\n",
       "  931.84,1486.45 931.84,1469.18 \n",
       "  \"/>\n",
       "<polyline clip-path=\"url(#clip600)\" style=\"stroke:#000000; stroke-width:4; stroke-opacity:1; fill:none\" points=\"\n",
       "  1385.08,1486.45 1385.08,1469.18 \n",
       "  \"/>\n",
       "<polyline clip-path=\"url(#clip600)\" style=\"stroke:#000000; stroke-width:4; stroke-opacity:1; fill:none\" points=\"\n",
       "  1838.33,1486.45 1838.33,1469.18 \n",
       "  \"/>\n",
       "<polyline clip-path=\"url(#clip600)\" style=\"stroke:#000000; stroke-width:4; stroke-opacity:1; fill:none\" points=\"\n",
       "  2291.57,1486.45 2291.57,1469.18 \n",
       "  \"/>\n",
       "<path clip-path=\"url(#clip600)\" d=\"M 0 0 M473.25 1543.18 L489.569 1543.18 L489.569 1547.12 L467.625 1547.12 L467.625 1543.18 Q470.287 1540.43 474.87 1535.8 Q479.477 1531.15 480.657 1529.81 Q482.903 1527.28 483.782 1525.55 Q484.685 1523.79 484.685 1522.1 Q484.685 1519.34 482.741 1517.61 Q480.819 1515.87 477.717 1515.87 Q475.518 1515.87 473.065 1516.63 Q470.634 1517.4 467.856 1518.95 L467.856 1514.23 Q470.68 1513.09 473.134 1512.51 Q475.588 1511.93 477.625 1511.93 Q482.995 1511.93 486.19 1514.62 Q489.384 1517.31 489.384 1521.8 Q489.384 1523.93 488.574 1525.85 Q487.787 1527.74 485.68 1530.34 Q485.102 1531.01 482 1534.23 Q478.898 1537.42 473.25 1543.18 Z\" fill=\"#000000\" fill-rule=\"evenodd\" fill-opacity=\"1\" /><path clip-path=\"url(#clip600)\" d=\"M 0 0 M934.849 1516.63 L923.044 1535.08 L934.849 1535.08 L934.849 1516.63 M933.622 1512.56 L939.502 1512.56 L939.502 1535.08 L944.432 1535.08 L944.432 1538.97 L939.502 1538.97 L939.502 1547.12 L934.849 1547.12 L934.849 1538.97 L919.247 1538.97 L919.247 1534.46 L933.622 1512.56 Z\" fill=\"#000000\" fill-rule=\"evenodd\" fill-opacity=\"1\" /><path clip-path=\"url(#clip600)\" d=\"M 0 0 M1385.49 1527.98 Q1382.34 1527.98 1380.49 1530.13 Q1378.66 1532.28 1378.66 1536.03 Q1378.66 1539.76 1380.49 1541.93 Q1382.34 1544.09 1385.49 1544.09 Q1388.64 1544.09 1390.46 1541.93 Q1392.32 1539.76 1392.32 1536.03 Q1392.32 1532.28 1390.46 1530.13 Q1388.64 1527.98 1385.49 1527.98 M1394.77 1513.32 L1394.77 1517.58 Q1393.01 1516.75 1391.21 1516.31 Q1389.42 1515.87 1387.66 1515.87 Q1383.03 1515.87 1380.58 1519 Q1378.15 1522.12 1377.8 1528.44 Q1379.17 1526.43 1381.23 1525.36 Q1383.29 1524.27 1385.77 1524.27 Q1390.97 1524.27 1393.98 1527.44 Q1397.02 1530.59 1397.02 1536.03 Q1397.02 1541.36 1393.87 1544.57 Q1390.72 1547.79 1385.49 1547.79 Q1379.49 1547.79 1376.32 1543.21 Q1373.15 1538.6 1373.15 1529.87 Q1373.15 1521.68 1377.04 1516.82 Q1380.93 1511.93 1387.48 1511.93 Q1389.24 1511.93 1391.02 1512.28 Q1392.83 1512.63 1394.77 1513.32 Z\" fill=\"#000000\" fill-rule=\"evenodd\" fill-opacity=\"1\" /><path clip-path=\"url(#clip600)\" d=\"M 0 0 M1838.33 1530.71 Q1834.99 1530.71 1833.07 1532.49 Q1831.17 1534.27 1831.17 1537.4 Q1831.17 1540.52 1833.07 1542.31 Q1834.99 1544.09 1838.33 1544.09 Q1841.66 1544.09 1843.58 1542.31 Q1845.5 1540.5 1845.5 1537.4 Q1845.5 1534.27 1843.58 1532.49 Q1841.68 1530.71 1838.33 1530.71 M1833.65 1528.72 Q1830.64 1527.98 1828.95 1525.92 Q1827.28 1523.86 1827.28 1520.89 Q1827.28 1516.75 1830.22 1514.34 Q1833.19 1511.93 1838.33 1511.93 Q1843.49 1511.93 1846.43 1514.34 Q1849.37 1516.75 1849.37 1520.89 Q1849.37 1523.86 1847.68 1525.92 Q1846.01 1527.98 1843.02 1528.72 Q1846.4 1529.5 1848.28 1531.8 Q1850.18 1534.09 1850.18 1537.4 Q1850.18 1542.42 1847.1 1545.11 Q1844.04 1547.79 1838.33 1547.79 Q1832.61 1547.79 1829.53 1545.11 Q1826.47 1542.42 1826.47 1537.4 Q1826.47 1534.09 1828.37 1531.8 Q1830.27 1529.5 1833.65 1528.72 M1831.94 1521.33 Q1831.94 1524.02 1833.6 1525.52 Q1835.29 1527.03 1838.33 1527.03 Q1841.33 1527.03 1843.02 1525.52 Q1844.74 1524.02 1844.74 1521.33 Q1844.74 1518.65 1843.02 1517.14 Q1841.33 1515.64 1838.33 1515.64 Q1835.29 1515.64 1833.6 1517.14 Q1831.94 1518.65 1831.94 1521.33 Z\" fill=\"#000000\" fill-rule=\"evenodd\" fill-opacity=\"1\" /><path clip-path=\"url(#clip600)\" d=\"M 0 0 M2268.44 1543.18 L2276.08 1543.18 L2276.08 1516.82 L2267.77 1518.49 L2267.77 1514.23 L2276.04 1512.56 L2280.71 1512.56 L2280.71 1543.18 L2288.35 1543.18 L2288.35 1547.12 L2268.44 1547.12 L2268.44 1543.18 Z\" fill=\"#000000\" fill-rule=\"evenodd\" fill-opacity=\"1\" /><path clip-path=\"url(#clip600)\" d=\"M 0 0 M2303.42 1515.64 Q2299.81 1515.64 2297.98 1519.2 Q2296.17 1522.75 2296.17 1529.87 Q2296.17 1536.98 2297.98 1540.55 Q2299.81 1544.09 2303.42 1544.09 Q2307.05 1544.09 2308.86 1540.55 Q2310.69 1536.98 2310.69 1529.87 Q2310.69 1522.75 2308.86 1519.2 Q2307.05 1515.64 2303.42 1515.64 M2303.42 1511.93 Q2309.23 1511.93 2312.29 1516.54 Q2315.36 1521.12 2315.36 1529.87 Q2315.36 1538.6 2312.29 1543.21 Q2309.23 1547.79 2303.42 1547.79 Q2297.61 1547.79 2294.53 1543.21 Q2291.48 1538.6 2291.48 1529.87 Q2291.48 1521.12 2294.53 1516.54 Q2297.61 1511.93 2303.42 1511.93 Z\" fill=\"#000000\" fill-rule=\"evenodd\" fill-opacity=\"1\" /><polyline clip-path=\"url(#clip602)\" style=\"stroke:#000000; stroke-width:2; stroke-opacity:0.1; fill:none\" points=\"\n",
       "  190.788,1329.66 2352.76,1329.66 \n",
       "  \"/>\n",
       "<polyline clip-path=\"url(#clip602)\" style=\"stroke:#000000; stroke-width:2; stroke-opacity:0.1; fill:none\" points=\"\n",
       "  190.788,1119.42 2352.76,1119.42 \n",
       "  \"/>\n",
       "<polyline clip-path=\"url(#clip602)\" style=\"stroke:#000000; stroke-width:2; stroke-opacity:0.1; fill:none\" points=\"\n",
       "  190.788,909.179 2352.76,909.179 \n",
       "  \"/>\n",
       "<polyline clip-path=\"url(#clip602)\" style=\"stroke:#000000; stroke-width:2; stroke-opacity:0.1; fill:none\" points=\"\n",
       "  190.788,698.938 2352.76,698.938 \n",
       "  \"/>\n",
       "<polyline clip-path=\"url(#clip602)\" style=\"stroke:#000000; stroke-width:2; stroke-opacity:0.1; fill:none\" points=\"\n",
       "  190.788,488.697 2352.76,488.697 \n",
       "  \"/>\n",
       "<polyline clip-path=\"url(#clip602)\" style=\"stroke:#000000; stroke-width:2; stroke-opacity:0.1; fill:none\" points=\"\n",
       "  190.788,278.455 2352.76,278.455 \n",
       "  \"/>\n",
       "<polyline clip-path=\"url(#clip602)\" style=\"stroke:#000000; stroke-width:2; stroke-opacity:0.1; fill:none\" points=\"\n",
       "  190.788,68.2136 2352.76,68.2136 \n",
       "  \"/>\n",
       "<polyline clip-path=\"url(#clip600)\" style=\"stroke:#000000; stroke-width:4; stroke-opacity:1; fill:none\" points=\"\n",
       "  190.788,1486.45 190.788,47.2441 \n",
       "  \"/>\n",
       "<polyline clip-path=\"url(#clip600)\" style=\"stroke:#000000; stroke-width:4; stroke-opacity:1; fill:none\" points=\"\n",
       "  190.788,1329.66 216.731,1329.66 \n",
       "  \"/>\n",
       "<polyline clip-path=\"url(#clip600)\" style=\"stroke:#000000; stroke-width:4; stroke-opacity:1; fill:none\" points=\"\n",
       "  190.788,1119.42 216.731,1119.42 \n",
       "  \"/>\n",
       "<polyline clip-path=\"url(#clip600)\" style=\"stroke:#000000; stroke-width:4; stroke-opacity:1; fill:none\" points=\"\n",
       "  190.788,909.179 216.731,909.179 \n",
       "  \"/>\n",
       "<polyline clip-path=\"url(#clip600)\" style=\"stroke:#000000; stroke-width:4; stroke-opacity:1; fill:none\" points=\"\n",
       "  190.788,698.938 216.731,698.938 \n",
       "  \"/>\n",
       "<polyline clip-path=\"url(#clip600)\" style=\"stroke:#000000; stroke-width:4; stroke-opacity:1; fill:none\" points=\"\n",
       "  190.788,488.697 216.731,488.697 \n",
       "  \"/>\n",
       "<polyline clip-path=\"url(#clip600)\" style=\"stroke:#000000; stroke-width:4; stroke-opacity:1; fill:none\" points=\"\n",
       "  190.788,278.455 216.731,278.455 \n",
       "  \"/>\n",
       "<polyline clip-path=\"url(#clip600)\" style=\"stroke:#000000; stroke-width:4; stroke-opacity:1; fill:none\" points=\"\n",
       "  190.788,68.2136 216.731,68.2136 \n",
       "  \"/>\n",
       "<path clip-path=\"url(#clip600)\" d=\"M 0 0 M79.8577 1312.38 L98.2141 1312.38 L98.2141 1316.32 L84.1401 1316.32 L84.1401 1324.79 Q85.1586 1324.44 86.1771 1324.28 Q87.1956 1324.1 88.2141 1324.1 Q94.0012 1324.1 97.3808 1327.27 Q100.76 1330.44 100.76 1335.85 Q100.76 1341.43 97.2882 1344.54 Q93.816 1347.61 87.4966 1347.61 Q85.3206 1347.61 83.0521 1347.24 Q80.8068 1346.87 78.3994 1346.13 L78.3994 1341.43 Q80.4827 1342.57 82.7049 1343.12 Q84.9271 1343.68 87.404 1343.68 Q91.4086 1343.68 93.7465 1341.57 Q96.0845 1339.47 96.0845 1335.85 Q96.0845 1332.24 93.7465 1330.14 Q91.4086 1328.03 87.404 1328.03 Q85.529 1328.03 83.654 1328.45 Q81.8021 1328.86 79.8577 1329.74 L79.8577 1312.38 Z\" fill=\"#000000\" fill-rule=\"evenodd\" fill-opacity=\"1\" /><path clip-path=\"url(#clip600)\" d=\"M 0 0 M115.83 1315.46 Q112.219 1315.46 110.39 1319.03 Q108.584 1322.57 108.584 1329.7 Q108.584 1336.8 110.39 1340.37 Q112.219 1343.91 115.83 1343.91 Q119.464 1343.91 121.27 1340.37 Q123.098 1336.8 123.098 1329.7 Q123.098 1322.57 121.27 1319.03 Q119.464 1315.46 115.83 1315.46 M115.83 1311.76 Q121.64 1311.76 124.695 1316.36 Q127.774 1320.95 127.774 1329.7 Q127.774 1338.42 124.695 1343.03 Q121.64 1347.61 115.83 1347.61 Q110.02 1347.61 106.941 1343.03 Q103.885 1338.42 103.885 1329.7 Q103.885 1320.95 106.941 1316.36 Q110.02 1311.76 115.83 1311.76 Z\" fill=\"#000000\" fill-rule=\"evenodd\" fill-opacity=\"1\" /><path clip-path=\"url(#clip600)\" d=\"M 0 0 M142.843 1315.46 Q139.232 1315.46 137.404 1319.03 Q135.598 1322.57 135.598 1329.7 Q135.598 1336.8 137.404 1340.37 Q139.232 1343.91 142.843 1343.91 Q146.478 1343.91 148.283 1340.37 Q150.112 1336.8 150.112 1329.7 Q150.112 1322.57 148.283 1319.03 Q146.478 1315.46 142.843 1315.46 M142.843 1311.76 Q148.654 1311.76 151.709 1316.36 Q154.788 1320.95 154.788 1329.7 Q154.788 1338.42 151.709 1343.03 Q148.654 1347.61 142.843 1347.61 Q137.033 1347.61 133.955 1343.03 Q130.899 1338.42 130.899 1329.7 Q130.899 1320.95 133.955 1316.36 Q137.033 1311.76 142.843 1311.76 Z\" fill=\"#000000\" fill-rule=\"evenodd\" fill-opacity=\"1\" /><path clip-path=\"url(#clip600)\" d=\"M 0 0 M53.8393 1132.77 L61.4782 1132.77 L61.4782 1106.4 L53.168 1108.07 L53.168 1103.81 L61.4319 1102.14 L66.1078 1102.14 L66.1078 1132.77 L73.7466 1132.77 L73.7466 1136.7 L53.8393 1136.7 L53.8393 1132.77 Z\" fill=\"#000000\" fill-rule=\"evenodd\" fill-opacity=\"1\" /><path clip-path=\"url(#clip600)\" d=\"M 0 0 M88.816 1105.22 Q85.2049 1105.22 83.3762 1108.78 Q81.5707 1112.33 81.5707 1119.46 Q81.5707 1126.56 83.3762 1130.13 Q85.2049 1133.67 88.816 1133.67 Q92.4502 1133.67 94.2558 1130.13 Q96.0845 1126.56 96.0845 1119.46 Q96.0845 1112.33 94.2558 1108.78 Q92.4502 1105.22 88.816 1105.22 M88.816 1101.52 Q94.6262 1101.52 97.6817 1106.12 Q100.76 1110.71 100.76 1119.46 Q100.76 1128.18 97.6817 1132.79 Q94.6262 1137.37 88.816 1137.37 Q83.0058 1137.37 79.9272 1132.79 Q76.8716 1128.18 76.8716 1119.46 Q76.8716 1110.71 79.9272 1106.12 Q83.0058 1101.52 88.816 1101.52 Z\" fill=\"#000000\" fill-rule=\"evenodd\" fill-opacity=\"1\" /><path clip-path=\"url(#clip600)\" d=\"M 0 0 M115.83 1105.22 Q112.219 1105.22 110.39 1108.78 Q108.584 1112.33 108.584 1119.46 Q108.584 1126.56 110.39 1130.13 Q112.219 1133.67 115.83 1133.67 Q119.464 1133.67 121.27 1130.13 Q123.098 1126.56 123.098 1119.46 Q123.098 1112.33 121.27 1108.78 Q119.464 1105.22 115.83 1105.22 M115.83 1101.52 Q121.64 1101.52 124.695 1106.12 Q127.774 1110.71 127.774 1119.46 Q127.774 1128.18 124.695 1132.79 Q121.64 1137.37 115.83 1137.37 Q110.02 1137.37 106.941 1132.79 Q103.885 1128.18 103.885 1119.46 Q103.885 1110.71 106.941 1106.12 Q110.02 1101.52 115.83 1101.52 Z\" fill=\"#000000\" fill-rule=\"evenodd\" fill-opacity=\"1\" /><path clip-path=\"url(#clip600)\" d=\"M 0 0 M142.843 1105.22 Q139.232 1105.22 137.404 1108.78 Q135.598 1112.33 135.598 1119.46 Q135.598 1126.56 137.404 1130.13 Q139.232 1133.67 142.843 1133.67 Q146.478 1133.67 148.283 1130.13 Q150.112 1126.56 150.112 1119.46 Q150.112 1112.33 148.283 1108.78 Q146.478 1105.22 142.843 1105.22 M142.843 1101.52 Q148.654 1101.52 151.709 1106.12 Q154.788 1110.71 154.788 1119.46 Q154.788 1128.18 151.709 1132.79 Q148.654 1137.37 142.843 1137.37 Q137.033 1137.37 133.955 1132.79 Q130.899 1128.18 130.899 1119.46 Q130.899 1110.71 133.955 1106.12 Q137.033 1101.52 142.843 1101.52 Z\" fill=\"#000000\" fill-rule=\"evenodd\" fill-opacity=\"1\" /><path clip-path=\"url(#clip600)\" d=\"M 0 0 M54.8347 922.524 L62.4735 922.524 L62.4735 896.159 L54.1634 897.825 L54.1634 893.566 L62.4272 891.899 L67.1032 891.899 L67.1032 922.524 L74.742 922.524 L74.742 926.459 L54.8347 926.459 L54.8347 922.524 Z\" fill=\"#000000\" fill-rule=\"evenodd\" fill-opacity=\"1\" /><path clip-path=\"url(#clip600)\" d=\"M 0 0 M79.8577 891.899 L98.2141 891.899 L98.2141 895.835 L84.1401 895.835 L84.1401 904.307 Q85.1586 903.96 86.1771 903.798 Q87.1956 903.612 88.2141 903.612 Q94.0012 903.612 97.3808 906.784 Q100.76 909.955 100.76 915.372 Q100.76 920.95 97.2882 924.052 Q93.816 927.131 87.4966 927.131 Q85.3206 927.131 83.0521 926.76 Q80.8068 926.39 78.3994 925.649 L78.3994 920.95 Q80.4827 922.084 82.7049 922.64 Q84.9271 923.196 87.404 923.196 Q91.4086 923.196 93.7465 921.089 Q96.0845 918.983 96.0845 915.372 Q96.0845 911.76 93.7465 909.654 Q91.4086 907.548 87.404 907.548 Q85.529 907.548 83.654 907.964 Q81.8021 908.381 79.8577 909.26 L79.8577 891.899 Z\" fill=\"#000000\" fill-rule=\"evenodd\" fill-opacity=\"1\" /><path clip-path=\"url(#clip600)\" d=\"M 0 0 M115.83 894.978 Q112.219 894.978 110.39 898.543 Q108.584 902.085 108.584 909.214 Q108.584 916.321 110.39 919.885 Q112.219 923.427 115.83 923.427 Q119.464 923.427 121.27 919.885 Q123.098 916.321 123.098 909.214 Q123.098 902.085 121.27 898.543 Q119.464 894.978 115.83 894.978 M115.83 891.274 Q121.64 891.274 124.695 895.881 Q127.774 900.464 127.774 909.214 Q127.774 917.941 124.695 922.547 Q121.64 927.131 115.83 927.131 Q110.02 927.131 106.941 922.547 Q103.885 917.941 103.885 909.214 Q103.885 900.464 106.941 895.881 Q110.02 891.274 115.83 891.274 Z\" fill=\"#000000\" fill-rule=\"evenodd\" fill-opacity=\"1\" /><path clip-path=\"url(#clip600)\" d=\"M 0 0 M142.843 894.978 Q139.232 894.978 137.404 898.543 Q135.598 902.085 135.598 909.214 Q135.598 916.321 137.404 919.885 Q139.232 923.427 142.843 923.427 Q146.478 923.427 148.283 919.885 Q150.112 916.321 150.112 909.214 Q150.112 902.085 148.283 898.543 Q146.478 894.978 142.843 894.978 M142.843 891.274 Q148.654 891.274 151.709 895.881 Q154.788 900.464 154.788 909.214 Q154.788 917.941 151.709 922.547 Q148.654 927.131 142.843 927.131 Q137.033 927.131 133.955 922.547 Q130.899 917.941 130.899 909.214 Q130.899 900.464 133.955 895.881 Q137.033 891.274 142.843 891.274 Z\" fill=\"#000000\" fill-rule=\"evenodd\" fill-opacity=\"1\" /><path clip-path=\"url(#clip600)\" d=\"M 0 0 M57.4273 712.283 L73.7466 712.283 L73.7466 716.218 L51.8023 716.218 L51.8023 712.283 Q54.4643 709.528 59.0476 704.899 Q63.6541 700.246 64.8346 698.903 Q67.08 696.38 67.9596 694.644 Q68.8624 692.885 68.8624 691.195 Q68.8624 688.44 66.918 686.704 Q64.9967 684.968 61.8948 684.968 Q59.6958 684.968 57.2421 685.732 Q54.8115 686.496 52.0338 688.047 L52.0338 683.325 Q54.8578 682.19 57.3115 681.612 Q59.7652 681.033 61.8023 681.033 Q67.1726 681.033 70.367 683.718 Q73.5614 686.403 73.5614 690.894 Q73.5614 693.024 72.7513 694.945 Q71.9642 696.843 69.8578 699.436 Q69.2791 700.107 66.1772 703.325 Q63.0754 706.519 57.4273 712.283 Z\" fill=\"#000000\" fill-rule=\"evenodd\" fill-opacity=\"1\" /><path clip-path=\"url(#clip600)\" d=\"M 0 0 M88.816 684.737 Q85.2049 684.737 83.3762 688.301 Q81.5707 691.843 81.5707 698.973 Q81.5707 706.079 83.3762 709.644 Q85.2049 713.186 88.816 713.186 Q92.4502 713.186 94.2558 709.644 Q96.0845 706.079 96.0845 698.973 Q96.0845 691.843 94.2558 688.301 Q92.4502 684.737 88.816 684.737 M88.816 681.033 Q94.6262 681.033 97.6817 685.639 Q100.76 690.223 100.76 698.973 Q100.76 707.7 97.6817 712.306 Q94.6262 716.889 88.816 716.889 Q83.0058 716.889 79.9272 712.306 Q76.8716 707.7 76.8716 698.973 Q76.8716 690.223 79.9272 685.639 Q83.0058 681.033 88.816 681.033 Z\" fill=\"#000000\" fill-rule=\"evenodd\" fill-opacity=\"1\" /><path clip-path=\"url(#clip600)\" d=\"M 0 0 M115.83 684.737 Q112.219 684.737 110.39 688.301 Q108.584 691.843 108.584 698.973 Q108.584 706.079 110.39 709.644 Q112.219 713.186 115.83 713.186 Q119.464 713.186 121.27 709.644 Q123.098 706.079 123.098 698.973 Q123.098 691.843 121.27 688.301 Q119.464 684.737 115.83 684.737 M115.83 681.033 Q121.64 681.033 124.695 685.639 Q127.774 690.223 127.774 698.973 Q127.774 707.7 124.695 712.306 Q121.64 716.889 115.83 716.889 Q110.02 716.889 106.941 712.306 Q103.885 707.7 103.885 698.973 Q103.885 690.223 106.941 685.639 Q110.02 681.033 115.83 681.033 Z\" fill=\"#000000\" fill-rule=\"evenodd\" fill-opacity=\"1\" /><path clip-path=\"url(#clip600)\" d=\"M 0 0 M142.843 684.737 Q139.232 684.737 137.404 688.301 Q135.598 691.843 135.598 698.973 Q135.598 706.079 137.404 709.644 Q139.232 713.186 142.843 713.186 Q146.478 713.186 148.283 709.644 Q150.112 706.079 150.112 698.973 Q150.112 691.843 148.283 688.301 Q146.478 684.737 142.843 684.737 M142.843 681.033 Q148.654 681.033 151.709 685.639 Q154.788 690.223 154.788 698.973 Q154.788 707.7 151.709 712.306 Q148.654 716.889 142.843 716.889 Q137.033 716.889 133.955 712.306 Q130.899 707.7 130.899 698.973 Q130.899 690.223 133.955 685.639 Q137.033 681.033 142.843 681.033 Z\" fill=\"#000000\" fill-rule=\"evenodd\" fill-opacity=\"1\" /><path clip-path=\"url(#clip600)\" d=\"M 0 0 M58.4226 502.041 L74.742 502.041 L74.742 505.977 L52.7977 505.977 L52.7977 502.041 Q55.4597 499.287 60.043 494.657 Q64.6495 490.004 65.83 488.662 Q68.0754 486.139 68.955 484.403 Q69.8578 482.643 69.8578 480.954 Q69.8578 478.199 67.9133 476.463 Q65.992 474.727 62.8902 474.727 Q60.6911 474.727 58.2375 475.491 Q55.8069 476.254 53.0292 477.805 L53.0292 473.083 Q55.8532 471.949 58.3069 471.37 Q60.7606 470.792 62.7976 470.792 Q68.168 470.792 71.3624 473.477 Q74.5568 476.162 74.5568 480.653 Q74.5568 482.782 73.7466 484.703 Q72.9596 486.602 70.8531 489.194 Q70.2744 489.865 67.1726 493.083 Q64.0708 496.277 58.4226 502.041 Z\" fill=\"#000000\" fill-rule=\"evenodd\" fill-opacity=\"1\" /><path clip-path=\"url(#clip600)\" d=\"M 0 0 M79.8577 471.417 L98.2141 471.417 L98.2141 475.352 L84.1401 475.352 L84.1401 483.824 Q85.1586 483.477 86.1771 483.315 Q87.1956 483.129 88.2141 483.129 Q94.0012 483.129 97.3808 486.301 Q100.76 489.472 100.76 494.889 Q100.76 500.467 97.2882 503.569 Q93.816 506.648 87.4966 506.648 Q85.3206 506.648 83.0521 506.277 Q80.8068 505.907 78.3994 505.166 L78.3994 500.467 Q80.4827 501.602 82.7049 502.157 Q84.9271 502.713 87.404 502.713 Q91.4086 502.713 93.7465 500.606 Q96.0845 498.5 96.0845 494.889 Q96.0845 491.278 93.7465 489.171 Q91.4086 487.065 87.404 487.065 Q85.529 487.065 83.654 487.481 Q81.8021 487.898 79.8577 488.778 L79.8577 471.417 Z\" fill=\"#000000\" fill-rule=\"evenodd\" fill-opacity=\"1\" /><path clip-path=\"url(#clip600)\" d=\"M 0 0 M115.83 474.495 Q112.219 474.495 110.39 478.06 Q108.584 481.602 108.584 488.731 Q108.584 495.838 110.39 499.402 Q112.219 502.944 115.83 502.944 Q119.464 502.944 121.27 499.402 Q123.098 495.838 123.098 488.731 Q123.098 481.602 121.27 478.06 Q119.464 474.495 115.83 474.495 M115.83 470.792 Q121.64 470.792 124.695 475.398 Q127.774 479.981 127.774 488.731 Q127.774 497.458 124.695 502.065 Q121.64 506.648 115.83 506.648 Q110.02 506.648 106.941 502.065 Q103.885 497.458 103.885 488.731 Q103.885 479.981 106.941 475.398 Q110.02 470.792 115.83 470.792 Z\" fill=\"#000000\" fill-rule=\"evenodd\" fill-opacity=\"1\" /><path clip-path=\"url(#clip600)\" d=\"M 0 0 M142.843 474.495 Q139.232 474.495 137.404 478.06 Q135.598 481.602 135.598 488.731 Q135.598 495.838 137.404 499.402 Q139.232 502.944 142.843 502.944 Q146.478 502.944 148.283 499.402 Q150.112 495.838 150.112 488.731 Q150.112 481.602 148.283 478.06 Q146.478 474.495 142.843 474.495 M142.843 470.792 Q148.654 470.792 151.709 475.398 Q154.788 479.981 154.788 488.731 Q154.788 497.458 151.709 502.065 Q148.654 506.648 142.843 506.648 Q137.033 506.648 133.955 502.065 Q130.899 497.458 130.899 488.731 Q130.899 479.981 133.955 475.398 Q137.033 470.792 142.843 470.792 Z\" fill=\"#000000\" fill-rule=\"evenodd\" fill-opacity=\"1\" /><path clip-path=\"url(#clip600)\" d=\"M 0 0 M66.617 277.101 Q69.9735 277.818 71.8485 280.087 Q73.7466 282.355 73.7466 285.689 Q73.7466 290.805 70.2281 293.605 Q66.7096 296.406 60.2282 296.406 Q58.0523 296.406 55.7375 295.967 Q53.4458 295.55 50.9921 294.693 L50.9921 290.18 Q52.9366 291.314 55.2514 291.892 Q57.5662 292.471 60.0893 292.471 Q64.4874 292.471 66.7791 290.735 Q69.0939 288.999 69.0939 285.689 Q69.0939 282.633 66.9411 280.92 Q64.8115 279.184 60.9921 279.184 L56.9643 279.184 L56.9643 275.342 L61.1773 275.342 Q64.6263 275.342 66.455 273.976 Q68.2837 272.587 68.2837 269.994 Q68.2837 267.332 66.3856 265.92 Q64.5106 264.485 60.9921 264.485 Q59.0708 264.485 56.8717 264.902 Q54.6727 265.319 52.0338 266.198 L52.0338 262.032 Q54.6958 261.291 57.0106 260.92 Q59.3486 260.55 61.4087 260.55 Q66.7328 260.55 69.8346 262.981 Q72.9365 265.388 72.9365 269.508 Q72.9365 272.379 71.2929 274.369 Q69.6494 276.337 66.617 277.101 Z\" fill=\"#000000\" fill-rule=\"evenodd\" fill-opacity=\"1\" /><path clip-path=\"url(#clip600)\" d=\"M 0 0 M88.816 264.254 Q85.2049 264.254 83.3762 267.819 Q81.5707 271.36 81.5707 278.49 Q81.5707 285.596 83.3762 289.161 Q85.2049 292.703 88.816 292.703 Q92.4502 292.703 94.2558 289.161 Q96.0845 285.596 96.0845 278.49 Q96.0845 271.36 94.2558 267.819 Q92.4502 264.254 88.816 264.254 M88.816 260.55 Q94.6262 260.55 97.6817 265.157 Q100.76 269.74 100.76 278.49 Q100.76 287.217 97.6817 291.823 Q94.6262 296.406 88.816 296.406 Q83.0058 296.406 79.9272 291.823 Q76.8716 287.217 76.8716 278.49 Q76.8716 269.74 79.9272 265.157 Q83.0058 260.55 88.816 260.55 Z\" fill=\"#000000\" fill-rule=\"evenodd\" fill-opacity=\"1\" /><path clip-path=\"url(#clip600)\" d=\"M 0 0 M115.83 264.254 Q112.219 264.254 110.39 267.819 Q108.584 271.36 108.584 278.49 Q108.584 285.596 110.39 289.161 Q112.219 292.703 115.83 292.703 Q119.464 292.703 121.27 289.161 Q123.098 285.596 123.098 278.49 Q123.098 271.36 121.27 267.819 Q119.464 264.254 115.83 264.254 M115.83 260.55 Q121.64 260.55 124.695 265.157 Q127.774 269.74 127.774 278.49 Q127.774 287.217 124.695 291.823 Q121.64 296.406 115.83 296.406 Q110.02 296.406 106.941 291.823 Q103.885 287.217 103.885 278.49 Q103.885 269.74 106.941 265.157 Q110.02 260.55 115.83 260.55 Z\" fill=\"#000000\" fill-rule=\"evenodd\" fill-opacity=\"1\" /><path clip-path=\"url(#clip600)\" d=\"M 0 0 M142.843 264.254 Q139.232 264.254 137.404 267.819 Q135.598 271.36 135.598 278.49 Q135.598 285.596 137.404 289.161 Q139.232 292.703 142.843 292.703 Q146.478 292.703 148.283 289.161 Q150.112 285.596 150.112 278.49 Q150.112 271.36 148.283 267.819 Q146.478 264.254 142.843 264.254 M142.843 260.55 Q148.654 260.55 151.709 265.157 Q154.788 269.74 154.788 278.49 Q154.788 287.217 151.709 291.823 Q148.654 296.406 142.843 296.406 Q137.033 296.406 133.955 291.823 Q130.899 287.217 130.899 278.49 Q130.899 269.74 133.955 265.157 Q137.033 260.55 142.843 260.55 Z\" fill=\"#000000\" fill-rule=\"evenodd\" fill-opacity=\"1\" /><path clip-path=\"url(#clip600)\" d=\"M 0 0 M67.6124 66.8594 Q70.9689 67.577 72.8439 69.8455 Q74.742 72.114 74.742 75.4473 Q74.742 80.563 71.2235 83.364 Q67.705 86.1649 61.2236 86.1649 Q59.0476 86.1649 56.7328 85.7251 Q54.4412 85.3084 51.9875 84.4519 L51.9875 79.9381 Q53.9319 81.0723 56.2467 81.651 Q58.5615 82.2297 61.0847 82.2297 Q65.4828 82.2297 67.7744 80.4936 Q70.0892 78.7575 70.0892 75.4473 Q70.0892 72.3918 67.9365 70.6788 Q65.8069 68.9427 61.9874 68.9427 L57.9597 68.9427 L57.9597 65.1002 L62.1726 65.1002 Q65.6217 65.1002 67.4504 63.7344 Q69.2791 62.3456 69.2791 59.753 Q69.2791 57.091 67.3809 55.6789 Q65.5059 54.2437 61.9874 54.2437 Q60.0662 54.2437 57.8671 54.6604 Q55.668 55.0771 53.0292 55.9567 L53.0292 51.7901 Q55.6912 51.0493 58.006 50.679 Q60.3439 50.3086 62.4041 50.3086 Q67.7281 50.3086 70.83 52.7391 Q73.9318 55.1465 73.9318 59.2669 Q73.9318 62.1372 72.2883 64.128 Q70.6448 66.0955 67.6124 66.8594 Z\" fill=\"#000000\" fill-rule=\"evenodd\" fill-opacity=\"1\" /><path clip-path=\"url(#clip600)\" d=\"M 0 0 M79.8577 50.9336 L98.2141 50.9336 L98.2141 54.8687 L84.1401 54.8687 L84.1401 63.3409 Q85.1586 62.9937 86.1771 62.8317 Q87.1956 62.6465 88.2141 62.6465 Q94.0012 62.6465 97.3808 65.8178 Q100.76 68.989 100.76 74.4057 Q100.76 79.9843 97.2882 83.0862 Q93.816 86.1649 87.4966 86.1649 Q85.3206 86.1649 83.0521 85.7945 Q80.8068 85.4241 78.3994 84.6834 L78.3994 79.9843 Q80.4827 81.1186 82.7049 81.6742 Q84.9271 82.2297 87.404 82.2297 Q91.4086 82.2297 93.7465 80.1232 Q96.0845 78.0168 96.0845 74.4057 Q96.0845 70.7946 93.7465 68.6881 Q91.4086 66.5816 87.404 66.5816 Q85.529 66.5816 83.654 66.9983 Q81.8021 67.415 79.8577 68.2946 L79.8577 50.9336 Z\" fill=\"#000000\" fill-rule=\"evenodd\" fill-opacity=\"1\" /><path clip-path=\"url(#clip600)\" d=\"M 0 0 M115.83 54.0123 Q112.219 54.0123 110.39 57.5771 Q108.584 61.1187 108.584 68.2483 Q108.584 75.3547 110.39 78.9195 Q112.219 82.4612 115.83 82.4612 Q119.464 82.4612 121.27 78.9195 Q123.098 75.3547 123.098 68.2483 Q123.098 61.1187 121.27 57.5771 Q119.464 54.0123 115.83 54.0123 M115.83 50.3086 Q121.64 50.3086 124.695 54.915 Q127.774 59.4983 127.774 68.2483 Q127.774 76.9751 124.695 81.5816 Q121.64 86.1649 115.83 86.1649 Q110.02 86.1649 106.941 81.5816 Q103.885 76.9751 103.885 68.2483 Q103.885 59.4983 106.941 54.915 Q110.02 50.3086 115.83 50.3086 Z\" fill=\"#000000\" fill-rule=\"evenodd\" fill-opacity=\"1\" /><path clip-path=\"url(#clip600)\" d=\"M 0 0 M142.843 54.0123 Q139.232 54.0123 137.404 57.5771 Q135.598 61.1187 135.598 68.2483 Q135.598 75.3547 137.404 78.9195 Q139.232 82.4612 142.843 82.4612 Q146.478 82.4612 148.283 78.9195 Q150.112 75.3547 150.112 68.2483 Q150.112 61.1187 148.283 57.5771 Q146.478 54.0123 142.843 54.0123 M142.843 50.3086 Q148.654 50.3086 151.709 54.915 Q154.788 59.4983 154.788 68.2483 Q154.788 76.9751 151.709 81.5816 Q148.654 86.1649 142.843 86.1649 Q137.033 86.1649 133.955 81.5816 Q130.899 76.9751 130.899 68.2483 Q130.899 59.4983 133.955 54.915 Q137.033 50.3086 142.843 50.3086 Z\" fill=\"#000000\" fill-rule=\"evenodd\" fill-opacity=\"1\" /><polyline clip-path=\"url(#clip602)\" style=\"stroke:#009af9; stroke-width:4; stroke-opacity:1; fill:none\" points=\"\n",
       "  251.976,87.9763 478.597,715.757 705.218,1045.42 931.84,1172.82 1158.46,1267.43 1385.08,1322.51 1611.7,1364.14 1838.33,1400.72 2064.95,1429.74 2291.57,1445.72 \n",
       "  \n",
       "  \"/>\n",
       "<path clip-path=\"url(#clip600)\" d=\"\n",
       "M1989.45 216.178 L2280.69 216.178 L2280.69 95.2176 L1989.45 95.2176  Z\n",
       "  \" fill=\"#ffffff\" fill-rule=\"evenodd\" fill-opacity=\"1\"/>\n",
       "<polyline clip-path=\"url(#clip600)\" style=\"stroke:#000000; stroke-width:4; stroke-opacity:1; fill:none\" points=\"\n",
       "  1989.45,216.178 2280.69,216.178 2280.69,95.2176 1989.45,95.2176 1989.45,216.178 \n",
       "  \"/>\n",
       "<polyline clip-path=\"url(#clip600)\" style=\"stroke:#009af9; stroke-width:4; stroke-opacity:1; fill:none\" points=\"\n",
       "  2013.48,155.698 2157.61,155.698 \n",
       "  \"/>\n",
       "<path clip-path=\"url(#clip600)\" d=\"M 0 0 M2195.47 175.385 Q2193.67 180.015 2191.95 181.427 Q2190.24 182.839 2187.37 182.839 L2183.97 182.839 L2183.97 179.274 L2186.47 179.274 Q2188.23 179.274 2189.2 178.44 Q2190.17 177.607 2191.35 174.505 L2192.11 172.561 L2181.63 147.052 L2186.14 147.052 L2194.24 167.329 L2202.35 147.052 L2206.86 147.052 L2195.47 175.385 Z\" fill=\"#000000\" fill-rule=\"evenodd\" fill-opacity=\"1\" /><path clip-path=\"url(#clip600)\" d=\"M 0 0 M2212.74 169.042 L2220.38 169.042 L2220.38 142.677 L2212.07 144.343 L2212.07 140.084 L2220.33 138.418 L2225.01 138.418 L2225.01 169.042 L2232.65 169.042 L2232.65 172.978 L2212.74 172.978 L2212.74 169.042 Z\" fill=\"#000000\" fill-rule=\"evenodd\" fill-opacity=\"1\" /></svg>\n"
      ]
     },
     "execution_count": 103,
     "metadata": {},
     "output_type": "execute_result"
    }
   ],
   "source": [
    "#plot number of iterations for convergence / the omega parameter\n",
    "\n",
    "plot(its)"
   ]
  },
  {
   "cell_type": "code",
   "execution_count": 109,
   "id": "60d9f1ea-19a4-4877-a529-a4e3fcfb7a87",
   "metadata": {},
   "outputs": [
    {
     "data": {
      "image/svg+xml": [
       "<?xml version=\"1.0\" encoding=\"utf-8\"?>\n",
       "<svg xmlns=\"http://www.w3.org/2000/svg\" xmlns:xlink=\"http://www.w3.org/1999/xlink\" width=\"600\" height=\"400\" viewBox=\"0 0 2400 1600\">\n",
       "<defs>\n",
       "  <clipPath id=\"clip820\">\n",
       "    <rect x=\"0\" y=\"0\" width=\"2400\" height=\"1600\"/>\n",
       "  </clipPath>\n",
       "</defs>\n",
       "<path clip-path=\"url(#clip820)\" d=\"\n",
       "M0 1600 L2400 1600 L2400 0 L0 0  Z\n",
       "  \" fill=\"#ffffff\" fill-rule=\"evenodd\" fill-opacity=\"1\"/>\n",
       "<defs>\n",
       "  <clipPath id=\"clip821\">\n",
       "    <rect x=\"480\" y=\"0\" width=\"1681\" height=\"1600\"/>\n",
       "  </clipPath>\n",
       "</defs>\n",
       "<path clip-path=\"url(#clip820)\" d=\"\n",
       "M193.218 1486.45 L2352.76 1486.45 L2352.76 47.2441 L193.218 47.2441  Z\n",
       "  \" fill=\"#ffffff\" fill-rule=\"evenodd\" fill-opacity=\"1\"/>\n",
       "<defs>\n",
       "  <clipPath id=\"clip822\">\n",
       "    <rect x=\"193\" y=\"47\" width=\"2161\" height=\"1440\"/>\n",
       "  </clipPath>\n",
       "</defs>\n",
       "<polyline clip-path=\"url(#clip822)\" style=\"stroke:#000000; stroke-width:2; stroke-opacity:0.1; fill:none\" points=\"\n",
       "  233.759,1486.45 233.759,47.2441 \n",
       "  \"/>\n",
       "<polyline clip-path=\"url(#clip822)\" style=\"stroke:#000000; stroke-width:2; stroke-opacity:0.1; fill:none\" points=\"\n",
       "  748.228,1486.45 748.228,47.2441 \n",
       "  \"/>\n",
       "<polyline clip-path=\"url(#clip822)\" style=\"stroke:#000000; stroke-width:2; stroke-opacity:0.1; fill:none\" points=\"\n",
       "  1262.7,1486.45 1262.7,47.2441 \n",
       "  \"/>\n",
       "<polyline clip-path=\"url(#clip822)\" style=\"stroke:#000000; stroke-width:2; stroke-opacity:0.1; fill:none\" points=\"\n",
       "  1777.17,1486.45 1777.17,47.2441 \n",
       "  \"/>\n",
       "<polyline clip-path=\"url(#clip822)\" style=\"stroke:#000000; stroke-width:2; stroke-opacity:0.1; fill:none\" points=\"\n",
       "  2291.64,1486.45 2291.64,47.2441 \n",
       "  \"/>\n",
       "<polyline clip-path=\"url(#clip820)\" style=\"stroke:#000000; stroke-width:4; stroke-opacity:1; fill:none\" points=\"\n",
       "  193.218,1486.45 2352.76,1486.45 \n",
       "  \"/>\n",
       "<polyline clip-path=\"url(#clip820)\" style=\"stroke:#000000; stroke-width:4; stroke-opacity:1; fill:none\" points=\"\n",
       "  233.759,1486.45 233.759,1469.18 \n",
       "  \"/>\n",
       "<polyline clip-path=\"url(#clip820)\" style=\"stroke:#000000; stroke-width:4; stroke-opacity:1; fill:none\" points=\"\n",
       "  748.228,1486.45 748.228,1469.18 \n",
       "  \"/>\n",
       "<polyline clip-path=\"url(#clip820)\" style=\"stroke:#000000; stroke-width:4; stroke-opacity:1; fill:none\" points=\"\n",
       "  1262.7,1486.45 1262.7,1469.18 \n",
       "  \"/>\n",
       "<polyline clip-path=\"url(#clip820)\" style=\"stroke:#000000; stroke-width:4; stroke-opacity:1; fill:none\" points=\"\n",
       "  1777.17,1486.45 1777.17,1469.18 \n",
       "  \"/>\n",
       "<polyline clip-path=\"url(#clip820)\" style=\"stroke:#000000; stroke-width:4; stroke-opacity:1; fill:none\" points=\"\n",
       "  2291.64,1486.45 2291.64,1469.18 \n",
       "  \"/>\n",
       "<path clip-path=\"url(#clip820)\" d=\"M 0 0 M201.768 1515.64 Q198.157 1515.64 196.328 1519.2 Q194.523 1522.75 194.523 1529.87 Q194.523 1536.98 196.328 1540.55 Q198.157 1544.09 201.768 1544.09 Q205.402 1544.09 207.208 1540.55 Q209.037 1536.98 209.037 1529.87 Q209.037 1522.75 207.208 1519.2 Q205.402 1515.64 201.768 1515.64 M201.768 1511.93 Q207.578 1511.93 210.634 1516.54 Q213.712 1521.12 213.712 1529.87 Q213.712 1538.6 210.634 1543.21 Q207.578 1547.79 201.768 1547.79 Q195.958 1547.79 192.879 1543.21 Q189.824 1538.6 189.824 1529.87 Q189.824 1521.12 192.879 1516.54 Q195.958 1511.93 201.768 1511.93 Z\" fill=\"#000000\" fill-rule=\"evenodd\" fill-opacity=\"1\" /><path clip-path=\"url(#clip820)\" d=\"M 0 0 M218.782 1541.24 L223.666 1541.24 L223.666 1547.12 L218.782 1547.12 L218.782 1541.24 Z\" fill=\"#000000\" fill-rule=\"evenodd\" fill-opacity=\"1\" /><path clip-path=\"url(#clip820)\" d=\"M 0 0 M238.735 1515.64 Q235.124 1515.64 233.296 1519.2 Q231.49 1522.75 231.49 1529.87 Q231.49 1536.98 233.296 1540.55 Q235.124 1544.09 238.735 1544.09 Q242.37 1544.09 244.175 1540.55 Q246.004 1536.98 246.004 1529.87 Q246.004 1522.75 244.175 1519.2 Q242.37 1515.64 238.735 1515.64 M238.735 1511.93 Q244.546 1511.93 247.601 1516.54 Q250.68 1521.12 250.68 1529.87 Q250.68 1538.6 247.601 1543.21 Q244.546 1547.79 238.735 1547.79 Q232.925 1547.79 229.847 1543.21 Q226.791 1538.6 226.791 1529.87 Q226.791 1521.12 229.847 1516.54 Q232.925 1511.93 238.735 1511.93 Z\" fill=\"#000000\" fill-rule=\"evenodd\" fill-opacity=\"1\" /><path clip-path=\"url(#clip820)\" d=\"M 0 0 M265.749 1515.64 Q262.138 1515.64 260.309 1519.2 Q258.504 1522.75 258.504 1529.87 Q258.504 1536.98 260.309 1540.55 Q262.138 1544.09 265.749 1544.09 Q269.383 1544.09 271.189 1540.55 Q273.018 1536.98 273.018 1529.87 Q273.018 1522.75 271.189 1519.2 Q269.383 1515.64 265.749 1515.64 M265.749 1511.93 Q271.559 1511.93 274.615 1516.54 Q277.694 1521.12 277.694 1529.87 Q277.694 1538.6 274.615 1543.21 Q271.559 1547.79 265.749 1547.79 Q259.939 1547.79 256.86 1543.21 Q253.805 1538.6 253.805 1529.87 Q253.805 1521.12 256.86 1516.54 Q259.939 1511.93 265.749 1511.93 Z\" fill=\"#000000\" fill-rule=\"evenodd\" fill-opacity=\"1\" /><path clip-path=\"url(#clip820)\" d=\"M 0 0 M717.534 1515.64 Q713.923 1515.64 712.094 1519.2 Q710.289 1522.75 710.289 1529.87 Q710.289 1536.98 712.094 1540.55 Q713.923 1544.09 717.534 1544.09 Q721.168 1544.09 722.974 1540.55 Q724.802 1536.98 724.802 1529.87 Q724.802 1522.75 722.974 1519.2 Q721.168 1515.64 717.534 1515.64 M717.534 1511.93 Q723.344 1511.93 726.4 1516.54 Q729.478 1521.12 729.478 1529.87 Q729.478 1538.6 726.4 1543.21 Q723.344 1547.79 717.534 1547.79 Q711.724 1547.79 708.645 1543.21 Q705.59 1538.6 705.59 1529.87 Q705.59 1521.12 708.645 1516.54 Q711.724 1511.93 717.534 1511.93 Z\" fill=\"#000000\" fill-rule=\"evenodd\" fill-opacity=\"1\" /><path clip-path=\"url(#clip820)\" d=\"M 0 0 M734.548 1541.24 L739.432 1541.24 L739.432 1547.12 L734.548 1547.12 L734.548 1541.24 Z\" fill=\"#000000\" fill-rule=\"evenodd\" fill-opacity=\"1\" /><path clip-path=\"url(#clip820)\" d=\"M 0 0 M748.529 1543.18 L764.848 1543.18 L764.848 1547.12 L742.904 1547.12 L742.904 1543.18 Q745.566 1540.43 750.149 1535.8 Q754.756 1531.15 755.936 1529.81 Q758.182 1527.28 759.061 1525.55 Q759.964 1523.79 759.964 1522.1 Q759.964 1519.34 758.02 1517.61 Q756.099 1515.87 752.997 1515.87 Q750.798 1515.87 748.344 1516.63 Q745.913 1517.4 743.136 1518.95 L743.136 1514.23 Q745.96 1513.09 748.413 1512.51 Q750.867 1511.93 752.904 1511.93 Q758.274 1511.93 761.469 1514.62 Q764.663 1517.31 764.663 1521.8 Q764.663 1523.93 763.853 1525.85 Q763.066 1527.74 760.96 1530.34 Q760.381 1531.01 757.279 1534.23 Q754.177 1537.42 748.529 1543.18 Z\" fill=\"#000000\" fill-rule=\"evenodd\" fill-opacity=\"1\" /><path clip-path=\"url(#clip820)\" d=\"M 0 0 M769.964 1512.56 L788.321 1512.56 L788.321 1516.5 L774.247 1516.5 L774.247 1524.97 Q775.265 1524.62 776.284 1524.46 Q777.302 1524.27 778.321 1524.27 Q784.108 1524.27 787.487 1527.44 Q790.867 1530.62 790.867 1536.03 Q790.867 1541.61 787.395 1544.71 Q783.922 1547.79 777.603 1547.79 Q775.427 1547.79 773.159 1547.42 Q770.913 1547.05 768.506 1546.31 L768.506 1541.61 Q770.589 1542.74 772.811 1543.3 Q775.034 1543.86 777.51 1543.86 Q781.515 1543.86 783.853 1541.75 Q786.191 1539.64 786.191 1536.03 Q786.191 1532.42 783.853 1530.31 Q781.515 1528.21 777.51 1528.21 Q775.635 1528.21 773.76 1528.62 Q771.909 1529.04 769.964 1529.92 L769.964 1512.56 Z\" fill=\"#000000\" fill-rule=\"evenodd\" fill-opacity=\"1\" /><path clip-path=\"url(#clip820)\" d=\"M 0 0 M1231.2 1515.64 Q1227.59 1515.64 1225.77 1519.2 Q1223.96 1522.75 1223.96 1529.87 Q1223.96 1536.98 1225.77 1540.55 Q1227.59 1544.09 1231.2 1544.09 Q1234.84 1544.09 1236.64 1540.55 Q1238.47 1536.98 1238.47 1529.87 Q1238.47 1522.75 1236.64 1519.2 Q1234.84 1515.64 1231.2 1515.64 M1231.2 1511.93 Q1237.02 1511.93 1240.07 1516.54 Q1243.15 1521.12 1243.15 1529.87 Q1243.15 1538.6 1240.07 1543.21 Q1237.02 1547.79 1231.2 1547.79 Q1225.39 1547.79 1222.32 1543.21 Q1219.26 1538.6 1219.26 1529.87 Q1219.26 1521.12 1222.32 1516.54 Q1225.39 1511.93 1231.2 1511.93 Z\" fill=\"#000000\" fill-rule=\"evenodd\" fill-opacity=\"1\" /><path clip-path=\"url(#clip820)\" d=\"M 0 0 M1248.22 1541.24 L1253.1 1541.24 L1253.1 1547.12 L1248.22 1547.12 L1248.22 1541.24 Z\" fill=\"#000000\" fill-rule=\"evenodd\" fill-opacity=\"1\" /><path clip-path=\"url(#clip820)\" d=\"M 0 0 M1258.22 1512.56 L1276.58 1512.56 L1276.58 1516.5 L1262.5 1516.5 L1262.5 1524.97 Q1263.52 1524.62 1264.54 1524.46 Q1265.56 1524.27 1266.58 1524.27 Q1272.36 1524.27 1275.74 1527.44 Q1279.12 1530.62 1279.12 1536.03 Q1279.12 1541.61 1275.65 1544.71 Q1272.18 1547.79 1265.86 1547.79 Q1263.68 1547.79 1261.41 1547.42 Q1259.17 1547.05 1256.76 1546.31 L1256.76 1541.61 Q1258.84 1542.74 1261.07 1543.3 Q1263.29 1543.86 1265.76 1543.86 Q1269.77 1543.86 1272.11 1541.75 Q1274.45 1539.64 1274.45 1536.03 Q1274.45 1532.42 1272.11 1530.31 Q1269.77 1528.21 1265.76 1528.21 Q1263.89 1528.21 1262.01 1528.62 Q1260.16 1529.04 1258.22 1529.92 L1258.22 1512.56 Z\" fill=\"#000000\" fill-rule=\"evenodd\" fill-opacity=\"1\" /><path clip-path=\"url(#clip820)\" d=\"M 0 0 M1294.19 1515.64 Q1290.58 1515.64 1288.75 1519.2 Q1286.95 1522.75 1286.95 1529.87 Q1286.95 1536.98 1288.75 1540.55 Q1290.58 1544.09 1294.19 1544.09 Q1297.82 1544.09 1299.63 1540.55 Q1301.46 1536.98 1301.46 1529.87 Q1301.46 1522.75 1299.63 1519.2 Q1297.82 1515.64 1294.19 1515.64 M1294.19 1511.93 Q1300 1511.93 1303.06 1516.54 Q1306.14 1521.12 1306.14 1529.87 Q1306.14 1538.6 1303.06 1543.21 Q1300 1547.79 1294.19 1547.79 Q1288.38 1547.79 1285.3 1543.21 Q1282.25 1538.6 1282.25 1529.87 Q1282.25 1521.12 1285.3 1516.54 Q1288.38 1511.93 1294.19 1511.93 Z\" fill=\"#000000\" fill-rule=\"evenodd\" fill-opacity=\"1\" /><path clip-path=\"url(#clip820)\" d=\"M 0 0 M1746.13 1515.64 Q1742.51 1515.64 1740.69 1519.2 Q1738.88 1522.75 1738.88 1529.87 Q1738.88 1536.98 1740.69 1540.55 Q1742.51 1544.09 1746.13 1544.09 Q1749.76 1544.09 1751.57 1540.55 Q1753.39 1536.98 1753.39 1529.87 Q1753.39 1522.75 1751.57 1519.2 Q1749.76 1515.64 1746.13 1515.64 M1746.13 1511.93 Q1751.94 1511.93 1754.99 1516.54 Q1758.07 1521.12 1758.07 1529.87 Q1758.07 1538.6 1754.99 1543.21 Q1751.94 1547.79 1746.13 1547.79 Q1740.32 1547.79 1737.24 1543.21 Q1734.18 1538.6 1734.18 1529.87 Q1734.18 1521.12 1737.24 1516.54 Q1740.32 1511.93 1746.13 1511.93 Z\" fill=\"#000000\" fill-rule=\"evenodd\" fill-opacity=\"1\" /><path clip-path=\"url(#clip820)\" d=\"M 0 0 M1763.14 1541.24 L1768.02 1541.24 L1768.02 1547.12 L1763.14 1547.12 L1763.14 1541.24 Z\" fill=\"#000000\" fill-rule=\"evenodd\" fill-opacity=\"1\" /><path clip-path=\"url(#clip820)\" d=\"M 0 0 M1771.91 1512.56 L1794.13 1512.56 L1794.13 1514.55 L1781.59 1547.12 L1776.7 1547.12 L1788.51 1516.5 L1771.91 1516.5 L1771.91 1512.56 Z\" fill=\"#000000\" fill-rule=\"evenodd\" fill-opacity=\"1\" /><path clip-path=\"url(#clip820)\" d=\"M 0 0 M1799.25 1512.56 L1817.61 1512.56 L1817.61 1516.5 L1803.53 1516.5 L1803.53 1524.97 Q1804.55 1524.62 1805.57 1524.46 Q1806.59 1524.27 1807.61 1524.27 Q1813.39 1524.27 1816.77 1527.44 Q1820.15 1530.62 1820.15 1536.03 Q1820.15 1541.61 1816.68 1544.71 Q1813.21 1547.79 1806.89 1547.79 Q1804.71 1547.79 1802.44 1547.42 Q1800.2 1547.05 1797.79 1546.31 L1797.79 1541.61 Q1799.88 1542.74 1802.1 1543.3 Q1804.32 1543.86 1806.8 1543.86 Q1810.8 1543.86 1813.14 1541.75 Q1815.48 1539.64 1815.48 1536.03 Q1815.48 1532.42 1813.14 1530.31 Q1810.8 1528.21 1806.8 1528.21 Q1804.92 1528.21 1803.05 1528.62 Q1801.19 1529.04 1799.25 1529.92 L1799.25 1512.56 Z\" fill=\"#000000\" fill-rule=\"evenodd\" fill-opacity=\"1\" /><path clip-path=\"url(#clip820)\" d=\"M 0 0 M2250.03 1543.18 L2257.67 1543.18 L2257.67 1516.82 L2249.36 1518.49 L2249.36 1514.23 L2257.62 1512.56 L2262.3 1512.56 L2262.3 1543.18 L2269.94 1543.18 L2269.94 1547.12 L2250.03 1547.12 L2250.03 1543.18 Z\" fill=\"#000000\" fill-rule=\"evenodd\" fill-opacity=\"1\" /><path clip-path=\"url(#clip820)\" d=\"M 0 0 M2275.01 1541.24 L2279.89 1541.24 L2279.89 1547.12 L2275.01 1547.12 L2275.01 1541.24 Z\" fill=\"#000000\" fill-rule=\"evenodd\" fill-opacity=\"1\" /><path clip-path=\"url(#clip820)\" d=\"M 0 0 M2294.96 1515.64 Q2291.35 1515.64 2289.52 1519.2 Q2287.71 1522.75 2287.71 1529.87 Q2287.71 1536.98 2289.52 1540.55 Q2291.35 1544.09 2294.96 1544.09 Q2298.59 1544.09 2300.4 1540.55 Q2302.23 1536.98 2302.23 1529.87 Q2302.23 1522.75 2300.4 1519.2 Q2298.59 1515.64 2294.96 1515.64 M2294.96 1511.93 Q2300.77 1511.93 2303.82 1516.54 Q2306.9 1521.12 2306.9 1529.87 Q2306.9 1538.6 2303.82 1543.21 Q2300.77 1547.79 2294.96 1547.79 Q2289.15 1547.79 2286.07 1543.21 Q2283.01 1538.6 2283.01 1529.87 Q2283.01 1521.12 2286.07 1516.54 Q2289.15 1511.93 2294.96 1511.93 Z\" fill=\"#000000\" fill-rule=\"evenodd\" fill-opacity=\"1\" /><path clip-path=\"url(#clip820)\" d=\"M 0 0 M2321.97 1515.64 Q2318.36 1515.64 2316.53 1519.2 Q2314.73 1522.75 2314.73 1529.87 Q2314.73 1536.98 2316.53 1540.55 Q2318.36 1544.09 2321.97 1544.09 Q2325.61 1544.09 2327.41 1540.55 Q2329.24 1536.98 2329.24 1529.87 Q2329.24 1522.75 2327.41 1519.2 Q2325.61 1515.64 2321.97 1515.64 M2321.97 1511.93 Q2327.78 1511.93 2330.84 1516.54 Q2333.92 1521.12 2333.92 1529.87 Q2333.92 1538.6 2330.84 1543.21 Q2327.78 1547.79 2321.97 1547.79 Q2316.16 1547.79 2313.08 1543.21 Q2310.03 1538.6 2310.03 1529.87 Q2310.03 1521.12 2313.08 1516.54 Q2316.16 1511.93 2321.97 1511.93 Z\" fill=\"#000000\" fill-rule=\"evenodd\" fill-opacity=\"1\" /><polyline clip-path=\"url(#clip822)\" style=\"stroke:#000000; stroke-width:2; stroke-opacity:0.1; fill:none\" points=\"\n",
       "  193.218,1456.54 2352.76,1456.54 \n",
       "  \"/>\n",
       "<polyline clip-path=\"url(#clip822)\" style=\"stroke:#000000; stroke-width:2; stroke-opacity:0.1; fill:none\" points=\"\n",
       "  193.218,1248.42 2352.76,1248.42 \n",
       "  \"/>\n",
       "<polyline clip-path=\"url(#clip822)\" style=\"stroke:#000000; stroke-width:2; stroke-opacity:0.1; fill:none\" points=\"\n",
       "  193.218,1040.31 2352.76,1040.31 \n",
       "  \"/>\n",
       "<polyline clip-path=\"url(#clip822)\" style=\"stroke:#000000; stroke-width:2; stroke-opacity:0.1; fill:none\" points=\"\n",
       "  193.218,832.194 2352.76,832.194 \n",
       "  \"/>\n",
       "<polyline clip-path=\"url(#clip822)\" style=\"stroke:#000000; stroke-width:2; stroke-opacity:0.1; fill:none\" points=\"\n",
       "  193.218,624.079 2352.76,624.079 \n",
       "  \"/>\n",
       "<polyline clip-path=\"url(#clip822)\" style=\"stroke:#000000; stroke-width:2; stroke-opacity:0.1; fill:none\" points=\"\n",
       "  193.218,415.965 2352.76,415.965 \n",
       "  \"/>\n",
       "<polyline clip-path=\"url(#clip822)\" style=\"stroke:#000000; stroke-width:2; stroke-opacity:0.1; fill:none\" points=\"\n",
       "  193.218,207.85 2352.76,207.85 \n",
       "  \"/>\n",
       "<polyline clip-path=\"url(#clip820)\" style=\"stroke:#000000; stroke-width:4; stroke-opacity:1; fill:none\" points=\"\n",
       "  193.218,1486.45 193.218,47.2441 \n",
       "  \"/>\n",
       "<polyline clip-path=\"url(#clip820)\" style=\"stroke:#000000; stroke-width:4; stroke-opacity:1; fill:none\" points=\"\n",
       "  193.218,1456.54 219.133,1456.54 \n",
       "  \"/>\n",
       "<polyline clip-path=\"url(#clip820)\" style=\"stroke:#000000; stroke-width:4; stroke-opacity:1; fill:none\" points=\"\n",
       "  193.218,1248.42 219.133,1248.42 \n",
       "  \"/>\n",
       "<polyline clip-path=\"url(#clip820)\" style=\"stroke:#000000; stroke-width:4; stroke-opacity:1; fill:none\" points=\"\n",
       "  193.218,1040.31 219.133,1040.31 \n",
       "  \"/>\n",
       "<polyline clip-path=\"url(#clip820)\" style=\"stroke:#000000; stroke-width:4; stroke-opacity:1; fill:none\" points=\"\n",
       "  193.218,832.194 219.133,832.194 \n",
       "  \"/>\n",
       "<polyline clip-path=\"url(#clip820)\" style=\"stroke:#000000; stroke-width:4; stroke-opacity:1; fill:none\" points=\"\n",
       "  193.218,624.079 219.133,624.079 \n",
       "  \"/>\n",
       "<polyline clip-path=\"url(#clip820)\" style=\"stroke:#000000; stroke-width:4; stroke-opacity:1; fill:none\" points=\"\n",
       "  193.218,415.965 219.133,415.965 \n",
       "  \"/>\n",
       "<polyline clip-path=\"url(#clip820)\" style=\"stroke:#000000; stroke-width:4; stroke-opacity:1; fill:none\" points=\"\n",
       "  193.218,207.85 219.133,207.85 \n",
       "  \"/>\n",
       "<path clip-path=\"url(#clip820)\" d=\"M 0 0 M145.274 1442.34 Q141.663 1442.34 139.834 1445.9 Q138.029 1449.44 138.029 1456.57 Q138.029 1463.68 139.834 1467.24 Q141.663 1470.79 145.274 1470.79 Q148.908 1470.79 150.714 1467.24 Q152.543 1463.68 152.543 1456.57 Q152.543 1449.44 150.714 1445.9 Q148.908 1442.34 145.274 1442.34 M145.274 1438.63 Q151.084 1438.63 154.14 1443.24 Q157.218 1447.82 157.218 1456.57 Q157.218 1465.3 154.14 1469.91 Q151.084 1474.49 145.274 1474.49 Q139.464 1474.49 136.385 1469.91 Q133.33 1465.3 133.33 1456.57 Q133.33 1447.82 136.385 1443.24 Q139.464 1438.63 145.274 1438.63 Z\" fill=\"#000000\" fill-rule=\"evenodd\" fill-opacity=\"1\" /><path clip-path=\"url(#clip820)\" d=\"M 0 0 M56.2699 1261.77 L63.9087 1261.77 L63.9087 1235.4 L55.5986 1237.07 L55.5986 1232.81 L63.8624 1231.14 L68.5383 1231.14 L68.5383 1261.77 L76.1772 1261.77 L76.1772 1265.7 L56.2699 1265.7 L56.2699 1261.77 Z\" fill=\"#000000\" fill-rule=\"evenodd\" fill-opacity=\"1\" /><path clip-path=\"url(#clip820)\" d=\"M 0 0 M91.2465 1234.22 Q87.6354 1234.22 85.8068 1237.79 Q84.0012 1241.33 84.0012 1248.46 Q84.0012 1255.56 85.8068 1259.13 Q87.6354 1262.67 91.2465 1262.67 Q94.8808 1262.67 96.6863 1259.13 Q98.515 1255.56 98.515 1248.46 Q98.515 1241.33 96.6863 1237.79 Q94.8808 1234.22 91.2465 1234.22 M91.2465 1230.52 Q97.0567 1230.52 100.112 1235.12 Q103.191 1239.71 103.191 1248.46 Q103.191 1257.18 100.112 1261.79 Q97.0567 1266.37 91.2465 1266.37 Q85.4364 1266.37 82.3577 1261.79 Q79.3022 1257.18 79.3022 1248.46 Q79.3022 1239.71 82.3577 1235.12 Q85.4364 1230.52 91.2465 1230.52 Z\" fill=\"#000000\" fill-rule=\"evenodd\" fill-opacity=\"1\" /><path clip-path=\"url(#clip820)\" d=\"M 0 0 M118.26 1234.22 Q114.649 1234.22 112.82 1237.79 Q111.015 1241.33 111.015 1248.46 Q111.015 1255.56 112.82 1259.13 Q114.649 1262.67 118.26 1262.67 Q121.895 1262.67 123.7 1259.13 Q125.529 1255.56 125.529 1248.46 Q125.529 1241.33 123.7 1237.79 Q121.895 1234.22 118.26 1234.22 M118.26 1230.52 Q124.07 1230.52 127.126 1235.12 Q130.205 1239.71 130.205 1248.46 Q130.205 1257.18 127.126 1261.79 Q124.07 1266.37 118.26 1266.37 Q112.45 1266.37 109.371 1261.79 Q106.316 1257.18 106.316 1248.46 Q106.316 1239.71 109.371 1235.12 Q112.45 1230.52 118.26 1230.52 Z\" fill=\"#000000\" fill-rule=\"evenodd\" fill-opacity=\"1\" /><path clip-path=\"url(#clip820)\" d=\"M 0 0 M145.274 1234.22 Q141.663 1234.22 139.834 1237.79 Q138.029 1241.33 138.029 1248.46 Q138.029 1255.56 139.834 1259.13 Q141.663 1262.67 145.274 1262.67 Q148.908 1262.67 150.714 1259.13 Q152.543 1255.56 152.543 1248.46 Q152.543 1241.33 150.714 1237.79 Q148.908 1234.22 145.274 1234.22 M145.274 1230.52 Q151.084 1230.52 154.14 1235.12 Q157.218 1239.71 157.218 1248.46 Q157.218 1257.18 154.14 1261.79 Q151.084 1266.37 145.274 1266.37 Q139.464 1266.37 136.385 1261.79 Q133.33 1257.18 133.33 1248.46 Q133.33 1239.71 136.385 1235.12 Q139.464 1230.52 145.274 1230.52 Z\" fill=\"#000000\" fill-rule=\"evenodd\" fill-opacity=\"1\" /><path clip-path=\"url(#clip820)\" d=\"M 0 0 M59.8578 1053.65 L76.1772 1053.65 L76.1772 1057.59 L54.2328 1057.59 L54.2328 1053.65 Q56.8949 1050.9 61.4782 1046.27 Q66.0846 1041.62 67.2652 1040.27 Q69.5105 1037.75 70.3902 1036.01 Q71.2929 1034.26 71.2929 1032.57 Q71.2929 1029.81 69.3485 1028.07 Q67.4272 1026.34 64.3254 1026.34 Q62.1263 1026.34 59.6726 1027.1 Q57.2421 1027.87 54.4643 1029.42 L54.4643 1024.7 Q57.2884 1023.56 59.7421 1022.98 Q62.1958 1022.4 64.2328 1022.4 Q69.6031 1022.4 72.7976 1025.09 Q75.992 1027.77 75.992 1032.26 Q75.992 1034.39 75.1818 1036.32 Q74.3948 1038.21 72.2883 1040.81 Q71.7096 1041.48 68.6078 1044.7 Q65.5059 1047.89 59.8578 1053.65 Z\" fill=\"#000000\" fill-rule=\"evenodd\" fill-opacity=\"1\" /><path clip-path=\"url(#clip820)\" d=\"M 0 0 M91.2465 1026.11 Q87.6354 1026.11 85.8068 1029.67 Q84.0012 1033.21 84.0012 1040.34 Q84.0012 1047.45 85.8068 1051.01 Q87.6354 1054.56 91.2465 1054.56 Q94.8808 1054.56 96.6863 1051.01 Q98.515 1047.45 98.515 1040.34 Q98.515 1033.21 96.6863 1029.67 Q94.8808 1026.11 91.2465 1026.11 M91.2465 1022.4 Q97.0567 1022.4 100.112 1027.01 Q103.191 1031.59 103.191 1040.34 Q103.191 1049.07 100.112 1053.68 Q97.0567 1058.26 91.2465 1058.26 Q85.4364 1058.26 82.3577 1053.68 Q79.3022 1049.07 79.3022 1040.34 Q79.3022 1031.59 82.3577 1027.01 Q85.4364 1022.4 91.2465 1022.4 Z\" fill=\"#000000\" fill-rule=\"evenodd\" fill-opacity=\"1\" /><path clip-path=\"url(#clip820)\" d=\"M 0 0 M118.26 1026.11 Q114.649 1026.11 112.82 1029.67 Q111.015 1033.21 111.015 1040.34 Q111.015 1047.45 112.82 1051.01 Q114.649 1054.56 118.26 1054.56 Q121.895 1054.56 123.7 1051.01 Q125.529 1047.45 125.529 1040.34 Q125.529 1033.21 123.7 1029.67 Q121.895 1026.11 118.26 1026.11 M118.26 1022.4 Q124.07 1022.4 127.126 1027.01 Q130.205 1031.59 130.205 1040.34 Q130.205 1049.07 127.126 1053.68 Q124.07 1058.26 118.26 1058.26 Q112.45 1058.26 109.371 1053.68 Q106.316 1049.07 106.316 1040.34 Q106.316 1031.59 109.371 1027.01 Q112.45 1022.4 118.26 1022.4 Z\" fill=\"#000000\" fill-rule=\"evenodd\" fill-opacity=\"1\" /><path clip-path=\"url(#clip820)\" d=\"M 0 0 M145.274 1026.11 Q141.663 1026.11 139.834 1029.67 Q138.029 1033.21 138.029 1040.34 Q138.029 1047.45 139.834 1051.01 Q141.663 1054.56 145.274 1054.56 Q148.908 1054.56 150.714 1051.01 Q152.543 1047.45 152.543 1040.34 Q152.543 1033.21 150.714 1029.67 Q148.908 1026.11 145.274 1026.11 M145.274 1022.4 Q151.084 1022.4 154.14 1027.01 Q157.218 1031.59 157.218 1040.34 Q157.218 1049.07 154.14 1053.68 Q151.084 1058.26 145.274 1058.26 Q139.464 1058.26 136.385 1053.68 Q133.33 1049.07 133.33 1040.34 Q133.33 1031.59 136.385 1027.01 Q139.464 1022.4 145.274 1022.4 Z\" fill=\"#000000\" fill-rule=\"evenodd\" fill-opacity=\"1\" /><path clip-path=\"url(#clip820)\" d=\"M 0 0 M69.0476 830.84 Q72.404 831.557 74.279 833.826 Q76.1772 836.094 76.1772 839.428 Q76.1772 844.543 72.6587 847.344 Q69.1402 850.145 62.6587 850.145 Q60.4828 850.145 58.168 849.705 Q55.8764 849.289 53.4227 848.432 L53.4227 843.918 Q55.3671 845.053 57.6819 845.631 Q59.9967 846.21 62.5198 846.21 Q66.918 846.21 69.2096 844.474 Q71.5244 842.738 71.5244 839.428 Q71.5244 836.372 69.3717 834.659 Q67.242 832.923 63.4226 832.923 L59.3949 832.923 L59.3949 829.081 L63.6078 829.081 Q67.0569 829.081 68.8855 827.715 Q70.7142 826.326 70.7142 823.733 Q70.7142 821.071 68.8161 819.659 Q66.9411 818.224 63.4226 818.224 Q61.5013 818.224 59.3023 818.641 Q57.1032 819.057 54.4643 819.937 L54.4643 815.77 Q57.1264 815.03 59.4412 814.659 Q61.7791 814.289 63.8393 814.289 Q69.1633 814.289 72.2652 816.72 Q75.367 819.127 75.367 823.247 Q75.367 826.118 73.7235 828.108 Q72.08 830.076 69.0476 830.84 Z\" fill=\"#000000\" fill-rule=\"evenodd\" fill-opacity=\"1\" /><path clip-path=\"url(#clip820)\" d=\"M 0 0 M91.2465 817.993 Q87.6354 817.993 85.8068 821.557 Q84.0012 825.099 84.0012 832.229 Q84.0012 839.335 85.8068 842.9 Q87.6354 846.442 91.2465 846.442 Q94.8808 846.442 96.6863 842.9 Q98.515 839.335 98.515 832.229 Q98.515 825.099 96.6863 821.557 Q94.8808 817.993 91.2465 817.993 M91.2465 814.289 Q97.0567 814.289 100.112 818.895 Q103.191 823.479 103.191 832.229 Q103.191 840.955 100.112 845.562 Q97.0567 850.145 91.2465 850.145 Q85.4364 850.145 82.3577 845.562 Q79.3022 840.955 79.3022 832.229 Q79.3022 823.479 82.3577 818.895 Q85.4364 814.289 91.2465 814.289 Z\" fill=\"#000000\" fill-rule=\"evenodd\" fill-opacity=\"1\" /><path clip-path=\"url(#clip820)\" d=\"M 0 0 M118.26 817.993 Q114.649 817.993 112.82 821.557 Q111.015 825.099 111.015 832.229 Q111.015 839.335 112.82 842.9 Q114.649 846.442 118.26 846.442 Q121.895 846.442 123.7 842.9 Q125.529 839.335 125.529 832.229 Q125.529 825.099 123.7 821.557 Q121.895 817.993 118.26 817.993 M118.26 814.289 Q124.07 814.289 127.126 818.895 Q130.205 823.479 130.205 832.229 Q130.205 840.955 127.126 845.562 Q124.07 850.145 118.26 850.145 Q112.45 850.145 109.371 845.562 Q106.316 840.955 106.316 832.229 Q106.316 823.479 109.371 818.895 Q112.45 814.289 118.26 814.289 Z\" fill=\"#000000\" fill-rule=\"evenodd\" fill-opacity=\"1\" /><path clip-path=\"url(#clip820)\" d=\"M 0 0 M145.274 817.993 Q141.663 817.993 139.834 821.557 Q138.029 825.099 138.029 832.229 Q138.029 839.335 139.834 842.9 Q141.663 846.442 145.274 846.442 Q148.908 846.442 150.714 842.9 Q152.543 839.335 152.543 832.229 Q152.543 825.099 150.714 821.557 Q148.908 817.993 145.274 817.993 M145.274 814.289 Q151.084 814.289 154.14 818.895 Q157.218 823.479 157.218 832.229 Q157.218 840.955 154.14 845.562 Q151.084 850.145 145.274 850.145 Q139.464 850.145 136.385 845.562 Q133.33 840.955 133.33 832.229 Q133.33 823.479 136.385 818.895 Q139.464 814.289 145.274 814.289 Z\" fill=\"#000000\" fill-rule=\"evenodd\" fill-opacity=\"1\" /><path clip-path=\"url(#clip820)\" d=\"M 0 0 M66.5939 610.873 L54.7884 629.322 L66.5939 629.322 L66.5939 610.873 M65.367 606.799 L71.2466 606.799 L71.2466 629.322 L76.1772 629.322 L76.1772 633.211 L71.2466 633.211 L71.2466 641.359 L66.5939 641.359 L66.5939 633.211 L50.9921 633.211 L50.9921 628.697 L65.367 606.799 Z\" fill=\"#000000\" fill-rule=\"evenodd\" fill-opacity=\"1\" /><path clip-path=\"url(#clip820)\" d=\"M 0 0 M91.2465 609.878 Q87.6354 609.878 85.8068 613.443 Q84.0012 616.985 84.0012 624.114 Q84.0012 631.221 85.8068 634.785 Q87.6354 638.327 91.2465 638.327 Q94.8808 638.327 96.6863 634.785 Q98.515 631.221 98.515 624.114 Q98.515 616.985 96.6863 613.443 Q94.8808 609.878 91.2465 609.878 M91.2465 606.174 Q97.0567 606.174 100.112 610.781 Q103.191 615.364 103.191 624.114 Q103.191 632.841 100.112 637.447 Q97.0567 642.031 91.2465 642.031 Q85.4364 642.031 82.3577 637.447 Q79.3022 632.841 79.3022 624.114 Q79.3022 615.364 82.3577 610.781 Q85.4364 606.174 91.2465 606.174 Z\" fill=\"#000000\" fill-rule=\"evenodd\" fill-opacity=\"1\" /><path clip-path=\"url(#clip820)\" d=\"M 0 0 M118.26 609.878 Q114.649 609.878 112.82 613.443 Q111.015 616.985 111.015 624.114 Q111.015 631.221 112.82 634.785 Q114.649 638.327 118.26 638.327 Q121.895 638.327 123.7 634.785 Q125.529 631.221 125.529 624.114 Q125.529 616.985 123.7 613.443 Q121.895 609.878 118.26 609.878 M118.26 606.174 Q124.07 606.174 127.126 610.781 Q130.205 615.364 130.205 624.114 Q130.205 632.841 127.126 637.447 Q124.07 642.031 118.26 642.031 Q112.45 642.031 109.371 637.447 Q106.316 632.841 106.316 624.114 Q106.316 615.364 109.371 610.781 Q112.45 606.174 118.26 606.174 Z\" fill=\"#000000\" fill-rule=\"evenodd\" fill-opacity=\"1\" /><path clip-path=\"url(#clip820)\" d=\"M 0 0 M145.274 609.878 Q141.663 609.878 139.834 613.443 Q138.029 616.985 138.029 624.114 Q138.029 631.221 139.834 634.785 Q141.663 638.327 145.274 638.327 Q148.908 638.327 150.714 634.785 Q152.543 631.221 152.543 624.114 Q152.543 616.985 150.714 613.443 Q148.908 609.878 145.274 609.878 M145.274 606.174 Q151.084 606.174 154.14 610.781 Q157.218 615.364 157.218 624.114 Q157.218 632.841 154.14 637.447 Q151.084 642.031 145.274 642.031 Q139.464 642.031 136.385 637.447 Q133.33 632.841 133.33 624.114 Q133.33 615.364 136.385 610.781 Q139.464 606.174 145.274 606.174 Z\" fill=\"#000000\" fill-rule=\"evenodd\" fill-opacity=\"1\" /><path clip-path=\"url(#clip820)\" d=\"M 0 0 M55.2745 398.685 L73.6309 398.685 L73.6309 402.62 L59.5569 402.62 L59.5569 411.092 Q60.5754 410.745 61.5939 410.583 Q62.6124 410.398 63.6309 410.398 Q69.418 410.398 72.7976 413.569 Q76.1772 416.74 76.1772 422.157 Q76.1772 427.736 72.705 430.837 Q69.2328 433.916 62.9134 433.916 Q60.7374 433.916 58.4689 433.546 Q56.2236 433.175 53.8162 432.435 L53.8162 427.736 Q55.8995 428.87 58.1217 429.425 Q60.3439 429.981 62.8208 429.981 Q66.8254 429.981 69.1633 427.874 Q71.5013 425.768 71.5013 422.157 Q71.5013 418.546 69.1633 416.439 Q66.8254 414.333 62.8208 414.333 Q60.9458 414.333 59.0708 414.75 Q57.2189 415.166 55.2745 416.046 L55.2745 398.685 Z\" fill=\"#000000\" fill-rule=\"evenodd\" fill-opacity=\"1\" /><path clip-path=\"url(#clip820)\" d=\"M 0 0 M91.2465 401.764 Q87.6354 401.764 85.8068 405.328 Q84.0012 408.87 84.0012 416 Q84.0012 423.106 85.8068 426.671 Q87.6354 430.212 91.2465 430.212 Q94.8808 430.212 96.6863 426.671 Q98.515 423.106 98.515 416 Q98.515 408.87 96.6863 405.328 Q94.8808 401.764 91.2465 401.764 M91.2465 398.06 Q97.0567 398.06 100.112 402.666 Q103.191 407.25 103.191 416 Q103.191 424.726 100.112 429.333 Q97.0567 433.916 91.2465 433.916 Q85.4364 433.916 82.3577 429.333 Q79.3022 424.726 79.3022 416 Q79.3022 407.25 82.3577 402.666 Q85.4364 398.06 91.2465 398.06 Z\" fill=\"#000000\" fill-rule=\"evenodd\" fill-opacity=\"1\" /><path clip-path=\"url(#clip820)\" d=\"M 0 0 M118.26 401.764 Q114.649 401.764 112.82 405.328 Q111.015 408.87 111.015 416 Q111.015 423.106 112.82 426.671 Q114.649 430.212 118.26 430.212 Q121.895 430.212 123.7 426.671 Q125.529 423.106 125.529 416 Q125.529 408.87 123.7 405.328 Q121.895 401.764 118.26 401.764 M118.26 398.06 Q124.07 398.06 127.126 402.666 Q130.205 407.25 130.205 416 Q130.205 424.726 127.126 429.333 Q124.07 433.916 118.26 433.916 Q112.45 433.916 109.371 429.333 Q106.316 424.726 106.316 416 Q106.316 407.25 109.371 402.666 Q112.45 398.06 118.26 398.06 Z\" fill=\"#000000\" fill-rule=\"evenodd\" fill-opacity=\"1\" /><path clip-path=\"url(#clip820)\" d=\"M 0 0 M145.274 401.764 Q141.663 401.764 139.834 405.328 Q138.029 408.87 138.029 416 Q138.029 423.106 139.834 426.671 Q141.663 430.212 145.274 430.212 Q148.908 430.212 150.714 426.671 Q152.543 423.106 152.543 416 Q152.543 408.87 150.714 405.328 Q148.908 401.764 145.274 401.764 M145.274 398.06 Q151.084 398.06 154.14 402.666 Q157.218 407.25 157.218 416 Q157.218 424.726 154.14 429.333 Q151.084 433.916 145.274 433.916 Q139.464 433.916 136.385 429.333 Q133.33 424.726 133.33 416 Q133.33 407.25 136.385 402.666 Q139.464 398.06 145.274 398.06 Z\" fill=\"#000000\" fill-rule=\"evenodd\" fill-opacity=\"1\" /><path clip-path=\"url(#clip820)\" d=\"M 0 0 M64.6495 205.987 Q61.5013 205.987 59.6495 208.14 Q57.8208 210.292 57.8208 214.042 Q57.8208 217.769 59.6495 219.945 Q61.5013 222.098 64.6495 222.098 Q67.7976 222.098 69.6263 219.945 Q71.4781 217.769 71.4781 214.042 Q71.4781 210.292 69.6263 208.14 Q67.7976 205.987 64.6495 205.987 M73.9318 191.334 L73.9318 195.593 Q72.1726 194.76 70.367 194.32 Q68.5846 193.88 66.8254 193.88 Q62.1958 193.88 59.7421 197.005 Q57.3115 200.13 56.9643 206.45 Q58.33 204.436 60.3902 203.371 Q62.4504 202.283 64.9272 202.283 Q70.1355 202.283 73.1448 205.454 Q76.1772 208.603 76.1772 214.042 Q76.1772 219.366 73.029 222.584 Q69.8809 225.802 64.6495 225.802 Q58.6541 225.802 55.4828 221.218 Q52.3116 216.612 52.3116 207.885 Q52.3116 199.691 56.2004 194.83 Q60.0893 189.945 66.6402 189.945 Q68.3994 189.945 70.1818 190.292 Q71.9874 190.64 73.9318 191.334 Z\" fill=\"#000000\" fill-rule=\"evenodd\" fill-opacity=\"1\" /><path clip-path=\"url(#clip820)\" d=\"M 0 0 M91.2465 193.649 Q87.6354 193.649 85.8068 197.214 Q84.0012 200.755 84.0012 207.885 Q84.0012 214.991 85.8068 218.556 Q87.6354 222.098 91.2465 222.098 Q94.8808 222.098 96.6863 218.556 Q98.515 214.991 98.515 207.885 Q98.515 200.755 96.6863 197.214 Q94.8808 193.649 91.2465 193.649 M91.2465 189.945 Q97.0567 189.945 100.112 194.552 Q103.191 199.135 103.191 207.885 Q103.191 216.612 100.112 221.218 Q97.0567 225.802 91.2465 225.802 Q85.4364 225.802 82.3577 221.218 Q79.3022 216.612 79.3022 207.885 Q79.3022 199.135 82.3577 194.552 Q85.4364 189.945 91.2465 189.945 Z\" fill=\"#000000\" fill-rule=\"evenodd\" fill-opacity=\"1\" /><path clip-path=\"url(#clip820)\" d=\"M 0 0 M118.26 193.649 Q114.649 193.649 112.82 197.214 Q111.015 200.755 111.015 207.885 Q111.015 214.991 112.82 218.556 Q114.649 222.098 118.26 222.098 Q121.895 222.098 123.7 218.556 Q125.529 214.991 125.529 207.885 Q125.529 200.755 123.7 197.214 Q121.895 193.649 118.26 193.649 M118.26 189.945 Q124.07 189.945 127.126 194.552 Q130.205 199.135 130.205 207.885 Q130.205 216.612 127.126 221.218 Q124.07 225.802 118.26 225.802 Q112.45 225.802 109.371 221.218 Q106.316 216.612 106.316 207.885 Q106.316 199.135 109.371 194.552 Q112.45 189.945 118.26 189.945 Z\" fill=\"#000000\" fill-rule=\"evenodd\" fill-opacity=\"1\" /><path clip-path=\"url(#clip820)\" d=\"M 0 0 M145.274 193.649 Q141.663 193.649 139.834 197.214 Q138.029 200.755 138.029 207.885 Q138.029 214.991 139.834 218.556 Q141.663 222.098 145.274 222.098 Q148.908 222.098 150.714 218.556 Q152.543 214.991 152.543 207.885 Q152.543 200.755 150.714 197.214 Q148.908 193.649 145.274 193.649 M145.274 189.945 Q151.084 189.945 154.14 194.552 Q157.218 199.135 157.218 207.885 Q157.218 216.612 154.14 221.218 Q151.084 225.802 145.274 225.802 Q139.464 225.802 136.385 221.218 Q133.33 216.612 133.33 207.885 Q133.33 199.135 136.385 194.552 Q139.464 189.945 145.274 189.945 Z\" fill=\"#000000\" fill-rule=\"evenodd\" fill-opacity=\"1\" /><polyline clip-path=\"url(#clip822)\" style=\"stroke:#009af9; stroke-width:4; stroke-opacity:1; fill:none\" points=\"\n",
       "  254.337,643.642 274.916,1051.96 295.495,1188.07 316.074,1256.12 336.653,1296.91 357.231,1324.18 377.81,1343.53 398.389,1358.1 418.968,1369.55 439.546,1378.49 \n",
       "  460.125,1385.99 480.704,1392.23 501.283,1397.43 521.862,1401.8 542.44,1405.76 563.019,1409.09 583.598,1412.21 604.177,1414.91 624.755,1417.2 645.334,1419.49 \n",
       "  665.913,1421.37 686.492,1423.24 707.071,1424.7 727.649,1426.15 748.228,1427.61 768.807,1428.86 789.386,1430.11 809.965,1431.15 830.543,1432.19 851.122,1433.02 \n",
       "  871.701,1434.06 892.28,1434.89 912.858,1435.52 933.437,1436.35 954.016,1436.97 974.595,1437.6 995.174,1438.22 1015.75,1438.85 1036.33,1439.47 1056.91,1440.1 \n",
       "  1077.49,1440.51 1098.07,1440.93 1118.65,1441.55 1139.23,1441.97 1159.8,1442.39 1180.38,1442.8 1200.96,1443.01 1221.54,1443.43 1242.12,1443.84 1262.7,1444.26 \n",
       "  1283.28,1444.47 1303.86,1444.88 1324.43,1445.09 1345.01,1445.51 1365.59,1445.72 1386.17,1431.15 1406.75,1276.73 1427.33,87.9763 1447.91,792.444 1468.49,997.853 \n",
       "  1489.06,1097.12 1509.64,1156.23 1530.22,1195.77 1550.8,1224.28 1571.38,1245.93 1591.96,1262.78 1612.54,1276.52 1633.12,1287.96 1653.69,1297.75 1674.27,1305.86 \n",
       "  1694.85,1313.15 1715.43,1319.39 1736.01,1325.01 1756.59,1330 1777.17,1334.37 1797.75,1338.54 1818.32,1342.28 1838.9,1345.61 1859.48,1348.73 1880.06,1351.44 \n",
       "  1900.64,1354.15 1921.22,1356.64 1941.8,1358.93 1962.38,1361.01 1982.96,1363.09 2003.53,1364.97 2024.11,1366.84 2044.69,1368.51 2065.27,1370.17 2085.85,1371.63 \n",
       "  2106.43,1373.08 2127.01,1374.33 2147.59,1375.79 2168.16,1377.04 2188.74,1378.08 2209.32,1379.33 2229.9,1380.37 2250.48,1381.41 2271.06,1382.45 2291.64,1383.28 \n",
       "  \n",
       "  \"/>\n",
       "<path clip-path=\"url(#clip820)\" d=\"\n",
       "M1989.8 216.178 L2280.77 216.178 L2280.77 95.2176 L1989.8 95.2176  Z\n",
       "  \" fill=\"#ffffff\" fill-rule=\"evenodd\" fill-opacity=\"1\"/>\n",
       "<polyline clip-path=\"url(#clip820)\" style=\"stroke:#000000; stroke-width:4; stroke-opacity:1; fill:none\" points=\"\n",
       "  1989.8,216.178 2280.77,216.178 2280.77,95.2176 1989.8,95.2176 1989.8,216.178 \n",
       "  \"/>\n",
       "<polyline clip-path=\"url(#clip820)\" style=\"stroke:#009af9; stroke-width:4; stroke-opacity:1; fill:none\" points=\"\n",
       "  2013.8,155.698 2157.77,155.698 \n",
       "  \"/>\n",
       "<path clip-path=\"url(#clip820)\" d=\"M 0 0 M2195.61 175.385 Q2193.8 180.015 2192.09 181.427 Q2190.37 182.839 2187.5 182.839 L2184.1 182.839 L2184.1 179.274 L2186.6 179.274 Q2188.36 179.274 2189.33 178.44 Q2190.3 177.607 2191.49 174.505 L2192.25 172.561 L2181.76 147.052 L2186.28 147.052 L2194.38 167.329 L2202.48 147.052 L2206.99 147.052 L2195.61 175.385 Z\" fill=\"#000000\" fill-rule=\"evenodd\" fill-opacity=\"1\" /><path clip-path=\"url(#clip820)\" d=\"M 0 0 M2212.87 169.042 L2220.51 169.042 L2220.51 142.677 L2212.2 144.343 L2212.2 140.084 L2220.47 138.418 L2225.14 138.418 L2225.14 169.042 L2232.78 169.042 L2232.78 172.978 L2212.87 172.978 L2212.87 169.042 Z\" fill=\"#000000\" fill-rule=\"evenodd\" fill-opacity=\"1\" /></svg>\n"
      ]
     },
     "execution_count": 109,
     "metadata": {},
     "output_type": "execute_result"
    }
   ],
   "source": [
    "mat = RazprsenaMatrika([4 -1 -6 0; -5 -4 10 8; 9 4 -2 0; 1 -7 5 0], [1 2 3 0; 1 2 3 4; 2 3 4 0; 1 3 4 0] )\n",
    "b = [2, 21, -12, -6]\n",
    "\n",
    "x0 = [0.0, 0, 0, 0]\n",
    "\n",
    "its = zeros(100)\n",
    "\n",
    "#solve the system\n",
    "for i=1:100\n",
    "    x0 = [0.0, 0, 0, 0]\n",
    "    \n",
    "    x, it = sor(mat,b,x0,i/100,1e-10, 10000)\n",
    "    \n",
    "    its[i] = it\n",
    "end\n",
    "\n",
    "#plot number of iterations for convergence / the omega parameter\n",
    "\n",
    "plot(0.01:0.01:1,its)"
   ]
  },
  {
   "cell_type": "code",
   "execution_count": 93,
   "id": "d0aa166c-896a-4207-87f0-ca9890bd97b9",
   "metadata": {},
   "outputs": [
    {
     "name": "stdout",
     "output_type": "stream",
     "text": [
      "\u001b[37m\u001b[1mTest Summary: | \u001b[22m\u001b[39m\u001b[32m\u001b[1mPass  \u001b[22m\u001b[39m\u001b[36m\u001b[1mTotal\u001b[22m\u001b[39m\n",
      "matrike       | \u001b[32m  12  \u001b[39m\u001b[36m   12\u001b[39m\n",
      "\u001b[37m\u001b[1mTest Summary: | \u001b[22m\u001b[39m\u001b[32m\u001b[1mPass  \u001b[22m\u001b[39m\u001b[36m\u001b[1mTotal\u001b[22m\u001b[39m\n",
      "sor           | \u001b[32m   3  \u001b[39m\u001b[36m    3\u001b[39m\n"
     ]
    },
    {
     "data": {
      "text/plain": [
       "Test.DefaultTestSet(\"sor\", Any[], 3, false)"
      ]
     },
     "execution_count": 93,
     "metadata": {},
     "output_type": "execute_result"
    }
   ],
   "source": [
    "using Test\n",
    "\n",
    "@testset \"matrike\" begin\n",
    "    \n",
    "    eps = 1e-5\n",
    "    \n",
    "    A = [1 2 0 ; 0 1 0 ; 0 1 2]\n",
    "    \n",
    "    Ar = RazprsenaMatrika([1 2; 1 0; 1 2], [1 2; 2 0 ; 2 3])\n",
    "\n",
    "    @test norm(A-Ar)<eps\n",
    "    \n",
    "    A[1,3] = 3\n",
    "    Ar[1,3] = 3\n",
    "    \n",
    "    @test norm(A-Ar)<eps\n",
    "    \n",
    "    A[1,3] = 0\n",
    "    Ar[1,3] = 0\n",
    "    \n",
    "    @test norm(A-Ar)<eps\n",
    "    \n",
    "    x = [1, 2, 3]\n",
    "    \n",
    "    @test norm(A*x-Ar*x)<eps\n",
    "    \n",
    "    A = [1 2 0 0 0; 0 1 2 0 0; 0 0 1 2 0; 0 0 0 1 2]\n",
    "      \n",
    "    Ar = RazprsenaMatrika([1 2; 1 2; 1 2; 1 2;],[1 2; 2 3; 3 4; 4 5])\n",
    "    \n",
    "    @test norm(A-Ar)<eps\n",
    "    \n",
    "    A[1,3] = 3\n",
    "    Ar[1,3] = 3\n",
    "    \n",
    "    @test norm(A-Ar)<eps\n",
    "    \n",
    "    A[1,3] = 0\n",
    "    Ar[1,3] = 0\n",
    "    \n",
    "    @test norm(A-Ar)<eps\n",
    "    \n",
    "    x = [1, 2, 3, 4, 5]\n",
    "    \n",
    "    @test norm(A*x-Ar*x)<eps\n",
    "    \n",
    "    A = [1 0 3 0 0; 3 1 0 2 0; 1 1 0 0 0; 0 0 0 0 1; 0 1 2 3 0]\n",
    "    \n",
    "    Ar = mat_to_razprsena(A)\n",
    "    \n",
    "    @test norm(A-Ar)<eps\n",
    "    \n",
    "    A[1,3] = 3\n",
    "    Ar[1,3] = 3\n",
    "    \n",
    "    @test norm(A-Ar)<eps\n",
    "    \n",
    "    A[1,3] = 0\n",
    "    Ar[1,3] = 0\n",
    "    \n",
    "    @test norm(A-Ar)<eps\n",
    "    \n",
    "    x = [1, 2, 3, 4, 5]\n",
    "    \n",
    "    @test norm(A*x-Ar*x)<eps\n",
    "    \n",
    "end\n",
    "\n",
    "@testset \"sor\" begin\n",
    "    \n",
    "    eps = 1e-5\n",
    "    \n",
    "    mat = RazprsenaMatrika([4 -1 -6 0; -5 -4 10 8; 9 4 -2 0; 1 -7 5 0], [1 2 3 0; 1 2 3 4; 2 3 4 0; 1 3 4 0] )\n",
    "    b = [2, 21, -12, -6]\n",
    "    \n",
    "    x0 = [0.0, 0, 0, 0]\n",
    "    \n",
    "    x, it = sor(mat,b,x0,0.50,1e-10, 1000)\n",
    "    \n",
    "    @test norm(b-mat*x)<eps\n",
    "    \n",
    "    mat = mat_to_razprsena(rand(Float64,(5,5))+ I)\n",
    "    mat[1,2] = mat[4,3] = mat[2,3] = mat[3,5] = 0\n",
    "    \n",
    "    b = rand(Float64,(5))\n",
    "    x0 = rand(Float64,(5))\n",
    "    \n",
    "    x, it = sor(mat,b,x0,0.50,1e-10, 1000)\n",
    "    \n",
    "    @test norm(b-mat*x)<eps\n",
    "    \n",
    "    mat = mat_to_razprsena(rand(Float64,(15,15))+ 2*I)\n",
    "    mat[1,2] = mat[4,3] = mat[2,3] = mat[3,5] = mat[10,2] = mat[7,3] = mat[2,13] = mat[10,12] = 0\n",
    "    \n",
    "    b = rand(Float64,(15))\n",
    "    x0 = rand(Float64,(15))\n",
    "    \n",
    "    x, it = sor(mat,b,x0,0.5,1e-10, 1000)\n",
    "    \n",
    "    @test norm(b-mat*x)<eps\n",
    "    \n",
    "     \n",
    "end"
   ]
  },
  {
   "cell_type": "code",
   "execution_count": 10,
   "id": "69f709ea-0c70-4ee5-9ab8-059d5ece38ea",
   "metadata": {},
   "outputs": [
    {
     "data": {
      "text/plain": [
       "3×3 RazprsenaMatrika{Float64}:\n",
       " -2.0   1.0   0\n",
       "  1.0  -2.0   1.0\n",
       "  0     1.0  -2.0"
      ]
     },
     "metadata": {},
     "output_type": "display_data"
    },
    {
     "data": {
      "text/plain": [
       "3×3 RazprsenaMatrika{Float64}:\n",
       " -2.0   1.0   0\n",
       "  1.0  -2.0   1.0\n",
       "  0     1.0  -2.0"
      ]
     },
     "metadata": {},
     "output_type": "display_data"
    },
    {
     "data": {
      "text/plain": [
       "3-element Array{Float64,1}:\n",
       " 0.0\n",
       " 0.0\n",
       " 0.0"
      ]
     },
     "metadata": {},
     "output_type": "display_data"
    },
    {
     "data": {
      "text/plain": [
       "3-element Array{Float64,1}:\n",
       "  0.0\n",
       "  0.0\n",
       " -1.0"
      ]
     },
     "metadata": {},
     "output_type": "display_data"
    },
    {
     "data": {
      "text/plain": [
       "3-element Array{Float64,1}:\n",
       " 0.0\n",
       " 0.0\n",
       " 1.0"
      ]
     },
     "metadata": {},
     "output_type": "display_data"
    },
    {
     "data": {
      "text/plain": [
       "([0.24887050556559132, 0.4985533698790403, 0.7490735950197251], 31)"
      ]
     },
     "execution_count": 10,
     "metadata": {},
     "output_type": "execute_result"
    }
   ],
   "source": [
    "mat, b = get_graph(5, [(1,2),(2,3),(3,4),(4,5)], [5,1],[1,0])\n",
    "mat = mat_to_razprsena(mat)\n",
    "display(mat)\n",
    "xs = [0.0,0.0,0.0]\n",
    "sor(mat,b,xs,0.5,1e-3)"
   ]
  },
  {
   "cell_type": "code",
   "execution_count": 168,
   "id": "3b6b816e-c960-4ea0-bbda-1c7ffffe4330",
   "metadata": {},
   "outputs": [
    {
     "data": {
      "text/plain": [
       "([0.373854586911712, 0.49858716527176977, 0.6239730991183194], 39)"
      ]
     },
     "execution_count": 168,
     "metadata": {},
     "output_type": "execute_result"
    }
   ],
   "source": [
    "mat, b = get_graph(5, [(1,2),(2,3),(3,4),(4,5),(5,1),(2,4)], [5,1],[1,0])\n",
    "mat = mat_to_razprsena(mat)\n",
    "display(mat)\n",
    "xs = [0.0,0.0,0.0]\n",
    "sor(mat,b,xs,0.5,1e-3)"
   ]
  },
  {
   "cell_type": "code",
   "execution_count": 76,
   "id": "83d2f2fc-8b09-403a-96de-5802895c8e1f",
   "metadata": {},
   "outputs": [
    {
     "data": {
      "text/plain": [
       "3-element Array{Float64,1}:\n",
       "  0.0\n",
       "  0.0\n",
       " -1.0"
      ]
     },
     "execution_count": 76,
     "metadata": {},
     "output_type": "execute_result"
    }
   ],
   "source": [
    "xs = [0.0, 0.0, 0.0]\n",
    "mat = [-1.0 1 0; 1 -2 1; 0 1 -1]\n",
    "b = [0.0, 0.0, -1.0]"
   ]
  },
  {
   "cell_type": "code",
   "execution_count": 77,
   "id": "cb9ba7a2-fd10-422f-8de1-2f063b393b7b",
   "metadata": {},
   "outputs": [
    {
     "data": {
      "text/plain": [
       "3×3 RazprsenaMatrika{Float64}:\n",
       " -2.0   1.0   0\n",
       "  1.0  -2.0   1.0\n",
       "  0     1.0  -2.0"
      ]
     },
     "execution_count": 77,
     "metadata": {},
     "output_type": "execute_result"
    }
   ],
   "source": [
    "mat = RazprsenaMatrika([-2.0 1 0; 1 -2 1; 1 -2 0], [1 2 0; 1 2 3; 2 3 0])"
   ]
  },
  {
   "cell_type": "code",
   "execution_count": 78,
   "id": "7803be99-d67e-4f43-ba3d-c2dcf44b6855",
   "metadata": {},
   "outputs": [
    {
     "data": {
      "text/plain": [
       "([0.24887050556559132, 0.4985533698790403, 0.7490735950197251], 31)"
      ]
     },
     "execution_count": 78,
     "metadata": {},
     "output_type": "execute_result"
    }
   ],
   "source": [
    "sor(mat,b,xs,0.5,1e-3)"
   ]
  },
  {
   "cell_type": "code",
   "execution_count": 47,
   "id": "efecbbc3-d55f-4911-b794-8fb262b3d407",
   "metadata": {},
   "outputs": [
    {
     "data": {
      "text/plain": [
       "3×3 RazprsenaMatrika{Float64}:\n",
       " -1.0   1.0   0\n",
       "  1.0  -2.0   1.0\n",
       "  0     1.0  -1.0"
      ]
     },
     "execution_count": 47,
     "metadata": {},
     "output_type": "execute_result"
    }
   ],
   "source": [
    "mat"
   ]
  },
  {
   "cell_type": "code",
   "execution_count": 65,
   "id": "09c45172-5963-40cb-a978-cf89742e1fde",
   "metadata": {},
   "outputs": [
    {
     "data": {
      "text/plain": [
       "matrika (generic function with 1 method)"
      ]
     },
     "execution_count": 65,
     "metadata": {},
     "output_type": "execute_result"
    }
   ],
   "source": [
    "function matrika(n, m)\n",
    "    L = diagm(0=>-4*ones(n), 1=>ones(n-1), -1=>ones(n-1))\n",
    "    I = diagm(0=>ones(n)) # identiteta\n",
    "    A = zeros(n*m, n*m)\n",
    "    for j=1:m\n",
    "        k = ((j-1)*n+1):(j*n) # indeksi v j-tem bloku  \n",
    "        A[k,k] = L\n",
    "        if j < m\n",
    "            A[k,k.+ n] = I\n",
    "            A[k.+n, k] = I\n",
    "        end\n",
    "    end\n",
    "    return A\n",
    "end\n",
    "\n"
   ]
  },
  {
   "cell_type": "code",
   "execution_count": 69,
   "id": "66c86baa-ffa5-45e0-8619-111d5a63f2be",
   "metadata": {},
   "outputs": [
    {
     "data": {
      "text/plain": [
       "4×4 Array{Float64,2}:\n",
       " -4.0   1.0   1.0   0.0\n",
       "  1.0  -4.0   0.0   1.0\n",
       "  1.0   0.0  -4.0   1.0\n",
       "  0.0   1.0   1.0  -4.0"
      ]
     },
     "execution_count": 69,
     "metadata": {},
     "output_type": "execute_result"
    }
   ],
   "source": [
    "matrika(2,2)"
   ]
  },
  {
   "cell_type": "code",
   "execution_count": 68,
   "id": "dcdb11a7-1f2a-4c8b-9b7d-95797e19d9fa",
   "metadata": {},
   "outputs": [
    {
     "data": {
      "text/plain": [
       "desne_strani (generic function with 1 method)"
      ]
     },
     "execution_count": 68,
     "metadata": {},
     "output_type": "execute_result"
    }
   ],
   "source": [
    "function desne_strani(s, d, z, l)\n",
    "    n = length(s)\n",
    "    m = length(l)\n",
    "    b = zeros(n*m)\n",
    "    \n",
    "    #display(b[1:n])\n",
    "    #display(s)\n",
    "    \n",
    "    b[1:n] -= s # j = 1\n",
    "    b[n:n:end] -= d # i = n\n",
    "    b[end-n+1:end] -= z # j = m\n",
    "    b[1:n:end-n+1] -= l # i = 1\n",
    "    return b\n",
    "end"
   ]
  },
  {
   "cell_type": "code",
   "execution_count": 70,
   "id": "bd77caac-6ba5-454b-8293-0e2a581aee35",
   "metadata": {},
   "outputs": [
    {
     "data": {
      "text/plain": [
       "4-element Array{Float64,1}:\n",
       "  0.0\n",
       " -2.0\n",
       "  0.0\n",
       " -2.0"
      ]
     },
     "execution_count": 70,
     "metadata": {},
     "output_type": "execute_result"
    }
   ],
   "source": [
    "desne_strani([0,1],[1,1],[0,1],[0,0])"
   ]
  },
  {
   "cell_type": "code",
   "execution_count": 18,
   "id": "25a172ec-bf04-4022-a9f1-97953e72f83d",
   "metadata": {},
   "outputs": [
    {
     "data": {
      "text/plain": [
       "4×4 RazprsenaMatrika{Int64}:\n",
       "  4  -1  -6   0\n",
       " -5  -4  10   8\n",
       "  0   9   4  -2\n",
       "  1   0  -7   5"
      ]
     },
     "metadata": {},
     "output_type": "display_data"
    },
    {
     "data": {
      "text/plain": [
       "4×4 Array{Int64,2}:\n",
       " 1  2  3  0\n",
       " 1  2  3  4\n",
       " 2  3  4  0\n",
       " 1  3  4  0"
      ]
     },
     "metadata": {},
     "output_type": "display_data"
    },
    {
     "data": {
      "text/plain": [
       "4×4 Array{Int64,2}:\n",
       "  4  -1  -6  0\n",
       " -5  -4  10  8\n",
       "  9   4  -2  0\n",
       "  1  -7   5  0"
      ]
     },
     "metadata": {},
     "output_type": "display_data"
    }
   ],
   "source": [
    "mat = RazprsenaMatrika([4 -1 -6 0; -5 -4 10 8; 9 4 -2 0; 1 -7 5 0], [1 2 3 0; 1 2 3 4; 2 3 4 0; 1 3 4 0] )\n",
    "display(mat)\n",
    "b = [2, 21, -12, -6]\n",
    "display(mat.I)\n",
    "display(mat.V)"
   ]
  },
  {
   "cell_type": "code",
   "execution_count": 26,
   "id": "3d16a4be-6da2-4e44-81bb-20d7fd585775",
   "metadata": {
    "tags": []
   },
   "outputs": [
    {
     "data": {
      "text/plain": [
       "([2.9999999999668665, -2.0000000000005187, 1.9999999999934976, 0.9999999999946086], 59)"
      ]
     },
     "execution_count": 26,
     "metadata": {},
     "output_type": "execute_result"
    }
   ],
   "source": [
    "sor(mat,b,[0.0,0,0,0],0.50,1e-10)"
   ]
  },
  {
   "cell_type": "code",
   "execution_count": 24,
   "id": "e06f32cb-3d97-4ffa-b9e8-35af5f77bfee",
   "metadata": {},
   "outputs": [
    {
     "data": {
      "text/plain": [
       "4-element Array{Float64,1}:\n",
       "   2.0\n",
       "  21.0\n",
       " -12.0\n",
       "  -6.0"
      ]
     },
     "execution_count": 24,
     "metadata": {},
     "output_type": "execute_result"
    }
   ],
   "source": [
    "mat*[3.0,-2.0,2.0,1.0]"
   ]
  },
  {
   "cell_type": "code",
   "execution_count": 10,
   "id": "466312c4-ed07-40aa-b81e-740b1ab6d2c0",
   "metadata": {},
   "outputs": [
    {
     "data": {
      "text/plain": [
       "4-element Array{Float64,1}:\n",
       "   2.0\n",
       "  21.0\n",
       " -12.0\n",
       "  -6.0"
      ]
     },
     "execution_count": 10,
     "metadata": {},
     "output_type": "execute_result"
    }
   ],
   "source": [
    "copy(mat)*[3.0,-2.0,2.0,1.0]"
   ]
  },
  {
   "cell_type": "code",
   "execution_count": 134,
   "id": "375f7e0d-bfb5-4269-be33-ad3ad266074a",
   "metadata": {},
   "outputs": [
    {
     "data": {
      "text/plain": [
       "3×3 RazprsenaMatrika{Int64}:\n",
       " 1  0  2\n",
       " 0  2  0\n",
       " 0  0  3"
      ]
     },
     "execution_count": 134,
     "metadata": {},
     "output_type": "execute_result"
    }
   ],
   "source": [
    "mat = RazprsenaMatrika([1 2; 2 6; 3 2],[1 3; 2 0 ; 3 0])"
   ]
  },
  {
   "cell_type": "code",
   "execution_count": 135,
   "id": "c0e66466-a2f5-4826-9581-0711587889f7",
   "metadata": {},
   "outputs": [
    {
     "data": {
      "text/plain": [
       "3×2 Array{Int64,2}:\n",
       " 1  3\n",
       " 2  0\n",
       " 3  0"
      ]
     },
     "metadata": {},
     "output_type": "display_data"
    },
    {
     "data": {
      "text/plain": [
       "3×2 Array{Int64,2}:\n",
       " 1  2\n",
       " 2  6\n",
       " 3  2"
      ]
     },
     "metadata": {},
     "output_type": "display_data"
    }
   ],
   "source": [
    "display(mat.I)\n",
    "display(mat.V)"
   ]
  },
  {
   "cell_type": "code",
   "execution_count": 136,
   "id": "86adca85-d818-43d3-91e3-fa2dcc3ecd6a",
   "metadata": {},
   "outputs": [
    {
     "data": {
      "text/plain": [
       "5"
      ]
     },
     "execution_count": 136,
     "metadata": {},
     "output_type": "execute_result"
    }
   ],
   "source": [
    "mat[1,3] = 5"
   ]
  },
  {
   "cell_type": "code",
   "execution_count": 137,
   "id": "ad74de4e-c472-49fa-bdbf-f175e05140d1",
   "metadata": {},
   "outputs": [
    {
     "data": {
      "text/plain": [
       "3×3 Array{Int64,2}:\n",
       " 1  3  0\n",
       " 2  0  0\n",
       " 3  0  0"
      ]
     },
     "metadata": {},
     "output_type": "display_data"
    },
    {
     "data": {
      "text/plain": [
       "3×3 Array{Int64,2}:\n",
       " 1  5  0\n",
       " 2  6  0\n",
       " 3  2  0"
      ]
     },
     "metadata": {},
     "output_type": "display_data"
    }
   ],
   "source": [
    "display(mat.I)\n",
    "display(mat.V)"
   ]
  },
  {
   "cell_type": "code",
   "execution_count": 138,
   "id": "b63d8780-1637-40aa-b66e-a539e6893f65",
   "metadata": {},
   "outputs": [
    {
     "data": {
      "text/plain": [
       "3-element Array{Int64,1}:\n",
       " 2\n",
       " 1\n",
       " 2"
      ]
     },
     "execution_count": 138,
     "metadata": {},
     "output_type": "execute_result"
    }
   ],
   "source": [
    "v = [2,1,2]"
   ]
  },
  {
   "cell_type": "code",
   "execution_count": 139,
   "id": "525b8e06-736f-4376-bb6a-3bb522dd7e23",
   "metadata": {},
   "outputs": [
    {
     "data": {
      "text/plain": [
       "3-element Array{Float64,1}:\n",
       "  2.0\n",
       "  2.0\n",
       " 16.0"
      ]
     },
     "execution_count": 139,
     "metadata": {},
     "output_type": "execute_result"
    }
   ],
   "source": [
    "mat*v"
   ]
  },
  {
   "cell_type": "code",
   "execution_count": 140,
   "id": "2b0a6989-0174-4897-afe6-efcb874d6299",
   "metadata": {},
   "outputs": [
    {
     "data": {
      "text/plain": [
       "3-element Array{Float64,1}:\n",
       "  2.0\n",
       "  2.0\n",
       " 16.0"
      ]
     },
     "execution_count": 140,
     "metadata": {},
     "output_type": "execute_result"
    }
   ],
   "source": [
    "deepcopy(mat)*v"
   ]
  },
  {
   "cell_type": "code",
   "execution_count": 12,
   "id": "ada033ac-1e33-43b4-b622-446bbb79d7fc",
   "metadata": {},
   "outputs": [
    {
     "data": {
      "text/plain": [
       "getindex (generic function with 203 methods)"
      ]
     },
     "execution_count": 6,
     "metadata": {},
     "output_type": "execute_result"
    }
   ],
   "source": [
    "struct PasovnaMatrika{T} <: AbstractArray{T,2}\n",
    "        d::Vector{T}  \n",
    "        s::Vector{Vector{T}}\n",
    "        z::Vector{Vector{T}}\n",
    "end\n",
    "\n",
    "function size(A::PasovnaMatrika)\n",
    "    return (size(A.d)[1],size(A.d)[1])\n",
    "end\n",
    "\n",
    "function getindex(A::PasovnaMatrika, I::Vararg{Int,2})\n",
    "     return 1\n",
    "end"
   ]
  },
  {
   "cell_type": "code",
   "execution_count": 13,
   "id": "2a87d8da-43ab-4d02-bfbb-40c854090528",
   "metadata": {},
   "outputs": [
    {
     "data": {
      "text/plain": [
       "3×3 PasovnaMatrika{Int64}:\n",
       " 1  1  1\n",
       " 1  1  1\n",
       " 1  1  1"
      ]
     },
     "execution_count": 7,
     "metadata": {},
     "output_type": "execute_result"
    }
   ],
   "source": [
    "PasovnaMatrika([1,2,3],[[2,2]],[[3]])\n",
    "\n"
   ]
  },
  {
   "cell_type": "code",
   "execution_count": 84,
   "id": "cdcc5be3-6498-4ba5-8259-cf627cc4cdd7",
   "metadata": {},
   "outputs": [
    {
     "data": {
      "text/plain": [
       "3×2 Array{Int64,2}:\n",
       " 1  2\n",
       " 1  2\n",
       " 1  2"
      ]
     },
     "execution_count": 84,
     "metadata": {},
     "output_type": "execute_result"
    }
   ],
   "source": [
    "mat = [1 2 ; 1 2 ; 1 2]"
   ]
  },
  {
   "cell_type": "code",
   "execution_count": 86,
   "id": "fe329681-4a60-4e30-90f0-fd63ff45ff74",
   "metadata": {},
   "outputs": [
    {
     "data": {
      "text/plain": [
       "3-element Array{Int64,1}:\n",
       " 3\n",
       " 3\n",
       " 3"
      ]
     },
     "execution_count": 86,
     "metadata": {},
     "output_type": "execute_result"
    }
   ],
   "source": [
    "v = [ 3; 3; 3]"
   ]
  },
  {
   "cell_type": "code",
   "execution_count": 91,
   "id": "39e79cfe-406d-4472-8097-9b000ef4ce40",
   "metadata": {},
   "outputs": [
    {
     "data": {
      "text/plain": [
       "3×3 Array{Int64,2}:\n",
       " 1  2  3\n",
       " 1  2  3\n",
       " 1  2  3"
      ]
     },
     "execution_count": 91,
     "metadata": {},
     "output_type": "execute_result"
    }
   ],
   "source": [
    "hcat(mat,v)"
   ]
  },
  {
   "cell_type": "code",
   "execution_count": 120,
   "id": "cb1eee0b-bfc4-4ab4-8b7e-c25f9383efd5",
   "metadata": {},
   "outputs": [
    {
     "data": {
      "text/plain": [
       "3×3 RazprsenaMatrika{Int64}:\n",
       " 1  2  0\n",
       " 0  2  3\n",
       " 3  4  0"
      ]
     },
     "execution_count": 120,
     "metadata": {},
     "output_type": "execute_result"
    }
   ],
   "source": [
    "hcat(mat,zeros(3))\n",
    "mat"
   ]
  },
  {
   "cell_type": "code",
   "execution_count": null,
   "id": "d659b244-aeb9-4d95-84f3-239462d13027",
   "metadata": {},
   "outputs": [],
   "source": []
  }
 ],
 "metadata": {
  "kernelspec": {
   "display_name": "Julia 1.4.1",
   "language": "julia",
   "name": "julia-1.4"
  },
  "language_info": {
   "file_extension": ".jl",
   "mimetype": "application/julia",
   "name": "julia",
   "version": "1.4.1"
  }
 },
 "nbformat": 4,
 "nbformat_minor": 5
}
