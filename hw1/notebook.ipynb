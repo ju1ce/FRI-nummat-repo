{
 "cells": [
  {
   "cell_type": "code",
   "execution_count": 35,
   "id": "5543384f-dd8e-4159-b20c-43c8bcef9ad3",
   "metadata": {},
   "outputs": [],
   "source": [
    "#TODO: Everything\n",
    "using LinearAlgebra\n",
    "\n"
   ]
  },
  {
   "cell_type": "code",
   "execution_count": 1,
   "id": "7ad1c18c-5d21-4693-a800-c250f8bc5001",
   "metadata": {},
   "outputs": [
    {
     "data": {
      "text/plain": [
       "setindex! (generic function with 87 methods)"
      ]
     },
     "execution_count": 1,
     "metadata": {},
     "output_type": "execute_result"
    }
   ],
   "source": [
    "\"\"\" \n",
    "Podatkovni tip za pasovno matriko.\n",
    "Hrani vektor za diagonalo, vektor vektorjev za neničelne vrstice pod diagonalo in vektor vektorjev za neničelne vrstice nad diagonalo\n",
    "\n",
    "\"\"\"\n",
    "\n",
    "struct PasovnaMatrika{T} <: AbstractArray{T,2}\n",
    "        d::Vector{T}  \n",
    "        s::Vector{Vector{T}}\n",
    "        z::Vector{Vector{T}}\n",
    "end\n",
    "\n",
    "import Base:size,getindex,setindex!\n",
    "\n",
    "\"\"\"\n",
    "    size(A)\n",
    "\n",
    "    Vrne velikost pasovne matrike\n",
    "\n",
    "\"\"\"\n",
    "\n",
    "function size(A::PasovnaMatrika)\n",
    "    return (size(A.d)[1],size(A.d)[1])\n",
    "end\n",
    "\n",
    "\"\"\"\n",
    "    getindex(A,I) ali A[i,j]\n",
    "\n",
    "    Vrne element na mestu i,j\n",
    "\n",
    "\"\"\"\n",
    "\n",
    "function getindex(A::PasovnaMatrika, I::Vararg{Int,2})\n",
    "    \n",
    "    if I > size(A)\n",
    "        return 0\n",
    "    end\n",
    "    \n",
    "    i =  I[1] - I[2]\n",
    "\n",
    "    if i == 0\n",
    "        return A.d[I[1]]\n",
    "    end\n",
    "    if i > 0 && i <= size(A.s)[1]\n",
    "        return A.s[i][I[1]-i]\n",
    "    end\n",
    "    i = -i\n",
    "    if i > 0 && i <= size(A.z)[1]\n",
    "        return A.z[i][I[2]-i]\n",
    "    end\n",
    "    return 0\n",
    "\n",
    "end\n",
    "\n",
    "\"\"\"\n",
    "    setindex(A,v,I) ali A[i,j] = v\n",
    "\n",
    "    Nastavi element na mestu i, j na v, ce je to mesto v pasu, drugače ne naredi ničesar.\n",
    "\n",
    "\"\"\"\n",
    "\n",
    "function setindex!(A::PasovnaMatrika, v, I::Vararg{Int,2})\n",
    "    \n",
    "    if I > size(A)\n",
    "        return\n",
    "    end\n",
    "    \n",
    "    i =  I[1] - I[2]\n",
    "\n",
    "    if i == 0\n",
    "        A.d[I[1]] = v\n",
    "    end\n",
    "    if i > 0 && i <= size(A.s)[1]\n",
    "        A.s[i][I[1]-i] = v\n",
    "    end\n",
    "    i = -i\n",
    "    if i > 0 && i <= size(A.z)[1]\n",
    "        A.z[i][I[2]-i] = v\n",
    "    end\n",
    "end"
   ]
  },
  {
   "cell_type": "code",
   "execution_count": 37,
   "id": "21005c99-4cf2-4b8a-b70d-8fa973ff00d2",
   "metadata": {},
   "outputs": [
    {
     "data": {
      "text/plain": [
       "getindex (generic function with 203 methods)"
      ]
     },
     "execution_count": 37,
     "metadata": {},
     "output_type": "execute_result"
    }
   ],
   "source": [
    "\"\"\" \n",
    "Podatkovni tip za zgornje pasovno matriko.\n",
    "Hrani vektor za diagonalo in vektor vektorjev za neničelne vrstice nad diagonalo\n",
    "\n",
    "\"\"\"\n",
    "\n",
    "struct ZgornjePasovnaMatrika{T} <: AbstractArray{T,2}\n",
    "        d::Vector{T}  \n",
    "        z::Vector{Vector{T}}\n",
    "end\n",
    "\n",
    "import Base:size,getindex\n",
    "\n",
    "\"\"\"\n",
    "    size(A)\n",
    "\n",
    "    Vrne velikost pasovne matrike\n",
    "\n",
    "\"\"\"\n",
    "\n",
    "function size(A::ZgornjePasovnaMatrika)\n",
    "    return (size(A.d)[1],size(A.d)[1])\n",
    "end\n",
    "\n",
    "\"\"\"\n",
    "    getindex(A,I) ali A[i,j]\n",
    "\n",
    "    Vrne element na mestu i,j\n",
    "\n",
    "\"\"\"\n",
    "\n",
    "function getindex(A::ZgornjePasovnaMatrika, I::Vararg{Int,2})\n",
    "    \n",
    "    if I > size(A)\n",
    "        return 0\n",
    "    end\n",
    "    \n",
    "    i =  I[1] - I[2]\n",
    "\n",
    "    if i == 0\n",
    "        return A.d[I[1]]\n",
    "    end\n",
    "    i = -i\n",
    "    if i > 0 && i <= size(A.z)[1]\n",
    "        return A.z[i][I[2]-i]\n",
    "    end\n",
    "    return 0\n",
    "\n",
    "end"
   ]
  },
  {
   "cell_type": "code",
   "execution_count": 38,
   "id": "ff29ecdc-0c85-4b19-b227-14cb334e309b",
   "metadata": {},
   "outputs": [
    {
     "data": {
      "text/plain": [
       "getindex (generic function with 204 methods)"
      ]
     },
     "execution_count": 38,
     "metadata": {},
     "output_type": "execute_result"
    }
   ],
   "source": [
    "\"\"\" \n",
    "Podatkovni tip za spodnje pasovno matriko.\n",
    "Hrani vektor za diagonalo in vektor vektorjev za neničelne vrstice pod diagonalo\n",
    "\n",
    "\"\"\"\n",
    "\n",
    "struct SpodnjePasovnaMatrika{T} <: AbstractArray{T,2}\n",
    "        d::Vector{T}  \n",
    "        s::Vector{Vector{T}}\n",
    "end\n",
    "\n",
    "import Base:size,getindex\n",
    "\n",
    "\"\"\"\n",
    "    size(A)\n",
    "\n",
    "    Vrne velikost pasovne matrike\n",
    "\n",
    "\"\"\"\n",
    "\n",
    "function size(A::SpodnjePasovnaMatrika)\n",
    "    return (size(A.d)[1],size(A.d)[1])\n",
    "end\n",
    "\n",
    "\"\"\"\n",
    "    getindex(A,I) ali A[i,j]\n",
    "\n",
    "    Vrne element na mestu i,j\n",
    "\n",
    "\"\"\"\n",
    "\n",
    "function getindex(A::SpodnjePasovnaMatrika, I::Vararg{Int,2})\n",
    "    \n",
    "    if I > size(A)\n",
    "        return 0\n",
    "    end\n",
    "    \n",
    "    i =  I[1] - I[2]\n",
    "\n",
    "    if i == 0\n",
    "        return A.d[I[1]]\n",
    "    end\n",
    "    if i > 0 && i <= size(A.s)[1]\n",
    "        return A.s[i][I[1]-i]\n",
    "    end\n",
    "    return 0\n",
    "\n",
    "end"
   ]
  },
  {
   "cell_type": "code",
   "execution_count": 2,
   "id": "d2179a48-27ec-4a92-9fc0-6adc14d5b77a",
   "metadata": {},
   "outputs": [
    {
     "data": {
      "text/plain": [
       "4×4 PasovnaMatrika{Int64}:\n",
       " 1  2  3  0\n",
       " 2  2  2  5\n",
       " 3  2  1  2\n",
       " 0  5  2  1"
      ]
     },
     "execution_count": 2,
     "metadata": {},
     "output_type": "execute_result"
    }
   ],
   "source": [
    "mat = PasovnaMatrika([1,2,1,1],[[2,2,2],[3,5]],[[2,2,2],[3,5]])"
   ]
  },
  {
   "cell_type": "code",
   "execution_count": 6,
   "id": "4bcfcb21-ecb4-419b-b9b2-4edca18358df",
   "metadata": {},
   "outputs": [
    {
     "data": {
      "text/plain": [
       "4×4 PasovnaMatrika{Int64}:\n",
       " 1  2  1  0\n",
       " 2  1  2  5\n",
       " 3  2  1  2\n",
       " 0  5  2  1"
      ]
     },
     "execution_count": 6,
     "metadata": {},
     "output_type": "execute_result"
    }
   ],
   "source": [
    "mat[1,3] = 1\n",
    "mat"
   ]
  },
  {
   "cell_type": "code",
   "execution_count": 40,
   "id": "03433037-7833-42b8-9b2c-f8aa9dcbea03",
   "metadata": {},
   "outputs": [
    {
     "data": {
      "text/plain": [
       "4×4 ZgornjePasovnaMatrika{Int64}:\n",
       " 1  2  3  0\n",
       " 0  2  2  5\n",
       " 0  0  1  2\n",
       " 0  0  0  1"
      ]
     },
     "execution_count": 40,
     "metadata": {},
     "output_type": "execute_result"
    }
   ],
   "source": [
    "mat = ZgornjePasovnaMatrika([1,2,1,1],[[2,2,2],[3,5]])"
   ]
  },
  {
   "cell_type": "code",
   "execution_count": 41,
   "id": "53f9e87c-7afd-4992-9674-46f7a975ea46",
   "metadata": {},
   "outputs": [
    {
     "data": {
      "text/plain": [
       "4×4 SpodnjePasovnaMatrika{Int64}:\n",
       " 1  0  0  0\n",
       " 2  2  0  0\n",
       " 3  2  1  0\n",
       " 0  5  2  1"
      ]
     },
     "execution_count": 41,
     "metadata": {},
     "output_type": "execute_result"
    }
   ],
   "source": [
    "mat = SpodnjePasovnaMatrika([1,2,1,1],[[2,2,2],[3,5]])"
   ]
  },
  {
   "cell_type": "code",
   "execution_count": 10,
   "id": "2069c3f7-7021-46b9-b6c1-ce06bf7ce964",
   "metadata": {},
   "outputs": [
    {
     "data": {
      "text/plain": [
       "2×3 Array{Int64,2}:\n",
       " 1  1  1\n",
       " 2  3  2"
      ]
     },
     "execution_count": 10,
     "metadata": {},
     "output_type": "execute_result"
    }
   ],
   "source": [
    "mat = Array([1 1 1 ; 2 3 2])"
   ]
  },
  {
   "cell_type": "code",
   "execution_count": 11,
   "id": "f70a9345-952f-4db3-8b4c-87f9eb90aea8",
   "metadata": {},
   "outputs": [],
   "source": [
    "# test stuff\n",
    "\n",
    "struct SquaresVector <: AbstractArray{Int,3}\n",
    "    count::Int\n",
    "end\n",
    "\n",
    "Base.size(S::SquaresVector) = (S.count,S.count,S.count)\n",
    "\n",
    "Base.getindex(S::SquaresVector, I::Vararg{Int,3}) = I[1]*I[2]*I[3]"
   ]
  },
  {
   "cell_type": "code",
   "execution_count": 12,
   "id": "d246dc91-b091-4dd4-8166-68945de6f94b",
   "metadata": {},
   "outputs": [
    {
     "data": {
      "text/plain": [
       "5×5×5 SquaresVector:\n",
       "[:, :, 1] =\n",
       " 1   2   3   4   5\n",
       " 2   4   6   8  10\n",
       " 3   6   9  12  15\n",
       " 4   8  12  16  20\n",
       " 5  10  15  20  25\n",
       "\n",
       "[:, :, 2] =\n",
       "  2   4   6   8  10\n",
       "  4   8  12  16  20\n",
       "  6  12  18  24  30\n",
       "  8  16  24  32  40\n",
       " 10  20  30  40  50\n",
       "\n",
       "[:, :, 3] =\n",
       "  3   6   9  12  15\n",
       "  6  12  18  24  30\n",
       "  9  18  27  36  45\n",
       " 12  24  36  48  60\n",
       " 15  30  45  60  75\n",
       "\n",
       "[:, :, 4] =\n",
       "  4   8  12  16   20\n",
       "  8  16  24  32   40\n",
       " 12  24  36  48   60\n",
       " 16  32  48  64   80\n",
       " 20  40  60  80  100\n",
       "\n",
       "[:, :, 5] =\n",
       "  5  10  15   20   25\n",
       " 10  20  30   40   50\n",
       " 15  30  45   60   75\n",
       " 20  40  60   80  100\n",
       " 25  50  75  100  125"
      ]
     },
     "execution_count": 12,
     "metadata": {},
     "output_type": "execute_result"
    }
   ],
   "source": [
    "SquaresVector(5)"
   ]
  },
  {
   "cell_type": "code",
   "execution_count": null,
   "id": "76cfa5ff-2c36-42e9-8526-b3a833613232",
   "metadata": {},
   "outputs": [],
   "source": []
  }
 ],
 "metadata": {
  "kernelspec": {
   "display_name": "Julia 1.4.1",
   "language": "julia",
   "name": "julia-1.4"
  },
  "language_info": {
   "file_extension": ".jl",
   "mimetype": "application/julia",
   "name": "julia",
   "version": "1.4.1"
  }
 },
 "nbformat": 4,
 "nbformat_minor": 5
}
