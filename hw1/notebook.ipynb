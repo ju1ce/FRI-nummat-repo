{
 "cells": [
  {
   "cell_type": "code",
   "execution_count": 1,
   "metadata": {},
   "outputs": [],
   "source": [
    "#TODO: Everything\n",
    "using LinearAlgebra\n",
    "\n"
   ]
  },
  {
   "cell_type": "code",
   "execution_count": 2,
   "metadata": {},
   "outputs": [
    {
     "data": {
      "text/plain": [
       "setindex! (generic function with 83 methods)"
      ]
     },
     "execution_count": 2,
     "metadata": {},
     "output_type": "execute_result"
    }
   ],
   "source": [
    "\"\"\" \n",
    "Podatkovni tip za pasovno matriko.\n",
    "Hrani vektor za diagonalo, vektor vektorjev za neničelne vrstice pod diagonalo in vektor vektorjev za neničelne vrstice nad diagonalo\n",
    "\n",
    "\"\"\"\n",
    "\n",
    "struct PasovnaMatrika{T} <: AbstractArray{T,2}\n",
    "        d::Vector{T}  \n",
    "        s::Vector{Vector{T}}\n",
    "        z::Vector{Vector{T}}\n",
    "end\n",
    "\n",
    "import Base:size,getindex,setindex!\n",
    "\n",
    "\"\"\"\n",
    "    size(A)\n",
    "\n",
    "    Vrne velikost pasovne matrike\n",
    "\n",
    "\"\"\"\n",
    "\n",
    "function size(A::PasovnaMatrika)\n",
    "    return (size(A.d)[1],size(A.d)[1])\n",
    "end\n",
    "\n",
    "\"\"\"\n",
    "    getindex(A,I) ali A[i,j]\n",
    "\n",
    "    Vrne element na mestu i,j\n",
    "\n",
    "\"\"\"\n",
    "\n",
    "function getindex(A::PasovnaMatrika, I::Vararg{Int,2})\n",
    "    \n",
    "    if I > size(A)\n",
    "        return 0\n",
    "    end\n",
    "    \n",
    "    i =  I[1] - I[2]\n",
    "\n",
    "    if i == 0\n",
    "        return A.d[I[1]]\n",
    "    end\n",
    "    if i > 0 && i <= size(A.s)[1]\n",
    "        return A.s[i][I[1]-i]\n",
    "    end\n",
    "    i = -i\n",
    "    if i > 0 && i <= size(A.z)[1]\n",
    "        return A.z[i][I[2]-i]\n",
    "    end\n",
    "    return 0\n",
    "\n",
    "end\n",
    "\n",
    "\"\"\"\n",
    "    setindex(A,v,I) ali A[i,j] = v\n",
    "\n",
    "    Nastavi element na mestu i, j na v, ce je to mesto v pasu, drugače ne naredi ničesar.\n",
    "\n",
    "\"\"\"\n",
    "\n",
    "function setindex!(A::PasovnaMatrika, v, I::Vararg{Int,2})\n",
    "    \n",
    "    if I > size(A)\n",
    "        return\n",
    "    end\n",
    "    \n",
    "    i =  I[1] - I[2]\n",
    "\n",
    "    if i == 0\n",
    "        A.d[I[1]] = v\n",
    "    end\n",
    "    if i > 0 && i <= size(A.s)[1]\n",
    "        A.s[i][I[1]-i] = v\n",
    "    end\n",
    "    i = -i\n",
    "    if i > 0 && i <= size(A.z)[1]\n",
    "        A.z[i][I[2]-i] = v\n",
    "    end\n",
    "end"
   ]
  },
  {
   "cell_type": "code",
   "execution_count": 144,
   "metadata": {},
   "outputs": [
    {
     "data": {
      "text/plain": [
       "\\ (generic function with 155 methods)"
      ]
     },
     "execution_count": 144,
     "metadata": {},
     "output_type": "execute_result"
    }
   ],
   "source": [
    "import Base:*, \\\n",
    "import LinearAlgebra:lu\n",
    "\n",
    "function *(A::PasovnaMatrika, v::Vector)\n",
    "    y = zeros(size(A.d))\n",
    "    \n",
    "    for i = 1 : size(A.d)[1]\n",
    "       y[i] = v[i] * A.d[i]\n",
    "    end\n",
    "    \n",
    "    for i = 1 : size(A.s)[1]\n",
    "       for j = 1 : size(A.s[i])[1]\n",
    "            y[j+i] += v[j] * A.s[i][j]\n",
    "        end\n",
    "    end\n",
    "    \n",
    "    for i = 1 : size(A.z)[1]\n",
    "       for j = 1 : size(A.z[i])[1]\n",
    "            y[j] += v[j+i] * A.z[i][j]\n",
    "        end\n",
    "    end\n",
    "    \n",
    "    return y\n",
    "end\n",
    "\n",
    "function lu(A::PasovnaMatrika)\n",
    "    \n",
    "    n = length(A.d)\n",
    "    ns = length(A.s)\n",
    "    nz = length(A.z)\n",
    "    \n",
    "    U = PasovnaMatrika(deepcopy(A.d),deepcopy(A.s),deepcopy(A.z))\n",
    "    #U = copy(A)\n",
    "    L = SpodnjePasovnaMatrika(ones(length(A.d)),deepcopy(A.s))\n",
    "\n",
    "    for i = 1:n-1\n",
    "        for j = i+1:i+ns\n",
    "            if j > n\n",
    "                break\n",
    "            end\n",
    "            l = U[j,i]/U[i,i]\n",
    "            L[j,i] = l\n",
    "            U[j,:] -= U[i,:]*l\n",
    "        end\n",
    "    end\n",
    "\n",
    "    #display(U)\n",
    "    \n",
    "    U = ZgornjePasovnaMatrika(U.d,U.z)\n",
    "    \n",
    "    return L, U\n",
    "end\n",
    "\n",
    "function \\(A::PasovnaMatrika, b::Vector)\n",
    "     \n",
    "    x = copy(b)\n",
    "    n = length(b)\n",
    "    ns = length(A.s)\n",
    "    nz = length(A.z)\n",
    "\n",
    "    for i = 1:n-1\n",
    "        for j = i+1:i+ns\n",
    "            if j > n\n",
    "                break\n",
    "            end\n",
    "            #row = A[i,:]\n",
    "            l = A[j,i]/A[i,i]\n",
    "            A[j,:] -= A[i,:]*l\n",
    "            x[j] -= x[i]*l\n",
    "        end\n",
    "    end\n",
    "    \n",
    "    display(A)\n",
    "    display(x)\n",
    "    \n",
    "    for i = n:-1:1\n",
    "        temp = x[i]\n",
    "        for j = i+1:n\n",
    "            display(j)\n",
    "            if j > nz+i\n",
    "                break\n",
    "            end\n",
    "            temp -= x[j]*A[i,j]\n",
    "            display(temp)\n",
    "        end\n",
    "        x[i] = temp/A[i,i]\n",
    "        display((temp,A[i,i]))\n",
    "    end\n",
    "    \n",
    "    return x\n",
    "end\n",
    "\n",
    "function \\(A::ZgornjePasovnaMatrika, b::Vector)\n",
    "     \n",
    "    x = copy(b)\n",
    "    n = length(b)\n",
    "    nz = length(A.z)\n",
    "\n",
    "    for i = n:-1:1\n",
    "        temp = x[i]\n",
    "        for j = i+1:n\n",
    "            if j > nz+i\n",
    "                break\n",
    "            end\n",
    "            temp -= x[j]*A[i,j]\n",
    "        end\n",
    "        x[i] = temp/A[i,i]\n",
    "    end\n",
    "    \n",
    "    return x\n",
    "end\n",
    "\n",
    "function \\(A::SpodnjePasovnaMatrika, b::Vector)\n",
    "     \n",
    "    x = copy(b)\n",
    "    n = length(b)\n",
    "    ns = length(A.s)\n",
    "\n",
    "    display(A)\n",
    "    \n",
    "    for i = 1:n-1\n",
    "        for j = i+1:i+ns\n",
    "            if j > n\n",
    "                break\n",
    "            end\n",
    "            l = A[j,i]/A[i,i]\n",
    "            A[j,:] -= A[i,:]*l\n",
    "            x[j] -= x[i]*l\n",
    "        end\n",
    "    end\n",
    "    \n",
    "    for i = n:-1:1\n",
    "        x[i] = x[i]/A[i,i]\n",
    "    end\n",
    "    \n",
    "    return x\n",
    "end"
   ]
  },
  {
   "cell_type": "code",
   "execution_count": 145,
   "metadata": {},
   "outputs": [
    {
     "data": {
      "text/plain": [
       "3×3 PasovnaMatrika{Float64}:\n",
       " 1.0  2.0  0  \n",
       " 4.0  5.0  6.0\n",
       " 7.0  8.0  9.0"
      ]
     },
     "metadata": {},
     "output_type": "display_data"
    },
    {
     "data": {
      "text/plain": [
       "3×3 PasovnaMatrika{Float64}:\n",
       " 1.0   2.0   0  \n",
       " 0.0  -3.0   6.0\n",
       " 0.0   0.0  -3.0"
      ]
     },
     "metadata": {},
     "output_type": "display_data"
    },
    {
     "data": {
      "text/plain": [
       "3-element Array{Float64,1}:\n",
       "  1.0\n",
       " -2.0\n",
       "  0.0"
      ]
     },
     "metadata": {},
     "output_type": "display_data"
    },
    {
     "data": {
      "text/plain": [
       "(0.0, -3.0)"
      ]
     },
     "metadata": {},
     "output_type": "display_data"
    },
    {
     "data": {
      "text/plain": [
       "3"
      ]
     },
     "metadata": {},
     "output_type": "display_data"
    },
    {
     "data": {
      "text/plain": [
       "-2.0"
      ]
     },
     "metadata": {},
     "output_type": "display_data"
    },
    {
     "data": {
      "text/plain": [
       "(-2.0, -3.0)"
      ]
     },
     "metadata": {},
     "output_type": "display_data"
    },
    {
     "data": {
      "text/plain": [
       "2"
      ]
     },
     "metadata": {},
     "output_type": "display_data"
    },
    {
     "data": {
      "text/plain": [
       "-0.33333333333333326"
      ]
     },
     "metadata": {},
     "output_type": "display_data"
    },
    {
     "data": {
      "text/plain": [
       "3"
      ]
     },
     "metadata": {},
     "output_type": "display_data"
    },
    {
     "data": {
      "text/plain": [
       "(-0.33333333333333326, 1.0)"
      ]
     },
     "metadata": {},
     "output_type": "display_data"
    },
    {
     "data": {
      "text/plain": [
       "3-element Array{Float64,1}:\n",
       " -0.33333333333333326\n",
       "  0.6666666666666666 \n",
       " -0.0                "
      ]
     },
     "metadata": {},
     "output_type": "display_data"
    },
    {
     "data": {
      "text/plain": [
       "3×3 SpodnjePasovnaMatrika{Float64}:\n",
       " 1.0   0    0  \n",
       " 0.0   1.0  0  \n",
       " 0.0  -0.0  1.0"
      ]
     },
     "metadata": {},
     "output_type": "display_data"
    },
    {
     "data": {
      "text/plain": [
       "3×3 ZgornjePasovnaMatrika{Float64}:\n",
       " 1.0   2.0   0  \n",
       " 0    -3.0   6.0\n",
       " 0     0    -3.0"
      ]
     },
     "metadata": {},
     "output_type": "display_data"
    }
   ],
   "source": [
    "mat = PasovnaMatrika([1.0, 5, 9],[[4,8.0],[7.0]],[[2.0,6.0]])\n",
    "display(mat)\n",
    "v=[1.0,2.0,3.0]\n",
    "display(mat\\v)\n",
    "display(lu(mat)[1])\n",
    "display(lu(mat)[2])"
   ]
  },
  {
   "cell_type": "code",
   "execution_count": 112,
   "metadata": {},
   "outputs": [
    {
     "data": {
      "text/plain": [
       "3×3 Array{Float64,2}:\n",
       " 1.0  2.0  0.0\n",
       " 4.0  5.0  6.0\n",
       " 7.0  8.0  9.0"
      ]
     },
     "metadata": {},
     "output_type": "display_data"
    },
    {
     "data": {
      "text/plain": [
       "3-element Array{Float64,1}:\n",
       " -0.3333333333333333    \n",
       "  0.6666666666666666    \n",
       " -1.0570971181733665e-17"
      ]
     },
     "execution_count": 112,
     "metadata": {},
     "output_type": "execute_result"
    }
   ],
   "source": [
    "mat = [1.0 2 0;4 5 6;7 8 9]\n",
    "display(mat)\n",
    "#lu(mat)\n",
    "mat\\v"
   ]
  },
  {
   "cell_type": "code",
   "execution_count": 23,
   "metadata": {},
   "outputs": [
    {
     "data": {
      "text/plain": [
       "4×4 PasovnaMatrika{Float64}:\n",
       " 1.0   2.0  0    0  \n",
       " 1.0  -1.0  2.0  0  \n",
       " 0     1.0  1.0  2.0\n",
       " 0     0    1.0  1.0"
      ]
     },
     "metadata": {},
     "output_type": "display_data"
    },
    {
     "data": {
      "text/plain": [
       "4×4 PasovnaMatrika{Float64}:\n",
       " 1.0   2.0  0    0  \n",
       " 1.0  -1.0  2.0  0  \n",
       " 0     1.0  3.0  2.0\n",
       " 0     0    1.0  1.0"
      ]
     },
     "metadata": {},
     "output_type": "display_data"
    },
    {
     "data": {
      "text/plain": [
       "4×4 PasovnaMatrika{Float64}:\n",
       " 1.0   2.0  0    0       \n",
       " 1.0  -1.0  2.0  0       \n",
       " 0     1.0  3.0  2.0     \n",
       " 0     0    1.0  0.333333"
      ]
     },
     "metadata": {},
     "output_type": "display_data"
    }
   ],
   "source": [
    "s = [1.0,1.0,1.0]\n",
    "d = [1.0,1.0,1.0,1.0]\n",
    "z = [2.0,2.0,2.0]\n",
    "\n",
    "n = 4\n",
    "\n",
    "for i = 2:n\n",
    "    l = s[i-1]/d[i-1]\n",
    "    d[i] -= l*z[i-1]\n",
    "    display(PasovnaMatrika(d,[s],[z]))\n",
    "end\n"
   ]
  },
  {
   "cell_type": "code",
   "execution_count": 54,
   "metadata": {},
   "outputs": [
    {
     "data": {
      "text/plain": [
       "4×4 PasovnaMatrika{Float64}:\n",
       " 1.0  2.0  0    0  \n",
       " 1.0  1.0  2.0  0  \n",
       " 0    1.0  1.0  2.0\n",
       " 0    0    1.0  1.0"
      ]
     },
     "metadata": {},
     "output_type": "display_data"
    },
    {
     "data": {
      "text/plain": [
       "4×4 PasovnaMatrika{Float64}:\n",
       " 1.0  2.0  0    0  \n",
       " 1.0  1.0  2.0  0  \n",
       " 0    1.0  1.0  2.0\n",
       " 0    0    1.0  1.0"
      ]
     },
     "metadata": {},
     "output_type": "display_data"
    },
    {
     "data": {
      "text/plain": [
       "2-element Array{Int32,1}:\n",
       " 1\n",
       " 2"
      ]
     },
     "metadata": {},
     "output_type": "display_data"
    },
    {
     "data": {
      "text/plain": [
       "2-element Array{Int32,1}:\n",
       " 2\n",
       " 3"
      ]
     },
     "metadata": {},
     "output_type": "display_data"
    },
    {
     "data": {
      "text/plain": [
       "2-element Array{Int32,1}:\n",
       " 3\n",
       " 4"
      ]
     },
     "metadata": {},
     "output_type": "display_data"
    },
    {
     "data": {
      "text/plain": [
       "4×4 PasovnaMatrika{Float64}:\n",
       " 1.0   2.0  0    0       \n",
       " 0.0  -1.0  2.0  0       \n",
       " 0     0.0  3.0  2.0     \n",
       " 0     0    0.0  0.333333"
      ]
     },
     "metadata": {},
     "output_type": "display_data"
    },
    {
     "data": {
      "text/plain": [
       "4-element Array{Float64,1}:\n",
       " 1.0               \n",
       " 0.0               \n",
       " 1.0               \n",
       " 0.6666666666666667"
      ]
     },
     "metadata": {},
     "output_type": "display_data"
    },
    {
     "data": {
      "text/plain": [
       "4×4 Array{Float64,2}:\n",
       " 1.0   2.0  0.0  0.0     \n",
       " 0.0  -1.0  2.0  0.0     \n",
       " 0.0   0.0  3.0  2.0     \n",
       " 0.0   0.0  0.0  0.333333"
      ]
     },
     "metadata": {},
     "output_type": "display_data"
    },
    {
     "data": {
      "text/plain": [
       "4×4 SpodnjePasovnaMatrika{Float64}:\n",
       " 1.0   0    0    0       \n",
       " 0.0  -1.0  0    0       \n",
       " 0    -0.0  3.0  0       \n",
       " 0     0    0.0  0.333333"
      ]
     },
     "metadata": {},
     "output_type": "display_data"
    }
   ],
   "source": [
    "mat = PasovnaMatrika([1.0,1.0,1.0,1.0],[[1.0,1.0,1.0]],[[2.0,2.0,2.0]])\n",
    "v = [1.0,1,1,1]\n",
    "\n",
    "display(mat)\n",
    "\n",
    "mat\\v\n",
    "lu(mat)"
   ]
  },
  {
   "cell_type": "code",
   "execution_count": 128,
   "metadata": {},
   "outputs": [
    {
     "data": {
      "text/plain": [
       "4-element Array{Float64,1}:\n",
       "  5.0\n",
       " -2.0\n",
       " -1.0\n",
       "  2.0"
      ]
     },
     "execution_count": 128,
     "metadata": {},
     "output_type": "execute_result"
    }
   ],
   "source": [
    "mat = [1.0 2 0 0 ; 1 1 2 0 ; 0 1 1 2 ; 0 0 1 1]\n",
    "mat\\v"
   ]
  },
  {
   "cell_type": "code",
   "execution_count": 79,
   "metadata": {},
   "outputs": [
    {
     "data": {
      "text/plain": [
       "4-element Array{Float64,1}:\n",
       " 11.0\n",
       " 17.0\n",
       " 15.0\n",
       "  9.0"
      ]
     },
     "execution_count": 79,
     "metadata": {},
     "output_type": "execute_result"
    }
   ],
   "source": [
    "mat = PasovnaMatrika([3.0,2,1,2],[[3.0,6,2],[2.0,1]],[[5.0,3,2]])\n",
    "v = [2,1,3,1]\n",
    "\n",
    "mat*v"
   ]
  },
  {
   "cell_type": "code",
   "execution_count": 38,
   "metadata": {},
   "outputs": [
    {
     "data": {
      "text/plain": [
       "LU{Float64,Array{Float64,2}}\n",
       "L factor:\n",
       "3×3 Array{Float64,2}:\n",
       " 1.0       0.0  0.0\n",
       " 0.142857  1.0  0.0\n",
       " 0.571429  0.5  1.0\n",
       "U factor:\n",
       "3×3 Array{Float64,2}:\n",
       " 7.0  8.0        9.0    \n",
       " 0.0  0.857143  -1.28571\n",
       " 0.0  0.0        1.5    "
      ]
     },
     "execution_count": 38,
     "metadata": {},
     "output_type": "execute_result"
    }
   ],
   "source": [
    "mat = [1.0 2 0;4 5 6;7 8 9]\n",
    "lu(mat)"
   ]
  },
  {
   "cell_type": "code",
   "execution_count": 13,
   "metadata": {},
   "outputs": [
    {
     "ename": "BoundsError",
     "evalue": "\u001b[91mBoundsError: attempt to access 3×3 PasovnaMatrika{Float64} at index [4, Base.Slice(Base.OneTo(3))]\u001b[39m",
     "output_type": "error",
     "traceback": [
      "\u001b[91mBoundsError: attempt to access 3×3 PasovnaMatrika{Float64} at index [4, Base.Slice(Base.OneTo(3))]\u001b[39m",
      "",
      "Stacktrace:",
      " [1] throw_boundserror(::PasovnaMatrika{Float64}, ::Tuple{Int32,Base.Slice{Base.OneTo{Int32}}}) at ./abstractarray.jl:484",
      " [2] checkbounds at ./abstractarray.jl:449 [inlined]",
      " [3] _getindex at ./multidimensional.jl:596 [inlined]",
      " [4] getindex at ./abstractarray.jl:905 [inlined]",
      " [5] \\(::PasovnaMatrika{Float64}, ::Array{Int32,1}) at ./In[12]:38",
      " [6] top-level scope at In[13]:3"
     ]
    }
   ],
   "source": [
    "mat = PasovnaMatrika([1.0, 5, 9],[[4.0,8],[7.0]],[[2.0,6]])\n",
    "v=[1,2,3]\n",
    "mat\\v"
   ]
  },
  {
   "cell_type": "code",
   "execution_count": 129,
   "metadata": {},
   "outputs": [
    {
     "data": {
      "text/plain": [
       "4-element Array{Int64,1}:\n",
       " 11\n",
       " 17\n",
       " 15\n",
       "  9"
      ]
     },
     "execution_count": 129,
     "metadata": {},
     "output_type": "execute_result"
    }
   ],
   "source": [
    "mat = [3 5 0 0; 3 2 3 0; 2 6 1 2; 0 1 2 2]\n",
    "mat * v"
   ]
  },
  {
   "cell_type": "code",
   "execution_count": 8,
   "metadata": {},
   "outputs": [
    {
     "data": {
      "text/plain": [
       "setindex! (generic function with 84 methods)"
      ]
     },
     "execution_count": 8,
     "metadata": {},
     "output_type": "execute_result"
    }
   ],
   "source": [
    "\"\"\" \n",
    "Podatkovni tip za zgornje pasovno matriko.\n",
    "Hrani vektor za diagonalo in vektor vektorjev za neničelne vrstice nad diagonalo\n",
    "\n",
    "\"\"\"\n",
    "\n",
    "struct ZgornjePasovnaMatrika{T} <: AbstractArray{T,2}\n",
    "        d::Vector{T}  \n",
    "        z::Vector{Vector{T}}\n",
    "end\n",
    "\n",
    "import Base:size,getindex,setindex!\n",
    "\n",
    "\"\"\"\n",
    "    size(A)\n",
    "\n",
    "    Vrne velikost pasovne matrike\n",
    "\n",
    "\"\"\"\n",
    "\n",
    "function size(A::ZgornjePasovnaMatrika)\n",
    "    return (size(A.d)[1],size(A.d)[1])\n",
    "end\n",
    "\n",
    "\"\"\"\n",
    "    getindex(A,I) ali A[i,j]\n",
    "\n",
    "    Vrne element na mestu i,j\n",
    "\n",
    "\"\"\"\n",
    "\n",
    "function getindex(A::ZgornjePasovnaMatrika, I::Vararg{Int,2})\n",
    "    \n",
    "    if I > size(A)\n",
    "        return 0\n",
    "    end\n",
    "    \n",
    "    i =  I[1] - I[2]\n",
    "\n",
    "    if i == 0\n",
    "        return A.d[I[1]]\n",
    "    end\n",
    "    i = -i\n",
    "    if i > 0 && i <= size(A.z)[1]\n",
    "        return A.z[i][I[2]-i]\n",
    "    end\n",
    "    return 0\n",
    "\n",
    "end\n",
    "\n",
    "function setindex!(A::ZgornjePasovnaMatrika, v, I::Vararg{Int,2})\n",
    "    \n",
    "    if I > size(A)\n",
    "        return\n",
    "    end\n",
    "    \n",
    "    i =  I[1] - I[2]\n",
    "\n",
    "    if i == 0\n",
    "        A.d[I[1]] = v\n",
    "    end\n",
    "    i = -i\n",
    "    if i > 0 && i <= size(A.z)[1]\n",
    "        A.z[i][I[2]-i] = v\n",
    "    end\n",
    "end"
   ]
  },
  {
   "cell_type": "code",
   "execution_count": 9,
   "metadata": {},
   "outputs": [
    {
     "data": {
      "text/plain": [
       "setindex! (generic function with 85 methods)"
      ]
     },
     "execution_count": 9,
     "metadata": {},
     "output_type": "execute_result"
    }
   ],
   "source": [
    "\"\"\" \n",
    "Podatkovni tip za spodnje pasovno matriko.\n",
    "Hrani vektor za diagonalo in vektor vektorjev za neničelne vrstice pod diagonalo\n",
    "\n",
    "\"\"\"\n",
    "\n",
    "struct SpodnjePasovnaMatrika{T} <: AbstractArray{T,2}\n",
    "        d::Vector{T}  \n",
    "        s::Vector{Vector{T}}\n",
    "end\n",
    "\n",
    "import Base:size,getindex,setindex!\n",
    "\n",
    "\"\"\"\n",
    "    size(A)\n",
    "\n",
    "    Vrne velikost pasovne matrike\n",
    "\n",
    "\"\"\"\n",
    "\n",
    "function size(A::SpodnjePasovnaMatrika)\n",
    "    return (size(A.d)[1],size(A.d)[1])\n",
    "end\n",
    "\n",
    "\"\"\"\n",
    "    getindex(A,I) ali A[i,j]\n",
    "\n",
    "    Vrne element na mestu i,j\n",
    "\n",
    "\"\"\"\n",
    "\n",
    "function getindex(A::SpodnjePasovnaMatrika, I::Vararg{Int,2})\n",
    "    \n",
    "    if I > size(A)\n",
    "        return 0\n",
    "    end\n",
    "    \n",
    "    i =  I[1] - I[2]\n",
    "\n",
    "    if i == 0\n",
    "        return A.d[I[1]]\n",
    "    end\n",
    "    if i > 0 && i <= size(A.s)[1]\n",
    "        return A.s[i][I[1]-i]\n",
    "    end\n",
    "    return 0\n",
    "\n",
    "end\n",
    "\n",
    "function setindex!(A::SpodnjePasovnaMatrika, v, I::Vararg{Int,2})\n",
    "    \n",
    "    if I > size(A)\n",
    "        return\n",
    "    end\n",
    "    \n",
    "    i =  I[1] - I[2]\n",
    "\n",
    "    if i == 0\n",
    "        A.d[I[1]] = v\n",
    "    end\n",
    "    if i > 0 && i <= size(A.s)[1]\n",
    "        A.s[i][I[1]-i] = v\n",
    "    end\n",
    "end"
   ]
  },
  {
   "cell_type": "code",
   "execution_count": null,
   "metadata": {},
   "outputs": [],
   "source": []
  },
  {
   "cell_type": "code",
   "execution_count": 35,
   "metadata": {},
   "outputs": [
    {
     "data": {
      "text/plain": [
       "4×4 PasovnaMatrika{Int32}:\n",
       " 1  2  3  0\n",
       " 2  2  2  5\n",
       " 3  2  1  2\n",
       " 0  5  2  1"
      ]
     },
     "execution_count": 35,
     "metadata": {},
     "output_type": "execute_result"
    }
   ],
   "source": [
    "mat = PasovnaMatrika([1,2,1,1],[[2,2,2],[3,5]],[[2,2,2],[3,5]])"
   ]
  },
  {
   "cell_type": "code",
   "execution_count": 36,
   "metadata": {},
   "outputs": [
    {
     "data": {
      "text/plain": [
       "4×4 PasovnaMatrika{Int32}:\n",
       " 1  2  1  0\n",
       " 2  2  2  5\n",
       " 3  2  1  2\n",
       " 0  5  2  1"
      ]
     },
     "execution_count": 36,
     "metadata": {},
     "output_type": "execute_result"
    }
   ],
   "source": [
    "mat[1,3] = 1\n",
    "mat"
   ]
  },
  {
   "cell_type": "code",
   "execution_count": 40,
   "metadata": {},
   "outputs": [
    {
     "data": {
      "text/plain": [
       "4×4 ZgornjePasovnaMatrika{Int64}:\n",
       " 1  2  3  0\n",
       " 0  2  2  5\n",
       " 0  0  1  2\n",
       " 0  0  0  1"
      ]
     },
     "execution_count": 40,
     "metadata": {},
     "output_type": "execute_result"
    }
   ],
   "source": [
    "mat = ZgornjePasovnaMatrika([1,2,1,1],[[2,2,2],[3,5]])"
   ]
  },
  {
   "cell_type": "code",
   "execution_count": 41,
   "metadata": {},
   "outputs": [
    {
     "data": {
      "text/plain": [
       "4×4 SpodnjePasovnaMatrika{Int64}:\n",
       " 1  0  0  0\n",
       " 2  2  0  0\n",
       " 3  2  1  0\n",
       " 0  5  2  1"
      ]
     },
     "execution_count": 41,
     "metadata": {},
     "output_type": "execute_result"
    }
   ],
   "source": [
    "mat = SpodnjePasovnaMatrika([1,2,1,1],[[2,2,2],[3,5]])"
   ]
  },
  {
   "cell_type": "code",
   "execution_count": 10,
   "metadata": {},
   "outputs": [
    {
     "data": {
      "text/plain": [
       "2×3 Array{Int64,2}:\n",
       " 1  1  1\n",
       " 2  3  2"
      ]
     },
     "execution_count": 10,
     "metadata": {},
     "output_type": "execute_result"
    }
   ],
   "source": [
    "mat = Array([1 1 1 ; 2 3 2])"
   ]
  },
  {
   "cell_type": "code",
   "execution_count": 11,
   "metadata": {},
   "outputs": [],
   "source": [
    "# test stuff\n",
    "\n",
    "struct SquaresVector <: AbstractArray{Int,3}\n",
    "    count::Int\n",
    "end\n",
    "\n",
    "Base.size(S::SquaresVector) = (S.count,S.count,S.count)\n",
    "\n",
    "Base.getindex(S::SquaresVector, I::Vararg{Int,3}) = I[1]*I[2]*I[3]"
   ]
  },
  {
   "cell_type": "code",
   "execution_count": 12,
   "metadata": {},
   "outputs": [
    {
     "data": {
      "text/plain": [
       "5×5×5 SquaresVector:\n",
       "[:, :, 1] =\n",
       " 1   2   3   4   5\n",
       " 2   4   6   8  10\n",
       " 3   6   9  12  15\n",
       " 4   8  12  16  20\n",
       " 5  10  15  20  25\n",
       "\n",
       "[:, :, 2] =\n",
       "  2   4   6   8  10\n",
       "  4   8  12  16  20\n",
       "  6  12  18  24  30\n",
       "  8  16  24  32  40\n",
       " 10  20  30  40  50\n",
       "\n",
       "[:, :, 3] =\n",
       "  3   6   9  12  15\n",
       "  6  12  18  24  30\n",
       "  9  18  27  36  45\n",
       " 12  24  36  48  60\n",
       " 15  30  45  60  75\n",
       "\n",
       "[:, :, 4] =\n",
       "  4   8  12  16   20\n",
       "  8  16  24  32   40\n",
       " 12  24  36  48   60\n",
       " 16  32  48  64   80\n",
       " 20  40  60  80  100\n",
       "\n",
       "[:, :, 5] =\n",
       "  5  10  15   20   25\n",
       " 10  20  30   40   50\n",
       " 15  30  45   60   75\n",
       " 20  40  60   80  100\n",
       " 25  50  75  100  125"
      ]
     },
     "execution_count": 12,
     "metadata": {},
     "output_type": "execute_result"
    }
   ],
   "source": [
    "SquaresVector(5)"
   ]
  },
  {
   "cell_type": "code",
   "execution_count": 131,
   "metadata": {},
   "outputs": [
    {
     "data": {
      "text/plain": [
       "3×3 Array{Int64,2}:\n",
       " 2  1  0\n",
       " 1  2  1\n",
       " 0  1  2"
      ]
     },
     "execution_count": 131,
     "metadata": {},
     "output_type": "execute_result"
    }
   ],
   "source": [
    "mat = [2 1 0;1 2 1;0 1 2]"
   ]
  },
  {
   "cell_type": "code",
   "execution_count": 132,
   "metadata": {},
   "outputs": [
    {
     "data": {
      "text/plain": [
       "1×3 Array{Int64,2}:\n",
       " 1  1  1"
      ]
     },
     "execution_count": 132,
     "metadata": {},
     "output_type": "execute_result"
    }
   ],
   "source": [
    "b = [1 1 1]"
   ]
  },
  {
   "cell_type": "code",
   "execution_count": 133,
   "metadata": {},
   "outputs": [
    {
     "data": {
      "text/plain": [
       "3×1 Array{Float64,2}:\n",
       " 1.0000000000000002\n",
       " 1.3333333333333335\n",
       " 1.0000000000000002"
      ]
     },
     "execution_count": 133,
     "metadata": {},
     "output_type": "execute_result"
    }
   ],
   "source": [
    "mat/b"
   ]
  },
  {
   "cell_type": "code",
   "execution_count": null,
   "metadata": {},
   "outputs": [],
   "source": []
  }
 ],
 "metadata": {
  "kernelspec": {
   "display_name": "Julia 1.0.4",
   "language": "julia",
   "name": "julia-1.0"
  },
  "language_info": {
   "file_extension": ".jl",
   "mimetype": "application/julia",
   "name": "julia",
   "version": "1.0.4"
  }
 },
 "nbformat": 4,
 "nbformat_minor": 5
}
